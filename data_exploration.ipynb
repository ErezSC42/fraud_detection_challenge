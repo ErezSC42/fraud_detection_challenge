{
 "cells": [
  {
   "cell_type": "code",
   "execution_count": 1,
   "outputs": [],
   "source": [
    "%load_ext autoreload\n",
    "%autoreload 2"
   ],
   "metadata": {
    "collapsed": false,
    "ExecuteTime": {
     "end_time": "2023-05-22T17:45:25.658363712Z",
     "start_time": "2023-05-22T17:45:25.654342853Z"
    }
   }
  },
  {
   "cell_type": "code",
   "execution_count": 86,
   "outputs": [],
   "source": [
    "import warnings\n",
    "\n",
    "warnings.filterwarnings(action=\"ignore\")\n",
    "\n",
    "import os\n",
    "import tqdm\n",
    "import numpy as np\n",
    "import pandas as pd\n",
    "\n",
    "from typing import Tuple, List, Dict, Any\n",
    "from constants import *\n",
    "from features.user import User\n",
    "\n",
    "\n",
    "# 90 of the test segments are genuine (i.e., benign) and 10 segments are entered bya masquerader (randomly sorted)."
   ],
   "metadata": {
    "collapsed": false,
    "ExecuteTime": {
     "end_time": "2023-05-22T19:07:39.688813187Z",
     "start_time": "2023-05-22T19:07:39.648598742Z"
    }
   }
  },
  {
   "cell_type": "code",
   "execution_count": 3,
   "metadata": {
    "ExecuteTime": {
     "end_time": "2023-05-22T17:45:26.310653810Z",
     "start_time": "2023-05-22T17:45:26.283279054Z"
    }
   },
   "outputs": [],
   "source": [
    "#   load answer for classifcation\n",
    "gt_df = pd.read_csv(\"challengeToFill.csv\", index_col=0).T[TRAIN_SEGMENT_COUNT:].reset_index(drop=True)\n",
    "\n",
    "\n",
    "\n",
    "\n",
    "# dev_set_df = gt_df.T.iloc[TRAIN_SEGMENT_COUNT:, :DEV_USERS_COUNT]"
   ]
  },
  {
   "cell_type": "code",
   "execution_count": 87,
   "metadata": {
    "ExecuteTime": {
     "end_time": "2023-05-22T19:07:58.449463155Z",
     "start_time": "2023-05-22T19:07:42.148843775Z"
    }
   },
   "outputs": [
    {
     "name": "stderr",
     "output_type": "stream",
     "text": [
      "100%|██████████| 10/10 [00:16<00:00,  1.63s/it]\n"
     ]
    }
   ],
   "source": [
    "user_list = [f\"User{i}\" for i in range(10)]\n",
    "submission_user_list = [f\"User{i}\" for i in range(10, 40)]\n",
    "data_path = [f\"data/{uid}\" for uid in user_list]\n",
    "submission_data_path = [f\"data/{uid}\" for uid in submission_user_list]\n",
    "\n",
    "user_data = {}\n",
    "\n",
    "for user_id, user_data_path in tqdm.tqdm(zip(user_list, data_path), total=len(user_list)):\n",
    "    #   load user data\n",
    "    user_data[user_id] = User(user_id, user_data_path, gt_df[user_id])\n",
    "\n",
    "    # create segment features\n",
    "    user_data[user_id].build_segment_features()\n"
   ]
  },
  {
   "cell_type": "code",
   "execution_count": 88,
   "outputs": [],
   "source": [
    "import matplotlib.pyplot as plt\n",
    "\n",
    "all_test_segments = [user_data[user_id].segment_df_test.select_dtypes(\"number\") for user_id in user_list]\n",
    "all_test_segments_gt = [user_data[user_id].user_anomaly_gt for user_id in user_list]\n",
    "\n",
    "all_test_segments = pd.concat(all_test_segments).reset_index(drop=True)\n",
    "all_test_segments[\"anomaly\"] = pd.concat(all_test_segments_gt).reset_index(drop=True)\n",
    "\n",
    "all_test_segments[\"noise\"] = np.random.rand(len(all_test_segments))\n",
    "\n",
    "\n",
    "corr = all_test_segments.corr()"
   ],
   "metadata": {
    "collapsed": false,
    "ExecuteTime": {
     "end_time": "2023-05-22T19:08:00.914353967Z",
     "start_time": "2023-05-22T19:08:00.891090920Z"
    }
   }
  },
  {
   "cell_type": "code",
   "execution_count": 89,
   "outputs": [],
   "source": [
    "#   get feature correlations to anomaly\n",
    "\n",
    "TOP_K = 50\n",
    "\n",
    "corr[\"anomaly\"].sort_values(ascending=False)\n",
    "\n",
    "top_k_features = corr[\"anomaly\"].sort_values(ascending=False)[1:TOP_K].index.tolist()\n",
    "\n",
    "if \"noise\" in top_k_features:\n",
    "    top_k_features.remove(\"noise\")"
   ],
   "metadata": {
    "collapsed": false,
    "ExecuteTime": {
     "end_time": "2023-05-22T19:08:02.704934225Z",
     "start_time": "2023-05-22T19:08:02.686139024Z"
    }
   }
  },
  {
   "cell_type": "code",
   "execution_count": 90,
   "outputs": [
    {
     "data": {
      "text/plain": "['cmds_not_in_train',\n 'not_in_train_has_all_lowercase_cmds',\n 'not_in_train_has_mail_cmds',\n 'not_in_train_has_uppercase_cmds',\n 'not_in_train_three_chars_cmds',\n 'not_in_train_four_chars_cmds',\n 'not_in_train_has_numerics_cmds',\n 'not_in_train_has_dot_in_middle_cmds',\n 'not_in_train_two_chars_cmds',\n 'not_in_train_has_coding_cmds',\n 'not_in_train_single_chars_cmds',\n 'not_in_train_starts_with_dotfile_cmds',\n 'not_in_train_has_ssh_cmds',\n 'has_ssh_cmds',\n 'has_uppercase_cmds',\n 'not_in_train_has_navigation_cmds',\n 'has_dot_in_middle_cmds',\n 'has_mail_cmds',\n 'unique_cmds',\n 'mean_cmd_length',\n 'max_cmd_len',\n 'has_all_lowercase_cmds',\n 'not_in_train_has_kill_cmds',\n 'not_in_train_has_download_cmds',\n 'has_numerics_cmds',\n 'two_chars_cmds',\n 'has_navigation_cmds',\n 'not_in_train_has_zip_cmds',\n 'has_search_cmds',\n 'has_download_cmds',\n 'not_in_train_has_help_cmds',\n 'four_chars_cmds',\n 'three_chars_cmds',\n 'has_permission_change_cmds',\n 'has_kill_cmds',\n 'has_coding_cmds',\n 'not_in_train_has_permission_change_cmds',\n 'has_fx_cmds',\n 'not_in_train_has_fx_cmds',\n 'not_in_train_has_text_documents',\n 'has_help_cmds',\n 'has_text_documents',\n 'starts_with_dotfile_cmds',\n 'single_chars_cmds',\n 'has_zip_cmds',\n 'min_cmd_len',\n 'has_encryption_cmds',\n 'longest_same_cmd_sequence']"
     },
     "execution_count": 90,
     "metadata": {},
     "output_type": "execute_result"
    }
   ],
   "source": [
    "top_k_features"
   ],
   "metadata": {
    "collapsed": false,
    "ExecuteTime": {
     "end_time": "2023-05-22T19:08:03.266150868Z",
     "start_time": "2023-05-22T19:08:03.250947137Z"
    }
   }
  },
  {
   "cell_type": "code",
   "execution_count": 8,
   "outputs": [],
   "source": [
    "# import plotly.express as px\n",
    "# fig = px.imshow(corr)\n",
    "# fig.show()"
   ],
   "metadata": {
    "collapsed": false,
    "ExecuteTime": {
     "end_time": "2023-05-22T17:45:42.152292586Z",
     "start_time": "2023-05-22T17:45:42.143007538Z"
    }
   }
  },
  {
   "cell_type": "code",
   "execution_count": 97,
   "metadata": {
    "ExecuteTime": {
     "end_time": "2023-05-22T19:09:58.509297984Z",
     "start_time": "2023-05-22T19:09:57.496227392Z"
    }
   },
   "outputs": [
    {
     "name": "stderr",
     "output_type": "stream",
     "text": [
      "100%|██████████| 10/10 [00:00<00:00, 10.05it/s]\n"
     ]
    }
   ],
   "source": [
    "''' first outlier detection algo '''\n",
    "from sklearn.decomposition import PCA\n",
    "from eval.metrics import detection_metrics, ScoreCounter\n",
    "from detection.pipeline import DetectionPipeline\n",
    "from sklearn.preprocessing import MinMaxScaler\n",
    "\n",
    "\n",
    "user_scores_high_dim = {}\n",
    "user_scores_low_dim = {}\n",
    "session_classification = {}\n",
    "\n",
    "score_counter = ScoreCounter(len(user_list))\n",
    "\n",
    "for user_id in tqdm.tqdm(user_list):\n",
    "\n",
    "    anomaly_ground_truth = user_data[user_id].user_anomaly_gt.values.astype(int) # test set only\n",
    "    anomaly_ground_truth = np.array([1 if x == 0 else -1 for x in anomaly_ground_truth])\n",
    "\n",
    "    ''' high dim data '''\n",
    "\n",
    "    detector = DetectionPipeline()\n",
    "\n",
    "    # X_train = user_data[user_id].segment_df_train  # [top_k_features]\n",
    "    # X_test = user_data[user_id].segment_df_test    #[top_k_features]\n",
    "\n",
    "    X_train = user_data[user_id].normalized_features_train\n",
    "    X_test = user_data[user_id].normalized_features_test\n",
    "\n",
    "\n",
    "    ''' feature selection '''\n",
    "\n",
    "\n",
    "    detector.fit(X_train)\n",
    "    predicted_anomalies = detector.predict(X_test)\n",
    "\n",
    "\n",
    "    ''' update metrics '''\n",
    "    score_counter.update(predicted_anomalies, anomaly_ground_truth)\n",
    "    user_scores_high_dim[user_id] = detection_metrics(predicted_anomalies, anomaly_ground_truth)\n",
    "\n",
    "    session_classification[user_id] = [1 if x == -1 else 0 for x in predicted_anomalies]\n",
    "\n",
    "\n",
    "\n",
    "''' aggregate metrics '''\n",
    "\n",
    "\n",
    "overall_scores_high_dim = {}\n",
    "for score_type in [\"f1_score\", \"detection_score\" ,\"precision_score\", \"recall_score\"]:\n",
    "    overall_scores_high_dim[score_type] = np.mean([user_scores_high_dim[user_id][score_type] for user_id in user_list])\n"
   ]
  },
  {
   "cell_type": "code",
   "execution_count": 99,
   "outputs": [
    {
     "name": "stdout",
     "output_type": "stream",
     "text": [
      "1393 0.7738888888888888\n",
      "predicted score: 4179\n"
     ]
    },
    {
     "data": {
      "text/plain": "{'f1_score': 0.817,\n 'detection_score': 0.82,\n 'precision_score': 0.7276999999999999,\n 'recall_score': 0.975}"
     },
     "execution_count": 99,
     "metadata": {},
     "output_type": "execute_result"
    }
   ],
   "source": [
    "# {'f1_score': 0.8529,\n",
    "#  'detection_score': 0.66,\n",
    "#  'precision_score': 0.7899,\n",
    "#  'recall_score': 0.9563}\n",
    "\n",
    "overall_scores_high_dim\n",
    "\n",
    "raw_score, normalized = score_counter.calc()\n",
    "print(raw_score, normalized)\n",
    "\n",
    "print(f\"predicted score: {3 * raw_score}\")\n",
    "\n",
    "overall_scores_high_dim"
   ],
   "metadata": {
    "collapsed": false,
    "ExecuteTime": {
     "end_time": "2023-05-22T19:10:50.941297775Z",
     "start_time": "2023-05-22T19:10:50.898773583Z"
    }
   }
  },
  {
   "cell_type": "code",
   "execution_count": 11,
   "outputs": [
    {
     "name": "stderr",
     "output_type": "stream",
     "text": [
      "100%|██████████| 30/30 [00:47<00:00,  1.58s/it]\n"
     ]
    }
   ],
   "source": [
    "''' submission data '''\n",
    "\n",
    "submission_user_data = {}\n",
    "session_classification = {}\n",
    "\n",
    "for user_id, user_data_path in tqdm.tqdm(zip(submission_user_list, submission_data_path), total=len(submission_user_list)):\n",
    "    #   load user data\n",
    "    submission_user_data[user_id] = User(user_id, user_data_path, gt_df[user_id])\n",
    "\n",
    "    # create segment features\n",
    "    submission_user_data[user_id].build_segment_features()\n",
    "\n",
    "    anomaly_ground_truth = submission_user_data[user_id].user_anomaly_gt.values.astype(int) # test set only\n",
    "    anomaly_ground_truth = np.array([1 if x == 0 else -1 for x in anomaly_ground_truth])\n",
    "\n",
    "    ''' high dim data '''\n",
    "\n",
    "\n",
    "    X_train = submission_user_data[user_id].normalized_features_train# [top_k_features]\n",
    "    X_test = submission_user_data[user_id].normalized_features_test# [top_k_features]\n",
    "\n",
    "    detector = DetectionPipeline()\n",
    "\n",
    "    detector.fit(X_train)\n",
    "    predicted_anomalies = detector.predict(X_test)\n",
    "    user_scores_high_dim[user_id] = detection_metrics(predicted_anomalies, anomaly_ground_truth)\n",
    "\n",
    "    session_classification[user_id] = [1 if x == -1 else 0 for x in predicted_anomalies]"
   ],
   "metadata": {
    "collapsed": false,
    "ExecuteTime": {
     "end_time": "2023-05-22T17:46:30.271146516Z",
     "start_time": "2023-05-22T17:45:42.994622163Z"
    }
   }
  },
  {
   "cell_type": "code",
   "execution_count": 12,
   "outputs": [],
   "source": [
    "''' submission file '''\n",
    "submission_df = pd.read_csv(\"challengeToFill.csv\", index_col=0).T\n",
    "for user_id in submission_user_list:\n",
    "    submission_df[user_id].iloc[50:] = session_classification[user_id]\n",
    "\n",
    "submission_df = submission_df.T.astype(int)\n",
    "submission_df.to_csv(\"submissions/203763339_2.csv\")"
   ],
   "metadata": {
    "collapsed": false,
    "ExecuteTime": {
     "end_time": "2023-05-22T17:46:30.300539251Z",
     "start_time": "2023-05-22T17:46:30.270565201Z"
    }
   }
  }
 ],
 "metadata": {
  "kernelspec": {
   "display_name": "Python 3 (ipykernel)",
   "language": "python",
   "name": "python3"
  },
  "language_info": {
   "codemirror_mode": {
    "name": "ipython",
    "version": 3
   },
   "file_extension": ".py",
   "mimetype": "text/x-python",
   "name": "python",
   "nbconvert_exporter": "python",
   "pygments_lexer": "ipython3",
   "version": "3.9.5"
  }
 },
 "nbformat": 4,
 "nbformat_minor": 1
}
