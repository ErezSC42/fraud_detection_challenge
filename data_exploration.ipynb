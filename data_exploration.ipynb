{
 "cells": [
  {
   "cell_type": "code",
   "execution_count": null,
   "outputs": [],
   "source": [
    "%load_ext autoreload\n",
    "%autoreload 2"
   ],
   "metadata": {
    "collapsed": false,
    "pycharm": {
     "is_executing": true
    }
   }
  },
  {
   "cell_type": "code",
   "execution_count": 94,
   "outputs": [],
   "source": [
    "import warnings\n",
    "\n",
    "warnings.filterwarnings(action=\"ignore\")\n",
    "\n",
    "import os\n",
    "import tqdm\n",
    "import numpy as np\n",
    "import pandas as pd\n",
    "\n",
    "from typing import Tuple, List, Dict, Any\n",
    "from constants import *\n",
    "from features.user import User\n",
    "\n",
    "\n",
    "# 90 of the test segments are genuine (i.e., benign) and 10 segments are entered bya masquerader (randomly sorted)."
   ],
   "metadata": {
    "collapsed": false
   }
  },
  {
   "cell_type": "code",
   "execution_count": 2,
   "metadata": {
    "ExecuteTime": {
     "end_time": "2023-04-29T15:26:27.593458622Z",
     "start_time": "2023-04-29T15:26:27.558957345Z"
    }
   },
   "outputs": [],
   "source": [
    "#   load answer for classifcation\n",
    "gt_df = pd.read_csv(\"challengeToFill.csv\", index_col=0).T[TRAIN_SEGMENT_COUNT:].reset_index(drop=True)\n",
    "\n",
    "\n",
    "\n",
    "\n",
    "# dev_set_df = gt_df.T.iloc[TRAIN_SEGMENT_COUNT:, :DEV_USERS_COUNT]"
   ]
  },
  {
   "cell_type": "code",
   "execution_count": null,
   "metadata": {
    "pycharm": {
     "is_executing": true
    }
   },
   "outputs": [],
   "source": [
    "def evaluate_user_results(pred_series: pd.Series, true_series: pd.Series):\n",
    "    ''' evaluate the classification result of a single user '''\n",
    "    assert len(pred_series) == len(true_series)\n",
    "    assert pred_series.name == true_series.name\n",
    "\n",
    "    equal_series = pred_series == true_series\n",
    "    return equal_series.mean()"
   ]
  },
  {
   "cell_type": "code",
   "execution_count": 95,
   "metadata": {
    "ExecuteTime": {
     "end_time": "2023-04-29T14:19:03.913351387Z",
     "start_time": "2023-04-29T14:19:03.676969262Z"
    }
   },
   "outputs": [
    {
     "name": "stderr",
     "output_type": "stream",
     "text": [
      "100%|██████████| 10/10 [00:27<00:00,  2.73s/it]\n"
     ]
    }
   ],
   "source": [
    "user_list = [f\"User{i}\" for i in range(10)]\n",
    "data_path = [f\"data/{uid}\" for uid in user_list]\n",
    "\n",
    "user_data = {}\n",
    "\n",
    "for user_id, user_data_path in tqdm.tqdm(zip(user_list, data_path), total=len(user_list)):\n",
    "    #   load user data\n",
    "    user_data[user_id] = User(user_id, user_data_path, gt_df[user_id])\n",
    "\n",
    "    # create segment features\n",
    "    user_data[user_id].build_segment_features()\n"
   ]
  },
  {
   "cell_type": "code",
   "execution_count": 96,
   "outputs": [],
   "source": [
    "import matplotlib.pyplot as plt\n",
    "\n",
    "all_test_segments = [user_data[user_id].segment_df_test.select_dtypes(\"number\") for user_id in user_list]\n",
    "all_test_segments_gt = [user_data[user_id].user_anomaly_gt for user_id in user_list]\n",
    "\n",
    "all_test_segments = pd.concat(all_test_segments).reset_index(drop=True)\n",
    "all_test_segments[\"anomaly\"] = pd.concat(all_test_segments_gt).reset_index(drop=True)\n",
    "\n",
    "\n",
    "corr = all_test_segments.corr()"
   ],
   "metadata": {
    "collapsed": false
   }
  },
  {
   "cell_type": "code",
   "execution_count": null,
   "outputs": [],
   "source": [
    "all_test_segments[all_test_segments[\"anomaly\"] == 1].to_csv(\"anomalies.csv\")"
   ],
   "metadata": {
    "collapsed": false,
    "pycharm": {
     "is_executing": true
    }
   }
  },
  {
   "cell_type": "code",
   "execution_count": null,
   "outputs": [],
   "source": [
    "corr"
   ],
   "metadata": {
    "collapsed": false,
    "pycharm": {
     "is_executing": true
    }
   }
  },
  {
   "cell_type": "code",
   "execution_count": null,
   "outputs": [],
   "source": [
    "corr.columns"
   ],
   "metadata": {
    "collapsed": false,
    "pycharm": {
     "is_executing": true
    }
   }
  },
  {
   "cell_type": "code",
   "execution_count": null,
   "outputs": [],
   "source": [
    "# import plotly.express as px\n",
    "# fig = px.imshow(corr)\n",
    "# fig.show()"
   ],
   "metadata": {
    "collapsed": false,
    "pycharm": {
     "is_executing": true
    }
   }
  },
  {
   "cell_type": "code",
   "execution_count": 97,
   "metadata": {},
   "outputs": [
    {
     "name": "stderr",
     "output_type": "stream",
     "text": [
      "100%|██████████| 10/10 [00:01<00:00,  8.03it/s]\n"
     ]
    }
   ],
   "source": [
    "''' first outlier detection algo '''\n",
    "import itertools\n",
    "from sklearn.neighbors import LocalOutlierFactor\n",
    "from sklearn.svm import OneClassSVM\n",
    "from sklearn.ensemble import IsolationForest\n",
    "from sklearn.metrics import precision_score, recall_score\n",
    "from sklearn.decomposition import PCA\n",
    "from eval.metrics import detection_metrics\n",
    "\n",
    "\n",
    "\n",
    "\n",
    "user_scores_high_dim = {}\n",
    "user_scores_low_dim = {}\n",
    "\n",
    "for user_id in tqdm.tqdm(user_list):\n",
    "\n",
    "    anomaly_ground_truth = user_data[user_id].user_anomaly_gt.values.astype(int) # test set only\n",
    "    anomaly_ground_truth = np.array([1 if x == 0 else -1 for x in anomaly_ground_truth])\n",
    "\n",
    "    ''' high dim data '''\n",
    "    #   each detector is trained per user\n",
    "    detector = LocalOutlierFactor(\n",
    "        n_neighbors=5,\n",
    "        novelty=True,\n",
    "        leaf_size=5,\n",
    "        algorithm=\"kd_tree\",\n",
    "        p=1,\n",
    "        # contamination=0.5\n",
    "    )\n",
    "\n",
    "    dummy_user_train_data = pd.get_dummies(user_data[user_id].segment_df_train)\n",
    "    dummy_user_test_data = pd.get_dummies(user_data[user_id].segment_df_test)\n",
    "\n",
    "    # predicted_anomalies = detector.fit_predict(pd.concat([dummy_user_train_data, dummy_user_test_data]).reset_index(drop=True))[50:]\n",
    "\n",
    "    detector.fit(dummy_user_train_data)\n",
    "    predicted_anomalies = detector.predict(dummy_user_test_data)\n",
    "    user_scores_high_dim[user_id] = detection_metrics(predicted_anomalies, anomaly_ground_truth)\n",
    "\n",
    "    ''' low dim data '''\n",
    "\n",
    "    detector = LocalOutlierFactor(novelty=True, n_neighbors=5)\n",
    "    # detector = OneClassSVM()\n",
    "\n",
    "    # reducer = UMAP(n_components=10)\n",
    "    reducer = PCA(n_components=20)\n",
    "    S_train_low_dim = reducer.fit_transform(dummy_user_train_data)\n",
    "    S_dev_low_dim = reducer.transform(dummy_user_test_data)\n",
    "\n",
    "    detector.fit(S_train_low_dim)\n",
    "    predicted_anomalies = detector.predict(S_dev_low_dim)\n",
    "\n",
    "    user_scores_low_dim[user_id] = detection_metrics(predicted_anomalies, anomaly_ground_truth)\n",
    "\n",
    "\n",
    "''' aggregate metrics '''\n",
    "\n",
    "\n",
    "overall_scores_high_dim = {}\n",
    "for score_type in [\"detection_score\" ,\"precision_score\", \"recall_score\"]:\n",
    "    overall_scores_high_dim[score_type] = np.mean([user_scores_high_dim[user_id][score_type] for user_id in user_list])\n",
    "\n",
    "\n",
    "overall_scores_low_dim = {}\n",
    "for score_type in [\"detection_score\" ,\"precision_score\", \"recall_score\"]:\n",
    "    overall_scores_low_dim[score_type] = np.mean([user_scores_low_dim[user_id][score_type] for user_id in user_list])\n"
   ]
  },
  {
   "cell_type": "code",
   "execution_count": 98,
   "outputs": [
    {
     "data": {
      "text/plain": "{'detection_score': 0.66,\n 'precision_score': 0.7909999999999999,\n 'recall_score': 0.9564}"
     },
     "execution_count": 98,
     "metadata": {},
     "output_type": "execute_result"
    }
   ],
   "source": [
    "overall_scores_high_dim"
   ],
   "metadata": {
    "collapsed": false
   }
  },
  {
   "cell_type": "code",
   "execution_count": 99,
   "outputs": [
    {
     "data": {
      "text/plain": "{'detection_score': 0.25, 'precision_score': 0.8111, 'recall_score': 0.9048}"
     },
     "execution_count": 99,
     "metadata": {},
     "output_type": "execute_result"
    }
   ],
   "source": [
    "overall_scores_low_dim"
   ],
   "metadata": {
    "collapsed": false
   }
  },
  {
   "cell_type": "code",
   "execution_count": 100,
   "outputs": [
    {
     "data": {
      "text/plain": "[0.844, 0.822, 0.578, 0.867, 0.889, 0.944, 0.978, 0.9, 0.378, 0.911]"
     },
     "execution_count": 100,
     "metadata": {},
     "output_type": "execute_result"
    }
   ],
   "source": [
    "[user_scores_low_dim[user_id][\"precision_score\"] for user_id in user_list]"
   ],
   "metadata": {
    "collapsed": false
   }
  },
  {
   "cell_type": "code",
   "execution_count": null,
   "metadata": {
    "pycharm": {
     "is_executing": true
    }
   },
   "outputs": [],
   "source": [
    "\n",
    "import plotly.express as px\n",
    "\n",
    "viz_df_train = pd.DataFrame({\n",
    "    \"x\": S_train_low_dim[:, 0],\n",
    "    \"y\": S_train_low_dim[:, 1],\n",
    "    \"user\": TRAIN_SEGMENT_COUNT * [user_id],\n",
    "    \"set\": TRAIN_SEGMENT_COUNT * [\"train\"]\n",
    "})\n",
    "\n",
    "viz_df_test = pd.DataFrame({\n",
    "    \"x\": S_dev_low_dim[:, 0],\n",
    "    \"y\": S_dev_low_dim[:, 1],\n",
    "    \"user\": TEST_SEGMENT_COUNT * [user_id],\n",
    "    \"set\": TEST_SEGMENT_COUNT * [\"test\"]\n",
    "})\n",
    "\n",
    "\n",
    "viz_df = pd.concat([viz_df_train, viz_df_test], axis=0)\n",
    "viz_df[\"anomaly\"] = gt_df.T[user_id].values\n",
    "viz_df[\"anomaly\"] = viz_df[\"anomaly\"].astype(int)\n"
   ]
  },
  {
   "cell_type": "code",
   "execution_count": null,
   "metadata": {
    "pycharm": {
     "is_executing": true
    }
   },
   "outputs": [],
   "source": [
    "# import plotly.io as pio\n",
    "# pio.renderers.default='notebook'\n",
    "#\n",
    "px.scatter(viz_df, x=\"x\", y=\"y\", color=\"anomaly\")"
   ]
  }
 ],
 "metadata": {
  "kernelspec": {
   "display_name": "Python 3 (ipykernel)",
   "language": "python",
   "name": "python3"
  },
  "language_info": {
   "codemirror_mode": {
    "name": "ipython",
    "version": 3
   },
   "file_extension": ".py",
   "mimetype": "text/x-python",
   "name": "python",
   "nbconvert_exporter": "python",
   "pygments_lexer": "ipython3",
   "version": "3.9.5"
  }
 },
 "nbformat": 4,
 "nbformat_minor": 1
}
