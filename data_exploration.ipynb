{
 "cells": [
  {
   "cell_type": "code",
   "execution_count": 132,
   "metadata": {
    "collapsed": true
   },
   "outputs": [],
   "source": [
    "import warnings\n",
    "\n",
    "\n",
    "warnings.filterwarnings(action=\"ignore\")\n",
    "\n",
    "\n",
    "import os\n",
    "import numpy as np\n",
    "import pandas as pd\n",
    "from typing import Tuple, List, Dict, Any\n",
    "\n",
    "SEGMENT_LEN = 100\n",
    "TRAIN_HEADER_COUNT = 5000\n",
    "TEST_HEADER_COUNT = 10000\n",
    "\n",
    "TRAIN_SEGMENT_COUNT = TRAIN_HEADER_COUNT // SEGMENT_LEN\n",
    "TEST_SEGMENT_COUNT = TEST_HEADER_COUNT // SEGMENT_LEN"
   ]
  },
  {
   "cell_type": "code",
   "execution_count": 42,
   "outputs": [],
   "source": [
    "def user_list_to_df(user_id: str, user_data_list: List[str]):\n",
    "    df_user = pd.DataFrame({\n",
    "        \"cmd\": user_data_list\n",
    "    })\n",
    "    df_user[\"user\"] = user_id\n",
    "    df_user[\"split\"] = \"train\"\n",
    "    df_user[\"segment_id\"] = np.repeat(range(0, int(len(user_data_list) / SEGMENT_LEN)), SEGMENT_LEN)\n",
    "    df_user[\"cmd\"] = df_user[\"cmd\"].astype(\"category\")\n",
    "    return df_user\n",
    "\n",
    "\n",
    "def load_user_data(user_id: str, file_path: os.PathLike) -> Tuple[pd.DataFrame, pd.DataFrame]:\n",
    "    with open(file_path, \"r\") as fp:\n",
    "        user_data = fp.readlines()\n",
    "        user_data = [s.strip() for s in user_data]\n",
    "\n",
    "    # get training data:\n",
    "    train_user_data = user_data[:TRAIN_HEADER_COUNT]\n",
    "    test_user_data = user_data[TRAIN_HEADER_COUNT:]\n",
    "\n",
    "    # convert to dataframes\n",
    "    train_segments = user_list_to_df(user_id, train_user_data)\n",
    "    test_segments = user_list_to_df(user_id, test_user_data)\n",
    "\n",
    "    return train_segments, test_segments\n"
   ],
   "metadata": {
    "collapsed": false
   }
  },
  {
   "cell_type": "code",
   "execution_count": 44,
   "outputs": [],
   "source": [
    "''' load all user data '''\n",
    "\n",
    "user_id = \"User0\"\n",
    "user_file_path = os.path.join(\"data\", user_id)\n",
    "\n",
    "df_user0_train, df_user0_test = load_user_data(user_id, user_file_path)\n",
    "\n",
    "''' all commands '''\n",
    "\n",
    "user_cmd_set_train = set(df_user0_train[\"cmd\"].unique())\n",
    "user_cmd_set_test = set(df_user0_test[\"cmd\"].unique())\n",
    "\n",
    "user_cmd_set = user_cmd_set_test.union(user_cmd_set_train)"
   ],
   "metadata": {
    "collapsed": false
   }
  },
  {
   "cell_type": "code",
   "execution_count": 52,
   "outputs": [
    {
     "data": {
      "text/plain": "{'MediaMai',\n 'as1',\n 'bc',\n 'cfe',\n 'convert',\n 'deroff',\n 'df',\n 'driver',\n 'du',\n 'enscript',\n 'ex',\n 'finger',\n 'frm',\n 'hpost',\n 'imake',\n 'jot',\n 'ld_',\n 'mail',\n 'make',\n 'postprin',\n 'ppost',\n 'ps',\n 'ps2pdf',\n 'rcp',\n 'rsh',\n 'scheme',\n 'sgihelp',\n 'sleep',\n 'sort',\n 'spell',\n 'tcsh',\n 'tput',\n 'ugen',\n 'unzip',\n 'uudecode',\n 'uuencode',\n 'whereis',\n 'who',\n 'whois',\n 'xdvi',\n 'xdvi.rea',\n 'xemacs-1',\n 'xmkmf',\n 'xpaint'}"
     },
     "execution_count": 52,
     "metadata": {},
     "output_type": "execute_result"
    }
   ],
   "source": [
    "user_cmd_set_test.difference(user_cmd_set_train)"
   ],
   "metadata": {
    "collapsed": false
   }
  },
  {
   "cell_type": "code",
   "execution_count": 87,
   "outputs": [],
   "source": [
    "cmd_map_code = {c: i for i, c in enumerate(user_cmd_set)}\n",
    "\n",
    "df_user0_train[\"cmd_code\"] = df_user0_train[\"cmd\"].map(cmd_map_code).astype(int)\n",
    "df_user0_test[\"cmd_code\"] = df_user0_test[\"cmd\"].map(cmd_map_code).astype(int)"
   ],
   "metadata": {
    "collapsed": false
   }
  },
  {
   "cell_type": "code",
   "execution_count": 122,
   "outputs": [],
   "source": [
    "def build_segment_features(user_data_df: pd.DataFrame, segment_id: int) -> Dict[str, Any]:\n",
    "\n",
    "    '''\n",
    "    build features per segment:\n",
    "        1.  V - cmd that has been used the most\n",
    "        2.  X - cmd that has been used the least\n",
    "        3.  X - count of cmd that has been used the most\n",
    "        4.  V - len of longest sequence of same cmds\n",
    "        5.  X - has zip/compression cmds\n",
    "        6.  X - has encryption cmds\n",
    "        7.  X - has networking cmds\n",
    "        8.  V - count distinct of cmds\n",
    "        9.  V - first cmd\n",
    "        10. V - last cmd\n",
    "    '''\n",
    "\n",
    "    segment_features = {}\n",
    "\n",
    "    segment_df = user_data_df[user_data_df[\"segment_id\"] == segment_id]\n",
    "    segment_cmd_value_counts = segment_df[\"cmd\"].value_counts().to_dict()\n",
    "    segment_df[\"cmd_count\"] = segment_df[\"cmd\"].map(segment_cmd_value_counts)\n",
    "\n",
    "    # features\n",
    "    segment_features[\"cmd_most_used\"] = next(iter(segment_cmd_value_counts))\n",
    "    segment_features[\"first_cmd\"] = segment_df[\"cmd\"].iloc[0]\n",
    "    segment_features[\"last_cmd\"] = segment_df[\"cmd\"].iloc[SEGMENT_LEN - 1]\n",
    "    segment_features[\"unique_cmds\"] = len(segment_df[\"cmd\"].unique())\n",
    "\n",
    "    # longest subsequence of same commands\n",
    "    s = segment_df[\"cmd_code\"].diff().astype(bool)\n",
    "    segment_features[\"longest_same_cmd_sequence\"] = (~s).cumsum()[s].value_counts().max()  # TODO - there is a bug here, getting 100s\n",
    "\n",
    "    return segment_features\n",
    "\n"
   ],
   "metadata": {
    "collapsed": false
   }
  },
  {
   "cell_type": "code",
   "execution_count": 133,
   "outputs": [],
   "source": [
    "train_segment_features_list = []\n",
    "test_segment_features_list = []\n",
    "\n",
    "for i in range(TRAIN_SEGMENT_COUNT):\n",
    "    train_segment_features_list.append(build_segment_features(df_user0_train, i))\n",
    "\n",
    "for i in range(TEST_SEGMENT_COUNT - 1):\n",
    "    test_segment_features_list.append(build_segment_features(df_user0_test, i))"
   ],
   "metadata": {
    "collapsed": false
   }
  },
  {
   "cell_type": "code",
   "execution_count": 134,
   "outputs": [],
   "source": [
    "df_train = pd.DataFrame.from_records(train_segment_features_list)\n",
    "df_test = pd.DataFrame.from_records(test_segment_features_list)"
   ],
   "metadata": {
    "collapsed": false
   }
  }
 ],
 "metadata": {
  "kernelspec": {
   "display_name": "Python 3",
   "language": "python",
   "name": "python3"
  },
  "language_info": {
   "codemirror_mode": {
    "name": "ipython",
    "version": 2
   },
   "file_extension": ".py",
   "mimetype": "text/x-python",
   "name": "python",
   "nbconvert_exporter": "python",
   "pygments_lexer": "ipython2",
   "version": "2.7.6"
  }
 },
 "nbformat": 4,
 "nbformat_minor": 0
}
