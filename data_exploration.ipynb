{
 "cells": [
  {
   "cell_type": "code",
   "execution_count": 75,
   "outputs": [
    {
     "name": "stdout",
     "output_type": "stream",
     "text": [
      "The autoreload extension is already loaded. To reload it, use:\n",
      "  %reload_ext autoreload\n"
     ]
    }
   ],
   "source": [
    "%load_ext autoreload\n",
    "%autoreload 2"
   ],
   "metadata": {
    "collapsed": false
   }
  },
  {
   "cell_type": "code",
   "execution_count": 98,
   "outputs": [],
   "source": [
    "import warnings\n",
    "\n",
    "warnings.filterwarnings(action=\"ignore\")\n",
    "\n",
    "import os\n",
    "import numpy as np\n",
    "import pandas as pd\n",
    "from typing import Tuple, List, Dict, Any\n",
    "from constants import *\n",
    "from features.user import User\n",
    "\n",
    "\n",
    "# 90 of the test segments are genuine (i.e., benign) and 10 segments are entered bya masquerader (randomly sorted)."
   ],
   "metadata": {
    "collapsed": false
   }
  },
  {
   "cell_type": "code",
   "execution_count": 77,
   "metadata": {
    "ExecuteTime": {
     "end_time": "2023-04-29T15:26:27.593458622Z",
     "start_time": "2023-04-29T15:26:27.558957345Z"
    }
   },
   "outputs": [],
   "source": [
    "#   load answer for classifcation\n",
    "gt_df = pd.read_csv(\"challengeToFill.csv\", index_col=0)\n",
    "gt_df.T[TRAIN_SEGMENT_COUNT:]\n",
    "\n",
    "\n",
    "\n",
    "dev_set_df = gt_df.T.iloc[TRAIN_SEGMENT_COUNT:, :DEV_USERS_COUNT]"
   ]
  },
  {
   "cell_type": "code",
   "execution_count": 78,
   "metadata": {},
   "outputs": [],
   "source": [
    "def evaluate_user_results(pred_series: pd.Series, true_series: pd.Series):\n",
    "    ''' evaluate the classification result of a single user '''\n",
    "    assert len(pred_series) == len(true_series)\n",
    "    assert pred_series.name == true_series.name\n",
    "\n",
    "    equal_series = pred_series == true_series\n",
    "    return equal_series.mean()"
   ]
  },
  {
   "cell_type": "code",
   "execution_count": 100,
   "metadata": {
    "ExecuteTime": {
     "end_time": "2023-04-29T14:19:03.913351387Z",
     "start_time": "2023-04-29T14:19:03.676969262Z"
    }
   },
   "outputs": [],
   "source": [
    "user_list = [\"User1\", \"User2\"]\n",
    "data_path = [f\"data/{uid}\" for uid in user_list]\n",
    "gt_path = \"challengeToFill.csv\"\n",
    "\n",
    "user_data = {}\n",
    "\n",
    "for user_id, user_data_path in zip(user_list, data_path):\n",
    "    user_data[user_id] = User(user_id, user_data_path, gt_path)\n",
    "\n",
    "\n",
    "\n",
    "\n",
    "# from features.segment import build_segment_features\n",
    "#\n",
    "#\n",
    "# train_segment_features_list = []\n",
    "# test_segment_features_list = []\n",
    "#\n",
    "# for i in range(TRAIN_SEGMENT_COUNT):\n",
    "#     train_segment_features_list.append(build_segment_features(df_user0_train, user_cmd_set_not_in_train ,i))\n",
    "#\n",
    "# for i in range(TEST_SEGMENT_COUNT):\n",
    "#     test_segment_features_list.append(build_segment_features(df_user0_test, user_cmd_set_not_in_train ,i))"
   ]
  },
  {
   "cell_type": "code",
   "execution_count": 84,
   "metadata": {
    "ExecuteTime": {
     "end_time": "2023-04-29T14:19:03.958913502Z",
     "start_time": "2023-04-29T14:19:03.915076817Z"
    }
   },
   "outputs": [],
   "source": [
    "# segment_df_train = pd.DataFrame.from_records(train_segment_features_list)\n",
    "# segment_df_test = pd.DataFrame.from_records(test_segment_features_list)"
   ]
  },
  {
   "cell_type": "code",
   "execution_count": 85,
   "metadata": {},
   "outputs": [],
   "source": [
    "# categorize_commands\n",
    "segment_df_train[\"cmd_most_used_code\"] = pd.Categorical(segment_df_train[\"cmd_most_used\"].astype(\"category\"),\n",
    "                                                        categories=user_cmd_set)\n",
    "segment_df_train[\"first_cmd_code\"] = pd.Categorical(segment_df_train[\"first_cmd\"], categories=user_cmd_set)\n",
    "segment_df_train[\"last_cmd_code\"] = pd.Categorical(segment_df_train[\"last_cmd\"], categories=user_cmd_set)\n",
    "\n",
    "segment_df_test[\"cmd_most_used_code\"] = pd.Categorical(segment_df_test[\"cmd_most_used\"], categories=user_cmd_set)\n",
    "segment_df_test[\"first_cmd_code\"] = pd.Categorical(segment_df_test[\"first_cmd\"], categories=user_cmd_set)\n",
    "segment_df_test[\"last_cmd_code\"] = pd.Categorical(segment_df_test[\"last_cmd\"], categories=user_cmd_set)"
   ]
  },
  {
   "cell_type": "code",
   "execution_count": 86,
   "outputs": [
    {
     "data": {
      "text/plain": "   cmd_most_used first_cmd  last_cmd  unique_cmds  longest_same_cmd_sequence   \n0       netscape      java        rm           35                         21  \\\n1       netscape        ls  netscape           36                         21   \n2            gcc  Squirrel       gcc           14                          8   \n3       netscape  netscape  aiffplay           18                         40   \n4            gcc       gcc      time           22                         12   \n..           ...       ...       ...          ...                        ...   \n95       generic      true   generic           15                         21   \n96       generic        ls   generic           15                         20   \n97       generic        ls   generic           15                         16   \n98       generic   generic  netscape           23                         16   \n99      netscape  netscape  acroread           19                         12   \n\n    cmd_not_in_train_count  single_chars_cmd_count  two_chars_cmds_count   \n0                        0                       0                     0  \\\n1                        0                       0                     0   \n2                        8                       0                     0   \n3                        1                       0                     0   \n4                       15                       0                     0   \n..                     ...                     ...                   ...   \n95                       0                       0                     0   \n96                       0                       0                     0   \n97                       0                       0                     0   \n98                       0                       0                     0   \n99                       0                       0                     0   \n\n    three_chars_cmds_count  four_chars_cmds_count  ends_with_dot_cmds_count   \n0                        0                      0                         0  \\\n1                        0                      0                         0   \n2                        0                      0                         0   \n3                        0                      0                         0   \n4                        0                      0                         0   \n..                     ...                    ...                       ...   \n95                       0                      0                         0   \n96                       0                      0                         0   \n97                       0                      0                         0   \n98                       0                      0                         0   \n99                       0                      0                         0   \n\n    has_dot_in_middle cmd_most_used_code first_cmd_code last_cmd_code  \n0                   0           netscape           java            rm  \n1                   0           netscape             ls      netscape  \n2                   0                gcc       Squirrel           gcc  \n3                   0           netscape       netscape      aiffplay  \n4                   0                gcc            gcc          time  \n..                ...                ...            ...           ...  \n95                  0            generic           true       generic  \n96                  0            generic             ls       generic  \n97                  0            generic             ls       generic  \n98                  0            generic        generic      netscape  \n99                  0           netscape       netscape      acroread  \n\n[100 rows x 15 columns]",
      "text/html": "<div>\n<style scoped>\n    .dataframe tbody tr th:only-of-type {\n        vertical-align: middle;\n    }\n\n    .dataframe tbody tr th {\n        vertical-align: top;\n    }\n\n    .dataframe thead th {\n        text-align: right;\n    }\n</style>\n<table border=\"1\" class=\"dataframe\">\n  <thead>\n    <tr style=\"text-align: right;\">\n      <th></th>\n      <th>cmd_most_used</th>\n      <th>first_cmd</th>\n      <th>last_cmd</th>\n      <th>unique_cmds</th>\n      <th>longest_same_cmd_sequence</th>\n      <th>cmd_not_in_train_count</th>\n      <th>single_chars_cmd_count</th>\n      <th>two_chars_cmds_count</th>\n      <th>three_chars_cmds_count</th>\n      <th>four_chars_cmds_count</th>\n      <th>ends_with_dot_cmds_count</th>\n      <th>has_dot_in_middle</th>\n      <th>cmd_most_used_code</th>\n      <th>first_cmd_code</th>\n      <th>last_cmd_code</th>\n    </tr>\n  </thead>\n  <tbody>\n    <tr>\n      <th>0</th>\n      <td>netscape</td>\n      <td>java</td>\n      <td>rm</td>\n      <td>35</td>\n      <td>21</td>\n      <td>0</td>\n      <td>0</td>\n      <td>0</td>\n      <td>0</td>\n      <td>0</td>\n      <td>0</td>\n      <td>0</td>\n      <td>netscape</td>\n      <td>java</td>\n      <td>rm</td>\n    </tr>\n    <tr>\n      <th>1</th>\n      <td>netscape</td>\n      <td>ls</td>\n      <td>netscape</td>\n      <td>36</td>\n      <td>21</td>\n      <td>0</td>\n      <td>0</td>\n      <td>0</td>\n      <td>0</td>\n      <td>0</td>\n      <td>0</td>\n      <td>0</td>\n      <td>netscape</td>\n      <td>ls</td>\n      <td>netscape</td>\n    </tr>\n    <tr>\n      <th>2</th>\n      <td>gcc</td>\n      <td>Squirrel</td>\n      <td>gcc</td>\n      <td>14</td>\n      <td>8</td>\n      <td>8</td>\n      <td>0</td>\n      <td>0</td>\n      <td>0</td>\n      <td>0</td>\n      <td>0</td>\n      <td>0</td>\n      <td>gcc</td>\n      <td>Squirrel</td>\n      <td>gcc</td>\n    </tr>\n    <tr>\n      <th>3</th>\n      <td>netscape</td>\n      <td>netscape</td>\n      <td>aiffplay</td>\n      <td>18</td>\n      <td>40</td>\n      <td>1</td>\n      <td>0</td>\n      <td>0</td>\n      <td>0</td>\n      <td>0</td>\n      <td>0</td>\n      <td>0</td>\n      <td>netscape</td>\n      <td>netscape</td>\n      <td>aiffplay</td>\n    </tr>\n    <tr>\n      <th>4</th>\n      <td>gcc</td>\n      <td>gcc</td>\n      <td>time</td>\n      <td>22</td>\n      <td>12</td>\n      <td>15</td>\n      <td>0</td>\n      <td>0</td>\n      <td>0</td>\n      <td>0</td>\n      <td>0</td>\n      <td>0</td>\n      <td>gcc</td>\n      <td>gcc</td>\n      <td>time</td>\n    </tr>\n    <tr>\n      <th>...</th>\n      <td>...</td>\n      <td>...</td>\n      <td>...</td>\n      <td>...</td>\n      <td>...</td>\n      <td>...</td>\n      <td>...</td>\n      <td>...</td>\n      <td>...</td>\n      <td>...</td>\n      <td>...</td>\n      <td>...</td>\n      <td>...</td>\n      <td>...</td>\n      <td>...</td>\n    </tr>\n    <tr>\n      <th>95</th>\n      <td>generic</td>\n      <td>true</td>\n      <td>generic</td>\n      <td>15</td>\n      <td>21</td>\n      <td>0</td>\n      <td>0</td>\n      <td>0</td>\n      <td>0</td>\n      <td>0</td>\n      <td>0</td>\n      <td>0</td>\n      <td>generic</td>\n      <td>true</td>\n      <td>generic</td>\n    </tr>\n    <tr>\n      <th>96</th>\n      <td>generic</td>\n      <td>ls</td>\n      <td>generic</td>\n      <td>15</td>\n      <td>20</td>\n      <td>0</td>\n      <td>0</td>\n      <td>0</td>\n      <td>0</td>\n      <td>0</td>\n      <td>0</td>\n      <td>0</td>\n      <td>generic</td>\n      <td>ls</td>\n      <td>generic</td>\n    </tr>\n    <tr>\n      <th>97</th>\n      <td>generic</td>\n      <td>ls</td>\n      <td>generic</td>\n      <td>15</td>\n      <td>16</td>\n      <td>0</td>\n      <td>0</td>\n      <td>0</td>\n      <td>0</td>\n      <td>0</td>\n      <td>0</td>\n      <td>0</td>\n      <td>generic</td>\n      <td>ls</td>\n      <td>generic</td>\n    </tr>\n    <tr>\n      <th>98</th>\n      <td>generic</td>\n      <td>generic</td>\n      <td>netscape</td>\n      <td>23</td>\n      <td>16</td>\n      <td>0</td>\n      <td>0</td>\n      <td>0</td>\n      <td>0</td>\n      <td>0</td>\n      <td>0</td>\n      <td>0</td>\n      <td>generic</td>\n      <td>generic</td>\n      <td>netscape</td>\n    </tr>\n    <tr>\n      <th>99</th>\n      <td>netscape</td>\n      <td>netscape</td>\n      <td>acroread</td>\n      <td>19</td>\n      <td>12</td>\n      <td>0</td>\n      <td>0</td>\n      <td>0</td>\n      <td>0</td>\n      <td>0</td>\n      <td>0</td>\n      <td>0</td>\n      <td>netscape</td>\n      <td>netscape</td>\n      <td>acroread</td>\n    </tr>\n  </tbody>\n</table>\n<p>100 rows × 15 columns</p>\n</div>"
     },
     "execution_count": 86,
     "metadata": {},
     "output_type": "execute_result"
    }
   ],
   "source": [
    "segment_df_test"
   ],
   "metadata": {
    "collapsed": false
   }
  },
  {
   "cell_type": "code",
   "execution_count": 87,
   "outputs": [],
   "source": [
    "import matplotlib.pyplot as plt\n",
    "\n",
    "\n",
    "corr = pd.concat([pd.DataFrame({\"anomaly\": anomaly_ground_truth}), segment_df_test.iloc[:, 3:-3]], axis=1).corr()\n"
   ],
   "metadata": {
    "collapsed": false
   }
  },
  {
   "cell_type": "code",
   "execution_count": 88,
   "outputs": [
    {
     "data": {
      "text/plain": "                            anomaly  unique_cmds  longest_same_cmd_sequence   \nanomaly                    1.000000    -0.251231                  -0.185362  \\\nunique_cmds               -0.251231     1.000000                   0.387528   \nlongest_same_cmd_sequence -0.185362     0.387528                   1.000000   \ncmd_not_in_train_count     0.882979    -0.182290                  -0.198770   \nsingle_chars_cmd_count          NaN          NaN                        NaN   \ntwo_chars_cmds_count            NaN          NaN                        NaN   \nthree_chars_cmds_count          NaN          NaN                        NaN   \nfour_chars_cmds_count           NaN          NaN                        NaN   \nends_with_dot_cmds_count        NaN          NaN                        NaN   \nhas_dot_in_middle               NaN          NaN                        NaN   \n\n                           cmd_not_in_train_count  single_chars_cmd_count   \nanomaly                                  0.882979                     NaN  \\\nunique_cmds                             -0.182290                     NaN   \nlongest_same_cmd_sequence               -0.198770                     NaN   \ncmd_not_in_train_count                   1.000000                     NaN   \nsingle_chars_cmd_count                        NaN                     NaN   \ntwo_chars_cmds_count                          NaN                     NaN   \nthree_chars_cmds_count                        NaN                     NaN   \nfour_chars_cmds_count                         NaN                     NaN   \nends_with_dot_cmds_count                      NaN                     NaN   \nhas_dot_in_middle                             NaN                     NaN   \n\n                           two_chars_cmds_count  three_chars_cmds_count   \nanomaly                                     NaN                     NaN  \\\nunique_cmds                                 NaN                     NaN   \nlongest_same_cmd_sequence                   NaN                     NaN   \ncmd_not_in_train_count                      NaN                     NaN   \nsingle_chars_cmd_count                      NaN                     NaN   \ntwo_chars_cmds_count                        NaN                     NaN   \nthree_chars_cmds_count                      NaN                     NaN   \nfour_chars_cmds_count                       NaN                     NaN   \nends_with_dot_cmds_count                    NaN                     NaN   \nhas_dot_in_middle                           NaN                     NaN   \n\n                           four_chars_cmds_count  ends_with_dot_cmds_count   \nanomaly                                      NaN                       NaN  \\\nunique_cmds                                  NaN                       NaN   \nlongest_same_cmd_sequence                    NaN                       NaN   \ncmd_not_in_train_count                       NaN                       NaN   \nsingle_chars_cmd_count                       NaN                       NaN   \ntwo_chars_cmds_count                         NaN                       NaN   \nthree_chars_cmds_count                       NaN                       NaN   \nfour_chars_cmds_count                        NaN                       NaN   \nends_with_dot_cmds_count                     NaN                       NaN   \nhas_dot_in_middle                            NaN                       NaN   \n\n                           has_dot_in_middle  \nanomaly                                  NaN  \nunique_cmds                              NaN  \nlongest_same_cmd_sequence                NaN  \ncmd_not_in_train_count                   NaN  \nsingle_chars_cmd_count                   NaN  \ntwo_chars_cmds_count                     NaN  \nthree_chars_cmds_count                   NaN  \nfour_chars_cmds_count                    NaN  \nends_with_dot_cmds_count                 NaN  \nhas_dot_in_middle                        NaN  ",
      "text/html": "<div>\n<style scoped>\n    .dataframe tbody tr th:only-of-type {\n        vertical-align: middle;\n    }\n\n    .dataframe tbody tr th {\n        vertical-align: top;\n    }\n\n    .dataframe thead th {\n        text-align: right;\n    }\n</style>\n<table border=\"1\" class=\"dataframe\">\n  <thead>\n    <tr style=\"text-align: right;\">\n      <th></th>\n      <th>anomaly</th>\n      <th>unique_cmds</th>\n      <th>longest_same_cmd_sequence</th>\n      <th>cmd_not_in_train_count</th>\n      <th>single_chars_cmd_count</th>\n      <th>two_chars_cmds_count</th>\n      <th>three_chars_cmds_count</th>\n      <th>four_chars_cmds_count</th>\n      <th>ends_with_dot_cmds_count</th>\n      <th>has_dot_in_middle</th>\n    </tr>\n  </thead>\n  <tbody>\n    <tr>\n      <th>anomaly</th>\n      <td>1.000000</td>\n      <td>-0.251231</td>\n      <td>-0.185362</td>\n      <td>0.882979</td>\n      <td>NaN</td>\n      <td>NaN</td>\n      <td>NaN</td>\n      <td>NaN</td>\n      <td>NaN</td>\n      <td>NaN</td>\n    </tr>\n    <tr>\n      <th>unique_cmds</th>\n      <td>-0.251231</td>\n      <td>1.000000</td>\n      <td>0.387528</td>\n      <td>-0.182290</td>\n      <td>NaN</td>\n      <td>NaN</td>\n      <td>NaN</td>\n      <td>NaN</td>\n      <td>NaN</td>\n      <td>NaN</td>\n    </tr>\n    <tr>\n      <th>longest_same_cmd_sequence</th>\n      <td>-0.185362</td>\n      <td>0.387528</td>\n      <td>1.000000</td>\n      <td>-0.198770</td>\n      <td>NaN</td>\n      <td>NaN</td>\n      <td>NaN</td>\n      <td>NaN</td>\n      <td>NaN</td>\n      <td>NaN</td>\n    </tr>\n    <tr>\n      <th>cmd_not_in_train_count</th>\n      <td>0.882979</td>\n      <td>-0.182290</td>\n      <td>-0.198770</td>\n      <td>1.000000</td>\n      <td>NaN</td>\n      <td>NaN</td>\n      <td>NaN</td>\n      <td>NaN</td>\n      <td>NaN</td>\n      <td>NaN</td>\n    </tr>\n    <tr>\n      <th>single_chars_cmd_count</th>\n      <td>NaN</td>\n      <td>NaN</td>\n      <td>NaN</td>\n      <td>NaN</td>\n      <td>NaN</td>\n      <td>NaN</td>\n      <td>NaN</td>\n      <td>NaN</td>\n      <td>NaN</td>\n      <td>NaN</td>\n    </tr>\n    <tr>\n      <th>two_chars_cmds_count</th>\n      <td>NaN</td>\n      <td>NaN</td>\n      <td>NaN</td>\n      <td>NaN</td>\n      <td>NaN</td>\n      <td>NaN</td>\n      <td>NaN</td>\n      <td>NaN</td>\n      <td>NaN</td>\n      <td>NaN</td>\n    </tr>\n    <tr>\n      <th>three_chars_cmds_count</th>\n      <td>NaN</td>\n      <td>NaN</td>\n      <td>NaN</td>\n      <td>NaN</td>\n      <td>NaN</td>\n      <td>NaN</td>\n      <td>NaN</td>\n      <td>NaN</td>\n      <td>NaN</td>\n      <td>NaN</td>\n    </tr>\n    <tr>\n      <th>four_chars_cmds_count</th>\n      <td>NaN</td>\n      <td>NaN</td>\n      <td>NaN</td>\n      <td>NaN</td>\n      <td>NaN</td>\n      <td>NaN</td>\n      <td>NaN</td>\n      <td>NaN</td>\n      <td>NaN</td>\n      <td>NaN</td>\n    </tr>\n    <tr>\n      <th>ends_with_dot_cmds_count</th>\n      <td>NaN</td>\n      <td>NaN</td>\n      <td>NaN</td>\n      <td>NaN</td>\n      <td>NaN</td>\n      <td>NaN</td>\n      <td>NaN</td>\n      <td>NaN</td>\n      <td>NaN</td>\n      <td>NaN</td>\n    </tr>\n    <tr>\n      <th>has_dot_in_middle</th>\n      <td>NaN</td>\n      <td>NaN</td>\n      <td>NaN</td>\n      <td>NaN</td>\n      <td>NaN</td>\n      <td>NaN</td>\n      <td>NaN</td>\n      <td>NaN</td>\n      <td>NaN</td>\n      <td>NaN</td>\n    </tr>\n  </tbody>\n</table>\n</div>"
     },
     "execution_count": 88,
     "metadata": {},
     "output_type": "execute_result"
    }
   ],
   "source": [
    "corr"
   ],
   "metadata": {
    "collapsed": false
   }
  },
  {
   "cell_type": "code",
   "execution_count": 89,
   "metadata": {
    "ExecuteTime": {
     "end_time": "2023-04-29T14:19:03.966805256Z",
     "start_time": "2023-04-29T14:19:03.959297740Z"
    }
   },
   "outputs": [],
   "source": [
    "train_feature_df = pd.get_dummies(segment_df_train, columns=[\"cmd_most_used_code\", \"first_cmd_code\", \"last_cmd_code\"],\n",
    "                                  prefix=\"is\", dtype=float)\n",
    "dev_feature_df = pd.get_dummies(segment_df_test, columns=[\"cmd_most_used_code\", \"first_cmd_code\", \"last_cmd_code\"],\n",
    "                                prefix=\"is\", dtype=float)\n",
    "\n",
    "\n",
    "# remove non numeric features\n",
    "train_feature_df = train_feature_df.iloc[:, 3:]\n",
    "dev_feature_df = dev_feature_df.iloc[:, 3:]"
   ]
  },
  {
   "cell_type": "code",
   "execution_count": 90,
   "metadata": {},
   "outputs": [],
   "source": [
    "''' first outlier detection algo '''\n",
    "from sklearn.neighbors import LocalOutlierFactor\n",
    "from sklearn.metrics import precision_score, recall_score\n",
    "from sklearn.ensemble import IsolationForest\n",
    "from sklearn.cluster import DBSCAN\n",
    "\n",
    "\n",
    "anomaly_ground_truth = gt_df.T[user_id].values.astype(int)[TRAIN_SEGMENT_COUNT:] # test set only\n",
    "anomaly_ground_truth = np.array([1 if x == 0 else -1 for x in anomaly_ground_truth])\n",
    "\n",
    "detector = LocalOutlierFactor(novelty=True, leaf_size=5)\n",
    "\n",
    "detector.fit(train_feature_df)\n",
    "\n",
    "predicted_anomalies = detector.predict(dev_feature_df)"
   ]
  },
  {
   "cell_type": "code",
   "execution_count": 91,
   "metadata": {},
   "outputs": [],
   "source": [
    "from umap import UMAP\n",
    "\n",
    "reducer = UMAP()\n",
    "S_train_low_dim = reducer.fit_transform(train_feature_df)\n",
    "S_dev_low_dim = reducer.transform(dev_feature_df)"
   ]
  },
  {
   "cell_type": "code",
   "execution_count": 92,
   "outputs": [],
   "source": [
    "detector = LocalOutlierFactor(novelty=True)\n",
    "\n",
    "detector.fit(S_train_low_dim)\n",
    "\n",
    "low_dim_predicted_anomalies = detector.predict(S_dev_low_dim)"
   ],
   "metadata": {
    "collapsed": false
   }
  },
  {
   "cell_type": "code",
   "execution_count": 93,
   "outputs": [
    {
     "name": "stdout",
     "output_type": "stream",
     "text": [
      "all bengin score\n",
      "{'detection_score': 0.0, 'precison': '1.000', 'recall': '0.900'}\n",
      "all fraud score\n",
      "{'detection_score': 1.0, 'precison': '0.000', 'recall': '0.000'}\n",
      "high dim\n",
      "{'detection_score': 0.0, 'precison': '0.944', 'recall': '0.895'}\n",
      "low dim\n",
      "{'detection_score': 0.0, 'precison': '1.000', 'recall': '0.900'}\n"
     ]
    }
   ],
   "source": [
    "from eval.metrics import detection_metrics\n",
    "\n",
    "\n",
    "print(\"all bengin score\")\n",
    "high_dim_score = detection_metrics(np.ones_like(anomaly_ground_truth), anomaly_ground_truth)\n",
    "print(high_dim_score)\n",
    "\n",
    "\n",
    "print(\"all fraud score\")\n",
    "high_dim_score = detection_metrics(-1 * np.ones_like(anomaly_ground_truth), anomaly_ground_truth)\n",
    "print(high_dim_score)\n",
    "\n",
    "print(\"high dim\")\n",
    "high_dim_score = detection_metrics(predicted_anomalies, anomaly_ground_truth)\n",
    "print(high_dim_score)\n",
    "\n",
    "print(\"low dim\")\n",
    "low_dim_score = detection_metrics(low_dim_predicted_anomalies, anomaly_ground_truth)\n",
    "print(low_dim_score)"
   ],
   "metadata": {
    "collapsed": false
   }
  },
  {
   "cell_type": "code",
   "execution_count": 94,
   "outputs": [
    {
     "data": {
      "text/plain": "array([1, 1, 1, 1, 1, 1, 1, 1, 1, 1, 1, 1, 1, 1, 1, 1, 1, 1, 1, 1, 1, 1,\n       1, 1, 1, 1, 1, 1, 1, 1, 1, 1, 1, 1, 1, 1, 1, 1, 1, 1, 1, 1, 1, 1,\n       1, 1, 1, 1, 1, 1, 1, 1, 1, 1, 1, 1, 1, 1, 1, 1, 1, 1, 1, 1, 1, 1,\n       1, 1, 1, 1, 1, 1, 1, 1, 1, 1, 1, 1, 1, 1, 1, 1, 1, 1, 1, 1, 1, 1,\n       1, 1, 1, 1, 1, 1, 1, 1, 1, 1, 1, 1])"
     },
     "execution_count": 94,
     "metadata": {},
     "output_type": "execute_result"
    }
   ],
   "source": [
    "low_dim_predicted_anomalies"
   ],
   "metadata": {
    "collapsed": false
   }
  },
  {
   "cell_type": "code",
   "execution_count": 95,
   "metadata": {},
   "outputs": [],
   "source": [
    "\n",
    "import plotly.express as px\n",
    "\n",
    "viz_df_train = pd.DataFrame({\n",
    "    \"x\": S_train_low_dim[:, 0],\n",
    "    \"y\": S_train_low_dim[:, 1],\n",
    "    \"user\": TRAIN_SEGMENT_COUNT * [user_id],\n",
    "    \"set\": TRAIN_SEGMENT_COUNT * [\"train\"]\n",
    "})\n",
    "\n",
    "viz_df_test = pd.DataFrame({\n",
    "    \"x\": S_dev_low_dim[:, 0],\n",
    "    \"y\": S_dev_low_dim[:, 1],\n",
    "    \"user\": TEST_SEGMENT_COUNT * [user_id],\n",
    "    \"set\": TEST_SEGMENT_COUNT * [\"test\"]\n",
    "})\n",
    "\n",
    "\n",
    "viz_df = pd.concat([viz_df_train, viz_df_test], axis=0)\n",
    "viz_df[\"anomaly\"] = gt_df.T[user_id].values\n",
    "viz_df[\"anomaly\"] = viz_df[\"anomaly\"].astype(int)\n"
   ]
  },
  {
   "cell_type": "code",
   "execution_count": 96,
   "metadata": {},
   "outputs": [
    {
     "data": {
      "application/vnd.plotly.v1+json": {
       "data": [
        {
         "hovertemplate": "x=%{x}<br>y=%{y}<br>anomaly=%{marker.color}<extra></extra>",
         "legendgroup": "",
         "marker": {
          "color": [
           0,
           0,
           0,
           0,
           0,
           0,
           0,
           0,
           0,
           0,
           0,
           0,
           0,
           0,
           0,
           0,
           0,
           0,
           0,
           0,
           0,
           0,
           0,
           0,
           0,
           0,
           0,
           0,
           0,
           0,
           0,
           0,
           0,
           0,
           0,
           0,
           0,
           0,
           0,
           0,
           0,
           0,
           0,
           0,
           0,
           0,
           0,
           0,
           0,
           0,
           0,
           0,
           1,
           0,
           1,
           0,
           0,
           1,
           1,
           0,
           1,
           0,
           0,
           0,
           0,
           0,
           0,
           0,
           1,
           0,
           0,
           0,
           0,
           0,
           0,
           0,
           0,
           0,
           0,
           1,
           0,
           0,
           0,
           0,
           0,
           0,
           0,
           0,
           0,
           1,
           0,
           0,
           0,
           1,
           0,
           0,
           0,
           0,
           0,
           0,
           0,
           0,
           0,
           0,
           0,
           0,
           0,
           0,
           0,
           0,
           0,
           0,
           0,
           0,
           0,
           0,
           0,
           0,
           0,
           0,
           0,
           0,
           0,
           0,
           1,
           0,
           0,
           0,
           0,
           0,
           0,
           0,
           0,
           0,
           0,
           0,
           0,
           0,
           0,
           0,
           0,
           0,
           0,
           0,
           0,
           0,
           0,
           0,
           0,
           0
          ],
          "coloraxis": "coloraxis",
          "symbol": "circle"
         },
         "mode": "markers",
         "name": "",
         "orientation": "v",
         "showlegend": false,
         "x": [
          13.537487983703613,
          12.804363250732422,
          8.628251075744629,
          8.246952056884766,
          6.215000629425049,
          12.350640296936035,
          6.532264709472656,
          13.79284954071045,
          12.18552303314209,
          11.053351402282715,
          6.290762424468994,
          6.744361400604248,
          11.761312484741211,
          13.8043212890625,
          11.270676612854004,
          7.36509895324707,
          14.248273849487305,
          14.384870529174805,
          11.589302062988281,
          11.97488021850586,
          8.790261268615723,
          11.807927131652832,
          12.341858863830566,
          13.296489715576172,
          6.68276309967041,
          11.985934257507324,
          7.265527725219727,
          6.086018085479736,
          6.089423179626465,
          12.026151657104492,
          12.490655899047852,
          6.9548444747924805,
          11.312185287475586,
          7.722540855407715,
          8.307958602905273,
          10.948282241821289,
          11.096321105957031,
          12.526637077331543,
          14.016473770141602,
          7.274402618408203,
          14.170287132263184,
          13.302151679992676,
          8.028745651245117,
          5.937510967254639,
          12.726044654846191,
          8.786555290222168,
          11.531683921813965,
          6.138433456420898,
          6.670467853546143,
          7.030922889709473,
          12.748161315917969,
          10.939597129821777,
          6.080517292022705,
          10.254453659057617,
          7.8176422119140625,
          9.412736892700195,
          9.791104316711426,
          8.300228118896484,
          5.781330585479736,
          8.19794750213623,
          6.751646995544434,
          11.932524681091309,
          13.069175720214844,
          6.982558250427246,
          10.480545997619629,
          9.311020851135254,
          8.15224552154541,
          12.5741605758667,
          8.336195945739746,
          13.129603385925293,
          7.337162494659424,
          7.338805675506592,
          8.07832145690918,
          13.136759757995605,
          12.625706672668457,
          10.678282737731934,
          6.076215744018555,
          5.590686321258545,
          13.066926002502441,
          6.029753684997559,
          12.867378234863281,
          12.824294090270996,
          6.642228126525879,
          13.356690406799316,
          11.280561447143555,
          12.386999130249023,
          12.636521339416504,
          11.735563278198242,
          12.88947582244873,
          6.515336513519287,
          12.863584518432617,
          13.066999435424805,
          13.487605094909668,
          6.783556938171387,
          6.654932498931885,
          8.133305549621582,
          8.096770286560059,
          12.976603507995605,
          5.661290168762207,
          9.379439353942871,
          7.025589466094971,
          5.511139869689941,
          6.914112567901611,
          6.061190605163574,
          6.812223434448242,
          13.552123069763184,
          7.491454601287842,
          10.04277515411377,
          12.528157234191895,
          7.473830699920654,
          6.26609992980957,
          5.565687656402588,
          6.927102088928223,
          11.960919380187988,
          13.453594207763672,
          14.531440734863281,
          11.516390800476074,
          11.878664016723633,
          7.782282829284668,
          5.989259719848633,
          10.62231159210205,
          13.272223472595215,
          14.370501518249512,
          8.100104331970215,
          7.8214826583862305,
          10.49817180633545,
          9.576303482055664,
          9.519831657409668,
          10.240256309509277,
          12.797371864318848,
          6.5512518882751465,
          13.892505645751953,
          13.74892520904541,
          13.190475463867188,
          12.828577995300293,
          12.433934211730957,
          10.010544776916504,
          11.440122604370117,
          13.333380699157715,
          10.935544967651367,
          7.801340103149414,
          5.63381290435791,
          5.905267238616943,
          10.186293601989746,
          8.186965942382812,
          9.514349937438965,
          9.259175300598145,
          7.472456455230713,
          8.463417053222656,
          7.3710246086120605
         ],
         "xaxis": "x",
         "y": [
          1.3910483121871948,
          1.0288149118423462,
          1.9555796384811401,
          2.091399908065796,
          4.529063701629639,
          1.8845014572143555,
          4.066973686218262,
          1.3018572330474854,
          0.38273224234580994,
          1.2613896131515503,
          4.633568286895752,
          3.822228193283081,
          -0.16151310503482819,
          1.9416835308074951,
          1.5540627241134644,
          3.259859085083008,
          1.14863121509552,
          1.5549858808517456,
          1.067067265510559,
          0.06905579566955566,
          2.3710696697235107,
          0.7925629019737244,
          0.9241331815719604,
          0.9931471943855286,
          3.5934762954711914,
          1.8893240690231323,
          2.770608425140381,
          4.668552398681641,
          4.208358287811279,
          -0.11197882890701294,
          0.21992650628089905,
          3.3072032928466797,
          0.014816509559750557,
          2.538874387741089,
          2.4832494258880615,
          1.8404263257980347,
          1.7729823589324951,
          1.7887049913406372,
          1.6637928485870361,
          2.4200689792633057,
          1.4075981378555298,
          1.7164913415908813,
          2.151893138885498,
          4.11361837387085,
          0.6938754320144653,
          1.8420963287353516,
          0.13214845955371857,
          3.8055033683776855,
          2.90875244140625,
          2.7889766693115234,
          2.339106321334839,
          0.6600766777992249,
          3.129643678665161,
          1.7857022285461426,
          1.588864803314209,
          1.8521548509597778,
          2.094614028930664,
          3.1527979373931885,
          3.335843563079834,
          1.2966655492782593,
          1.989161729812622,
          -0.7553691267967224,
          2.2282588481903076,
          1.9713997840881348,
          1.0410829782485962,
          1.6912529468536377,
          1.2931017875671387,
          -0.3698567748069763,
          3.187274694442749,
          0.05634036660194397,
          1.7853456735610962,
          1.7656830549240112,
          1.7000901699066162,
          0.05615783482789993,
          -0.40331780910491943,
          0.6855396032333374,
          2.933623790740967,
          4.737553119659424,
          0.1807432323694229,
          3.002164125442505,
          -0.35377052426338196,
          2.3439648151397705,
          2.17712140083313,
          0.3185381293296814,
          0.7115842700004578,
          2.5233516693115234,
          -0.5186647772789001,
          2.3311679363250732,
          2.3013410568237305,
          2.2171967029571533,
          2.250734806060791,
          0.05704367160797119,
          0.2884012460708618,
          2.06156063079834,
          1.981487512588501,
          3.115309953689575,
          3.2209858894348145,
          -0.06177176907658577,
          4.741549015045166,
          1.9045836925506592,
          4.63619327545166,
          4.492382049560547,
          4.616623401641846,
          2.948518991470337,
          4.72951602935791,
          0.24867352843284607,
          1.704516887664795,
          1.9742870330810547,
          -0.39343827962875366,
          3.842193126678467,
          2.5466361045837402,
          3.703658103942871,
          4.681099891662598,
          -0.745425283908844,
          0.3243924677371979,
          0.7622838020324707,
          2.3605213165283203,
          2.3166961669921875,
          1.5717107057571411,
          2.8785173892974854,
          1.2082349061965942,
          0.22841082513332367,
          0.6862320899963379,
          1.4068223237991333,
          1.506938099861145,
          1.058349847793579,
          1.9290502071380615,
          2.336486339569092,
          1.9007354974746704,
          -0.17520259320735931,
          2.1601712703704834,
          0.5961903929710388,
          0.6097111105918884,
          0.16410955786705017,
          2.3259329795837402,
          -0.601410448551178,
          1.835055947303772,
          -0.6476918458938599,
          0.4007478952407837,
          0.5850121378898621,
          3.6271910667419434,
          3.5110814571380615,
          5.054816722869873,
          1.732667326927185,
          1.2378997802734375,
          2.1783223152160645,
          2.607147693634033,
          1.669821858406067,
          1.3232638835906982,
          1.8035762310028076
         ],
         "yaxis": "y",
         "type": "scatter"
        }
       ],
       "layout": {
        "template": {
         "data": {
          "histogram2dcontour": [
           {
            "type": "histogram2dcontour",
            "colorbar": {
             "outlinewidth": 0,
             "ticks": ""
            },
            "colorscale": [
             [
              0.0,
              "#0d0887"
             ],
             [
              0.1111111111111111,
              "#46039f"
             ],
             [
              0.2222222222222222,
              "#7201a8"
             ],
             [
              0.3333333333333333,
              "#9c179e"
             ],
             [
              0.4444444444444444,
              "#bd3786"
             ],
             [
              0.5555555555555556,
              "#d8576b"
             ],
             [
              0.6666666666666666,
              "#ed7953"
             ],
             [
              0.7777777777777778,
              "#fb9f3a"
             ],
             [
              0.8888888888888888,
              "#fdca26"
             ],
             [
              1.0,
              "#f0f921"
             ]
            ]
           }
          ],
          "choropleth": [
           {
            "type": "choropleth",
            "colorbar": {
             "outlinewidth": 0,
             "ticks": ""
            }
           }
          ],
          "histogram2d": [
           {
            "type": "histogram2d",
            "colorbar": {
             "outlinewidth": 0,
             "ticks": ""
            },
            "colorscale": [
             [
              0.0,
              "#0d0887"
             ],
             [
              0.1111111111111111,
              "#46039f"
             ],
             [
              0.2222222222222222,
              "#7201a8"
             ],
             [
              0.3333333333333333,
              "#9c179e"
             ],
             [
              0.4444444444444444,
              "#bd3786"
             ],
             [
              0.5555555555555556,
              "#d8576b"
             ],
             [
              0.6666666666666666,
              "#ed7953"
             ],
             [
              0.7777777777777778,
              "#fb9f3a"
             ],
             [
              0.8888888888888888,
              "#fdca26"
             ],
             [
              1.0,
              "#f0f921"
             ]
            ]
           }
          ],
          "heatmap": [
           {
            "type": "heatmap",
            "colorbar": {
             "outlinewidth": 0,
             "ticks": ""
            },
            "colorscale": [
             [
              0.0,
              "#0d0887"
             ],
             [
              0.1111111111111111,
              "#46039f"
             ],
             [
              0.2222222222222222,
              "#7201a8"
             ],
             [
              0.3333333333333333,
              "#9c179e"
             ],
             [
              0.4444444444444444,
              "#bd3786"
             ],
             [
              0.5555555555555556,
              "#d8576b"
             ],
             [
              0.6666666666666666,
              "#ed7953"
             ],
             [
              0.7777777777777778,
              "#fb9f3a"
             ],
             [
              0.8888888888888888,
              "#fdca26"
             ],
             [
              1.0,
              "#f0f921"
             ]
            ]
           }
          ],
          "heatmapgl": [
           {
            "type": "heatmapgl",
            "colorbar": {
             "outlinewidth": 0,
             "ticks": ""
            },
            "colorscale": [
             [
              0.0,
              "#0d0887"
             ],
             [
              0.1111111111111111,
              "#46039f"
             ],
             [
              0.2222222222222222,
              "#7201a8"
             ],
             [
              0.3333333333333333,
              "#9c179e"
             ],
             [
              0.4444444444444444,
              "#bd3786"
             ],
             [
              0.5555555555555556,
              "#d8576b"
             ],
             [
              0.6666666666666666,
              "#ed7953"
             ],
             [
              0.7777777777777778,
              "#fb9f3a"
             ],
             [
              0.8888888888888888,
              "#fdca26"
             ],
             [
              1.0,
              "#f0f921"
             ]
            ]
           }
          ],
          "contourcarpet": [
           {
            "type": "contourcarpet",
            "colorbar": {
             "outlinewidth": 0,
             "ticks": ""
            }
           }
          ],
          "contour": [
           {
            "type": "contour",
            "colorbar": {
             "outlinewidth": 0,
             "ticks": ""
            },
            "colorscale": [
             [
              0.0,
              "#0d0887"
             ],
             [
              0.1111111111111111,
              "#46039f"
             ],
             [
              0.2222222222222222,
              "#7201a8"
             ],
             [
              0.3333333333333333,
              "#9c179e"
             ],
             [
              0.4444444444444444,
              "#bd3786"
             ],
             [
              0.5555555555555556,
              "#d8576b"
             ],
             [
              0.6666666666666666,
              "#ed7953"
             ],
             [
              0.7777777777777778,
              "#fb9f3a"
             ],
             [
              0.8888888888888888,
              "#fdca26"
             ],
             [
              1.0,
              "#f0f921"
             ]
            ]
           }
          ],
          "surface": [
           {
            "type": "surface",
            "colorbar": {
             "outlinewidth": 0,
             "ticks": ""
            },
            "colorscale": [
             [
              0.0,
              "#0d0887"
             ],
             [
              0.1111111111111111,
              "#46039f"
             ],
             [
              0.2222222222222222,
              "#7201a8"
             ],
             [
              0.3333333333333333,
              "#9c179e"
             ],
             [
              0.4444444444444444,
              "#bd3786"
             ],
             [
              0.5555555555555556,
              "#d8576b"
             ],
             [
              0.6666666666666666,
              "#ed7953"
             ],
             [
              0.7777777777777778,
              "#fb9f3a"
             ],
             [
              0.8888888888888888,
              "#fdca26"
             ],
             [
              1.0,
              "#f0f921"
             ]
            ]
           }
          ],
          "mesh3d": [
           {
            "type": "mesh3d",
            "colorbar": {
             "outlinewidth": 0,
             "ticks": ""
            }
           }
          ],
          "scatter": [
           {
            "marker": {
             "line": {
              "color": "#283442"
             }
            },
            "type": "scatter"
           }
          ],
          "parcoords": [
           {
            "type": "parcoords",
            "line": {
             "colorbar": {
              "outlinewidth": 0,
              "ticks": ""
             }
            }
           }
          ],
          "scatterpolargl": [
           {
            "type": "scatterpolargl",
            "marker": {
             "colorbar": {
              "outlinewidth": 0,
              "ticks": ""
             }
            }
           }
          ],
          "bar": [
           {
            "error_x": {
             "color": "#f2f5fa"
            },
            "error_y": {
             "color": "#f2f5fa"
            },
            "marker": {
             "line": {
              "color": "rgb(17,17,17)",
              "width": 0.5
             },
             "pattern": {
              "fillmode": "overlay",
              "size": 10,
              "solidity": 0.2
             }
            },
            "type": "bar"
           }
          ],
          "scattergeo": [
           {
            "type": "scattergeo",
            "marker": {
             "colorbar": {
              "outlinewidth": 0,
              "ticks": ""
             }
            }
           }
          ],
          "scatterpolar": [
           {
            "type": "scatterpolar",
            "marker": {
             "colorbar": {
              "outlinewidth": 0,
              "ticks": ""
             }
            }
           }
          ],
          "histogram": [
           {
            "marker": {
             "pattern": {
              "fillmode": "overlay",
              "size": 10,
              "solidity": 0.2
             }
            },
            "type": "histogram"
           }
          ],
          "scattergl": [
           {
            "marker": {
             "line": {
              "color": "#283442"
             }
            },
            "type": "scattergl"
           }
          ],
          "scatter3d": [
           {
            "type": "scatter3d",
            "line": {
             "colorbar": {
              "outlinewidth": 0,
              "ticks": ""
             }
            },
            "marker": {
             "colorbar": {
              "outlinewidth": 0,
              "ticks": ""
             }
            }
           }
          ],
          "scattermapbox": [
           {
            "type": "scattermapbox",
            "marker": {
             "colorbar": {
              "outlinewidth": 0,
              "ticks": ""
             }
            }
           }
          ],
          "scatterternary": [
           {
            "type": "scatterternary",
            "marker": {
             "colorbar": {
              "outlinewidth": 0,
              "ticks": ""
             }
            }
           }
          ],
          "scattercarpet": [
           {
            "type": "scattercarpet",
            "marker": {
             "colorbar": {
              "outlinewidth": 0,
              "ticks": ""
             }
            }
           }
          ],
          "carpet": [
           {
            "aaxis": {
             "endlinecolor": "#A2B1C6",
             "gridcolor": "#506784",
             "linecolor": "#506784",
             "minorgridcolor": "#506784",
             "startlinecolor": "#A2B1C6"
            },
            "baxis": {
             "endlinecolor": "#A2B1C6",
             "gridcolor": "#506784",
             "linecolor": "#506784",
             "minorgridcolor": "#506784",
             "startlinecolor": "#A2B1C6"
            },
            "type": "carpet"
           }
          ],
          "table": [
           {
            "cells": {
             "fill": {
              "color": "#506784"
             },
             "line": {
              "color": "rgb(17,17,17)"
             }
            },
            "header": {
             "fill": {
              "color": "#2a3f5f"
             },
             "line": {
              "color": "rgb(17,17,17)"
             }
            },
            "type": "table"
           }
          ],
          "barpolar": [
           {
            "marker": {
             "line": {
              "color": "rgb(17,17,17)",
              "width": 0.5
             },
             "pattern": {
              "fillmode": "overlay",
              "size": 10,
              "solidity": 0.2
             }
            },
            "type": "barpolar"
           }
          ],
          "pie": [
           {
            "automargin": true,
            "type": "pie"
           }
          ]
         },
         "layout": {
          "autotypenumbers": "strict",
          "colorway": [
           "#636efa",
           "#EF553B",
           "#00cc96",
           "#ab63fa",
           "#FFA15A",
           "#19d3f3",
           "#FF6692",
           "#B6E880",
           "#FF97FF",
           "#FECB52"
          ],
          "font": {
           "color": "#f2f5fa"
          },
          "hovermode": "closest",
          "hoverlabel": {
           "align": "left"
          },
          "paper_bgcolor": "rgb(17,17,17)",
          "plot_bgcolor": "rgb(17,17,17)",
          "polar": {
           "bgcolor": "rgb(17,17,17)",
           "angularaxis": {
            "gridcolor": "#506784",
            "linecolor": "#506784",
            "ticks": ""
           },
           "radialaxis": {
            "gridcolor": "#506784",
            "linecolor": "#506784",
            "ticks": ""
           }
          },
          "ternary": {
           "bgcolor": "rgb(17,17,17)",
           "aaxis": {
            "gridcolor": "#506784",
            "linecolor": "#506784",
            "ticks": ""
           },
           "baxis": {
            "gridcolor": "#506784",
            "linecolor": "#506784",
            "ticks": ""
           },
           "caxis": {
            "gridcolor": "#506784",
            "linecolor": "#506784",
            "ticks": ""
           }
          },
          "coloraxis": {
           "colorbar": {
            "outlinewidth": 0,
            "ticks": ""
           }
          },
          "colorscale": {
           "sequential": [
            [
             0.0,
             "#0d0887"
            ],
            [
             0.1111111111111111,
             "#46039f"
            ],
            [
             0.2222222222222222,
             "#7201a8"
            ],
            [
             0.3333333333333333,
             "#9c179e"
            ],
            [
             0.4444444444444444,
             "#bd3786"
            ],
            [
             0.5555555555555556,
             "#d8576b"
            ],
            [
             0.6666666666666666,
             "#ed7953"
            ],
            [
             0.7777777777777778,
             "#fb9f3a"
            ],
            [
             0.8888888888888888,
             "#fdca26"
            ],
            [
             1.0,
             "#f0f921"
            ]
           ],
           "sequentialminus": [
            [
             0.0,
             "#0d0887"
            ],
            [
             0.1111111111111111,
             "#46039f"
            ],
            [
             0.2222222222222222,
             "#7201a8"
            ],
            [
             0.3333333333333333,
             "#9c179e"
            ],
            [
             0.4444444444444444,
             "#bd3786"
            ],
            [
             0.5555555555555556,
             "#d8576b"
            ],
            [
             0.6666666666666666,
             "#ed7953"
            ],
            [
             0.7777777777777778,
             "#fb9f3a"
            ],
            [
             0.8888888888888888,
             "#fdca26"
            ],
            [
             1.0,
             "#f0f921"
            ]
           ],
           "diverging": [
            [
             0,
             "#8e0152"
            ],
            [
             0.1,
             "#c51b7d"
            ],
            [
             0.2,
             "#de77ae"
            ],
            [
             0.3,
             "#f1b6da"
            ],
            [
             0.4,
             "#fde0ef"
            ],
            [
             0.5,
             "#f7f7f7"
            ],
            [
             0.6,
             "#e6f5d0"
            ],
            [
             0.7,
             "#b8e186"
            ],
            [
             0.8,
             "#7fbc41"
            ],
            [
             0.9,
             "#4d9221"
            ],
            [
             1,
             "#276419"
            ]
           ]
          },
          "xaxis": {
           "gridcolor": "#283442",
           "linecolor": "#506784",
           "ticks": "",
           "title": {
            "standoff": 15
           },
           "zerolinecolor": "#283442",
           "automargin": true,
           "zerolinewidth": 2
          },
          "yaxis": {
           "gridcolor": "#283442",
           "linecolor": "#506784",
           "ticks": "",
           "title": {
            "standoff": 15
           },
           "zerolinecolor": "#283442",
           "automargin": true,
           "zerolinewidth": 2
          },
          "scene": {
           "xaxis": {
            "backgroundcolor": "rgb(17,17,17)",
            "gridcolor": "#506784",
            "linecolor": "#506784",
            "showbackground": true,
            "ticks": "",
            "zerolinecolor": "#C8D4E3",
            "gridwidth": 2
           },
           "yaxis": {
            "backgroundcolor": "rgb(17,17,17)",
            "gridcolor": "#506784",
            "linecolor": "#506784",
            "showbackground": true,
            "ticks": "",
            "zerolinecolor": "#C8D4E3",
            "gridwidth": 2
           },
           "zaxis": {
            "backgroundcolor": "rgb(17,17,17)",
            "gridcolor": "#506784",
            "linecolor": "#506784",
            "showbackground": true,
            "ticks": "",
            "zerolinecolor": "#C8D4E3",
            "gridwidth": 2
           }
          },
          "shapedefaults": {
           "line": {
            "color": "#f2f5fa"
           }
          },
          "annotationdefaults": {
           "arrowcolor": "#f2f5fa",
           "arrowhead": 0,
           "arrowwidth": 1
          },
          "geo": {
           "bgcolor": "rgb(17,17,17)",
           "landcolor": "rgb(17,17,17)",
           "subunitcolor": "#506784",
           "showland": true,
           "showlakes": true,
           "lakecolor": "rgb(17,17,17)"
          },
          "title": {
           "x": 0.05
          },
          "updatemenudefaults": {
           "bgcolor": "#506784",
           "borderwidth": 0
          },
          "sliderdefaults": {
           "bgcolor": "#C8D4E3",
           "borderwidth": 1,
           "bordercolor": "rgb(17,17,17)",
           "tickwidth": 0
          },
          "mapbox": {
           "style": "dark"
          }
         }
        },
        "xaxis": {
         "anchor": "y",
         "domain": [
          0.0,
          1.0
         ],
         "title": {
          "text": "x"
         }
        },
        "yaxis": {
         "anchor": "x",
         "domain": [
          0.0,
          1.0
         ],
         "title": {
          "text": "y"
         }
        },
        "coloraxis": {
         "colorbar": {
          "title": {
           "text": "anomaly"
          }
         },
         "colorscale": [
          [
           0.0,
           "#0d0887"
          ],
          [
           0.1111111111111111,
           "#46039f"
          ],
          [
           0.2222222222222222,
           "#7201a8"
          ],
          [
           0.3333333333333333,
           "#9c179e"
          ],
          [
           0.4444444444444444,
           "#bd3786"
          ],
          [
           0.5555555555555556,
           "#d8576b"
          ],
          [
           0.6666666666666666,
           "#ed7953"
          ],
          [
           0.7777777777777778,
           "#fb9f3a"
          ],
          [
           0.8888888888888888,
           "#fdca26"
          ],
          [
           1.0,
           "#f0f921"
          ]
         ]
        },
        "legend": {
         "tracegroupgap": 0
        },
        "margin": {
         "t": 60
        }
       },
       "config": {
        "plotlyServerURL": "https://plot.ly"
       }
      },
      "text/html": "<div>                            <div id=\"55a11a36-38c3-4bb9-a5dd-b15150838564\" class=\"plotly-graph-div\" style=\"height:525px; width:100%;\"></div>            <script type=\"text/javascript\">                require([\"plotly\"], function(Plotly) {                    window.PLOTLYENV=window.PLOTLYENV || {};                                    if (document.getElementById(\"55a11a36-38c3-4bb9-a5dd-b15150838564\")) {                    Plotly.newPlot(                        \"55a11a36-38c3-4bb9-a5dd-b15150838564\",                        [{\"hovertemplate\":\"x=%{x}<br>y=%{y}<br>anomaly=%{marker.color}<extra></extra>\",\"legendgroup\":\"\",\"marker\":{\"color\":[0,0,0,0,0,0,0,0,0,0,0,0,0,0,0,0,0,0,0,0,0,0,0,0,0,0,0,0,0,0,0,0,0,0,0,0,0,0,0,0,0,0,0,0,0,0,0,0,0,0,0,0,1,0,1,0,0,1,1,0,1,0,0,0,0,0,0,0,1,0,0,0,0,0,0,0,0,0,0,1,0,0,0,0,0,0,0,0,0,1,0,0,0,1,0,0,0,0,0,0,0,0,0,0,0,0,0,0,0,0,0,0,0,0,0,0,0,0,0,0,0,0,0,0,1,0,0,0,0,0,0,0,0,0,0,0,0,0,0,0,0,0,0,0,0,0,0,0,0,0],\"coloraxis\":\"coloraxis\",\"symbol\":\"circle\"},\"mode\":\"markers\",\"name\":\"\",\"orientation\":\"v\",\"showlegend\":false,\"x\":[13.537487983703613,12.804363250732422,8.628251075744629,8.246952056884766,6.215000629425049,12.350640296936035,6.532264709472656,13.79284954071045,12.18552303314209,11.053351402282715,6.290762424468994,6.744361400604248,11.761312484741211,13.8043212890625,11.270676612854004,7.36509895324707,14.248273849487305,14.384870529174805,11.589302062988281,11.97488021850586,8.790261268615723,11.807927131652832,12.341858863830566,13.296489715576172,6.68276309967041,11.985934257507324,7.265527725219727,6.086018085479736,6.089423179626465,12.026151657104492,12.490655899047852,6.9548444747924805,11.312185287475586,7.722540855407715,8.307958602905273,10.948282241821289,11.096321105957031,12.526637077331543,14.016473770141602,7.274402618408203,14.170287132263184,13.302151679992676,8.028745651245117,5.937510967254639,12.726044654846191,8.786555290222168,11.531683921813965,6.138433456420898,6.670467853546143,7.030922889709473,12.748161315917969,10.939597129821777,6.080517292022705,10.254453659057617,7.8176422119140625,9.412736892700195,9.791104316711426,8.300228118896484,5.781330585479736,8.19794750213623,6.751646995544434,11.932524681091309,13.069175720214844,6.982558250427246,10.480545997619629,9.311020851135254,8.15224552154541,12.5741605758667,8.336195945739746,13.129603385925293,7.337162494659424,7.338805675506592,8.07832145690918,13.136759757995605,12.625706672668457,10.678282737731934,6.076215744018555,5.590686321258545,13.066926002502441,6.029753684997559,12.867378234863281,12.824294090270996,6.642228126525879,13.356690406799316,11.280561447143555,12.386999130249023,12.636521339416504,11.735563278198242,12.88947582244873,6.515336513519287,12.863584518432617,13.066999435424805,13.487605094909668,6.783556938171387,6.654932498931885,8.133305549621582,8.096770286560059,12.976603507995605,5.661290168762207,9.379439353942871,7.025589466094971,5.511139869689941,6.914112567901611,6.061190605163574,6.812223434448242,13.552123069763184,7.491454601287842,10.04277515411377,12.528157234191895,7.473830699920654,6.26609992980957,5.565687656402588,6.927102088928223,11.960919380187988,13.453594207763672,14.531440734863281,11.516390800476074,11.878664016723633,7.782282829284668,5.989259719848633,10.62231159210205,13.272223472595215,14.370501518249512,8.100104331970215,7.8214826583862305,10.49817180633545,9.576303482055664,9.519831657409668,10.240256309509277,12.797371864318848,6.5512518882751465,13.892505645751953,13.74892520904541,13.190475463867188,12.828577995300293,12.433934211730957,10.010544776916504,11.440122604370117,13.333380699157715,10.935544967651367,7.801340103149414,5.63381290435791,5.905267238616943,10.186293601989746,8.186965942382812,9.514349937438965,9.259175300598145,7.472456455230713,8.463417053222656,7.3710246086120605],\"xaxis\":\"x\",\"y\":[1.3910483121871948,1.0288149118423462,1.9555796384811401,2.091399908065796,4.529063701629639,1.8845014572143555,4.066973686218262,1.3018572330474854,0.38273224234580994,1.2613896131515503,4.633568286895752,3.822228193283081,-0.16151310503482819,1.9416835308074951,1.5540627241134644,3.259859085083008,1.14863121509552,1.5549858808517456,1.067067265510559,0.06905579566955566,2.3710696697235107,0.7925629019737244,0.9241331815719604,0.9931471943855286,3.5934762954711914,1.8893240690231323,2.770608425140381,4.668552398681641,4.208358287811279,-0.11197882890701294,0.21992650628089905,3.3072032928466797,0.014816509559750557,2.538874387741089,2.4832494258880615,1.8404263257980347,1.7729823589324951,1.7887049913406372,1.6637928485870361,2.4200689792633057,1.4075981378555298,1.7164913415908813,2.151893138885498,4.11361837387085,0.6938754320144653,1.8420963287353516,0.13214845955371857,3.8055033683776855,2.90875244140625,2.7889766693115234,2.339106321334839,0.6600766777992249,3.129643678665161,1.7857022285461426,1.588864803314209,1.8521548509597778,2.094614028930664,3.1527979373931885,3.335843563079834,1.2966655492782593,1.989161729812622,-0.7553691267967224,2.2282588481903076,1.9713997840881348,1.0410829782485962,1.6912529468536377,1.2931017875671387,-0.3698567748069763,3.187274694442749,0.05634036660194397,1.7853456735610962,1.7656830549240112,1.7000901699066162,0.05615783482789993,-0.40331780910491943,0.6855396032333374,2.933623790740967,4.737553119659424,0.1807432323694229,3.002164125442505,-0.35377052426338196,2.3439648151397705,2.17712140083313,0.3185381293296814,0.7115842700004578,2.5233516693115234,-0.5186647772789001,2.3311679363250732,2.3013410568237305,2.2171967029571533,2.250734806060791,0.05704367160797119,0.2884012460708618,2.06156063079834,1.981487512588501,3.115309953689575,3.2209858894348145,-0.06177176907658577,4.741549015045166,1.9045836925506592,4.63619327545166,4.492382049560547,4.616623401641846,2.948518991470337,4.72951602935791,0.24867352843284607,1.704516887664795,1.9742870330810547,-0.39343827962875366,3.842193126678467,2.5466361045837402,3.703658103942871,4.681099891662598,-0.745425283908844,0.3243924677371979,0.7622838020324707,2.3605213165283203,2.3166961669921875,1.5717107057571411,2.8785173892974854,1.2082349061965942,0.22841082513332367,0.6862320899963379,1.4068223237991333,1.506938099861145,1.058349847793579,1.9290502071380615,2.336486339569092,1.9007354974746704,-0.17520259320735931,2.1601712703704834,0.5961903929710388,0.6097111105918884,0.16410955786705017,2.3259329795837402,-0.601410448551178,1.835055947303772,-0.6476918458938599,0.4007478952407837,0.5850121378898621,3.6271910667419434,3.5110814571380615,5.054816722869873,1.732667326927185,1.2378997802734375,2.1783223152160645,2.607147693634033,1.669821858406067,1.3232638835906982,1.8035762310028076],\"yaxis\":\"y\",\"type\":\"scatter\"}],                        {\"template\":{\"data\":{\"histogram2dcontour\":[{\"type\":\"histogram2dcontour\",\"colorbar\":{\"outlinewidth\":0,\"ticks\":\"\"},\"colorscale\":[[0.0,\"#0d0887\"],[0.1111111111111111,\"#46039f\"],[0.2222222222222222,\"#7201a8\"],[0.3333333333333333,\"#9c179e\"],[0.4444444444444444,\"#bd3786\"],[0.5555555555555556,\"#d8576b\"],[0.6666666666666666,\"#ed7953\"],[0.7777777777777778,\"#fb9f3a\"],[0.8888888888888888,\"#fdca26\"],[1.0,\"#f0f921\"]]}],\"choropleth\":[{\"type\":\"choropleth\",\"colorbar\":{\"outlinewidth\":0,\"ticks\":\"\"}}],\"histogram2d\":[{\"type\":\"histogram2d\",\"colorbar\":{\"outlinewidth\":0,\"ticks\":\"\"},\"colorscale\":[[0.0,\"#0d0887\"],[0.1111111111111111,\"#46039f\"],[0.2222222222222222,\"#7201a8\"],[0.3333333333333333,\"#9c179e\"],[0.4444444444444444,\"#bd3786\"],[0.5555555555555556,\"#d8576b\"],[0.6666666666666666,\"#ed7953\"],[0.7777777777777778,\"#fb9f3a\"],[0.8888888888888888,\"#fdca26\"],[1.0,\"#f0f921\"]]}],\"heatmap\":[{\"type\":\"heatmap\",\"colorbar\":{\"outlinewidth\":0,\"ticks\":\"\"},\"colorscale\":[[0.0,\"#0d0887\"],[0.1111111111111111,\"#46039f\"],[0.2222222222222222,\"#7201a8\"],[0.3333333333333333,\"#9c179e\"],[0.4444444444444444,\"#bd3786\"],[0.5555555555555556,\"#d8576b\"],[0.6666666666666666,\"#ed7953\"],[0.7777777777777778,\"#fb9f3a\"],[0.8888888888888888,\"#fdca26\"],[1.0,\"#f0f921\"]]}],\"heatmapgl\":[{\"type\":\"heatmapgl\",\"colorbar\":{\"outlinewidth\":0,\"ticks\":\"\"},\"colorscale\":[[0.0,\"#0d0887\"],[0.1111111111111111,\"#46039f\"],[0.2222222222222222,\"#7201a8\"],[0.3333333333333333,\"#9c179e\"],[0.4444444444444444,\"#bd3786\"],[0.5555555555555556,\"#d8576b\"],[0.6666666666666666,\"#ed7953\"],[0.7777777777777778,\"#fb9f3a\"],[0.8888888888888888,\"#fdca26\"],[1.0,\"#f0f921\"]]}],\"contourcarpet\":[{\"type\":\"contourcarpet\",\"colorbar\":{\"outlinewidth\":0,\"ticks\":\"\"}}],\"contour\":[{\"type\":\"contour\",\"colorbar\":{\"outlinewidth\":0,\"ticks\":\"\"},\"colorscale\":[[0.0,\"#0d0887\"],[0.1111111111111111,\"#46039f\"],[0.2222222222222222,\"#7201a8\"],[0.3333333333333333,\"#9c179e\"],[0.4444444444444444,\"#bd3786\"],[0.5555555555555556,\"#d8576b\"],[0.6666666666666666,\"#ed7953\"],[0.7777777777777778,\"#fb9f3a\"],[0.8888888888888888,\"#fdca26\"],[1.0,\"#f0f921\"]]}],\"surface\":[{\"type\":\"surface\",\"colorbar\":{\"outlinewidth\":0,\"ticks\":\"\"},\"colorscale\":[[0.0,\"#0d0887\"],[0.1111111111111111,\"#46039f\"],[0.2222222222222222,\"#7201a8\"],[0.3333333333333333,\"#9c179e\"],[0.4444444444444444,\"#bd3786\"],[0.5555555555555556,\"#d8576b\"],[0.6666666666666666,\"#ed7953\"],[0.7777777777777778,\"#fb9f3a\"],[0.8888888888888888,\"#fdca26\"],[1.0,\"#f0f921\"]]}],\"mesh3d\":[{\"type\":\"mesh3d\",\"colorbar\":{\"outlinewidth\":0,\"ticks\":\"\"}}],\"scatter\":[{\"marker\":{\"line\":{\"color\":\"#283442\"}},\"type\":\"scatter\"}],\"parcoords\":[{\"type\":\"parcoords\",\"line\":{\"colorbar\":{\"outlinewidth\":0,\"ticks\":\"\"}}}],\"scatterpolargl\":[{\"type\":\"scatterpolargl\",\"marker\":{\"colorbar\":{\"outlinewidth\":0,\"ticks\":\"\"}}}],\"bar\":[{\"error_x\":{\"color\":\"#f2f5fa\"},\"error_y\":{\"color\":\"#f2f5fa\"},\"marker\":{\"line\":{\"color\":\"rgb(17,17,17)\",\"width\":0.5},\"pattern\":{\"fillmode\":\"overlay\",\"size\":10,\"solidity\":0.2}},\"type\":\"bar\"}],\"scattergeo\":[{\"type\":\"scattergeo\",\"marker\":{\"colorbar\":{\"outlinewidth\":0,\"ticks\":\"\"}}}],\"scatterpolar\":[{\"type\":\"scatterpolar\",\"marker\":{\"colorbar\":{\"outlinewidth\":0,\"ticks\":\"\"}}}],\"histogram\":[{\"marker\":{\"pattern\":{\"fillmode\":\"overlay\",\"size\":10,\"solidity\":0.2}},\"type\":\"histogram\"}],\"scattergl\":[{\"marker\":{\"line\":{\"color\":\"#283442\"}},\"type\":\"scattergl\"}],\"scatter3d\":[{\"type\":\"scatter3d\",\"line\":{\"colorbar\":{\"outlinewidth\":0,\"ticks\":\"\"}},\"marker\":{\"colorbar\":{\"outlinewidth\":0,\"ticks\":\"\"}}}],\"scattermapbox\":[{\"type\":\"scattermapbox\",\"marker\":{\"colorbar\":{\"outlinewidth\":0,\"ticks\":\"\"}}}],\"scatterternary\":[{\"type\":\"scatterternary\",\"marker\":{\"colorbar\":{\"outlinewidth\":0,\"ticks\":\"\"}}}],\"scattercarpet\":[{\"type\":\"scattercarpet\",\"marker\":{\"colorbar\":{\"outlinewidth\":0,\"ticks\":\"\"}}}],\"carpet\":[{\"aaxis\":{\"endlinecolor\":\"#A2B1C6\",\"gridcolor\":\"#506784\",\"linecolor\":\"#506784\",\"minorgridcolor\":\"#506784\",\"startlinecolor\":\"#A2B1C6\"},\"baxis\":{\"endlinecolor\":\"#A2B1C6\",\"gridcolor\":\"#506784\",\"linecolor\":\"#506784\",\"minorgridcolor\":\"#506784\",\"startlinecolor\":\"#A2B1C6\"},\"type\":\"carpet\"}],\"table\":[{\"cells\":{\"fill\":{\"color\":\"#506784\"},\"line\":{\"color\":\"rgb(17,17,17)\"}},\"header\":{\"fill\":{\"color\":\"#2a3f5f\"},\"line\":{\"color\":\"rgb(17,17,17)\"}},\"type\":\"table\"}],\"barpolar\":[{\"marker\":{\"line\":{\"color\":\"rgb(17,17,17)\",\"width\":0.5},\"pattern\":{\"fillmode\":\"overlay\",\"size\":10,\"solidity\":0.2}},\"type\":\"barpolar\"}],\"pie\":[{\"automargin\":true,\"type\":\"pie\"}]},\"layout\":{\"autotypenumbers\":\"strict\",\"colorway\":[\"#636efa\",\"#EF553B\",\"#00cc96\",\"#ab63fa\",\"#FFA15A\",\"#19d3f3\",\"#FF6692\",\"#B6E880\",\"#FF97FF\",\"#FECB52\"],\"font\":{\"color\":\"#f2f5fa\"},\"hovermode\":\"closest\",\"hoverlabel\":{\"align\":\"left\"},\"paper_bgcolor\":\"rgb(17,17,17)\",\"plot_bgcolor\":\"rgb(17,17,17)\",\"polar\":{\"bgcolor\":\"rgb(17,17,17)\",\"angularaxis\":{\"gridcolor\":\"#506784\",\"linecolor\":\"#506784\",\"ticks\":\"\"},\"radialaxis\":{\"gridcolor\":\"#506784\",\"linecolor\":\"#506784\",\"ticks\":\"\"}},\"ternary\":{\"bgcolor\":\"rgb(17,17,17)\",\"aaxis\":{\"gridcolor\":\"#506784\",\"linecolor\":\"#506784\",\"ticks\":\"\"},\"baxis\":{\"gridcolor\":\"#506784\",\"linecolor\":\"#506784\",\"ticks\":\"\"},\"caxis\":{\"gridcolor\":\"#506784\",\"linecolor\":\"#506784\",\"ticks\":\"\"}},\"coloraxis\":{\"colorbar\":{\"outlinewidth\":0,\"ticks\":\"\"}},\"colorscale\":{\"sequential\":[[0.0,\"#0d0887\"],[0.1111111111111111,\"#46039f\"],[0.2222222222222222,\"#7201a8\"],[0.3333333333333333,\"#9c179e\"],[0.4444444444444444,\"#bd3786\"],[0.5555555555555556,\"#d8576b\"],[0.6666666666666666,\"#ed7953\"],[0.7777777777777778,\"#fb9f3a\"],[0.8888888888888888,\"#fdca26\"],[1.0,\"#f0f921\"]],\"sequentialminus\":[[0.0,\"#0d0887\"],[0.1111111111111111,\"#46039f\"],[0.2222222222222222,\"#7201a8\"],[0.3333333333333333,\"#9c179e\"],[0.4444444444444444,\"#bd3786\"],[0.5555555555555556,\"#d8576b\"],[0.6666666666666666,\"#ed7953\"],[0.7777777777777778,\"#fb9f3a\"],[0.8888888888888888,\"#fdca26\"],[1.0,\"#f0f921\"]],\"diverging\":[[0,\"#8e0152\"],[0.1,\"#c51b7d\"],[0.2,\"#de77ae\"],[0.3,\"#f1b6da\"],[0.4,\"#fde0ef\"],[0.5,\"#f7f7f7\"],[0.6,\"#e6f5d0\"],[0.7,\"#b8e186\"],[0.8,\"#7fbc41\"],[0.9,\"#4d9221\"],[1,\"#276419\"]]},\"xaxis\":{\"gridcolor\":\"#283442\",\"linecolor\":\"#506784\",\"ticks\":\"\",\"title\":{\"standoff\":15},\"zerolinecolor\":\"#283442\",\"automargin\":true,\"zerolinewidth\":2},\"yaxis\":{\"gridcolor\":\"#283442\",\"linecolor\":\"#506784\",\"ticks\":\"\",\"title\":{\"standoff\":15},\"zerolinecolor\":\"#283442\",\"automargin\":true,\"zerolinewidth\":2},\"scene\":{\"xaxis\":{\"backgroundcolor\":\"rgb(17,17,17)\",\"gridcolor\":\"#506784\",\"linecolor\":\"#506784\",\"showbackground\":true,\"ticks\":\"\",\"zerolinecolor\":\"#C8D4E3\",\"gridwidth\":2},\"yaxis\":{\"backgroundcolor\":\"rgb(17,17,17)\",\"gridcolor\":\"#506784\",\"linecolor\":\"#506784\",\"showbackground\":true,\"ticks\":\"\",\"zerolinecolor\":\"#C8D4E3\",\"gridwidth\":2},\"zaxis\":{\"backgroundcolor\":\"rgb(17,17,17)\",\"gridcolor\":\"#506784\",\"linecolor\":\"#506784\",\"showbackground\":true,\"ticks\":\"\",\"zerolinecolor\":\"#C8D4E3\",\"gridwidth\":2}},\"shapedefaults\":{\"line\":{\"color\":\"#f2f5fa\"}},\"annotationdefaults\":{\"arrowcolor\":\"#f2f5fa\",\"arrowhead\":0,\"arrowwidth\":1},\"geo\":{\"bgcolor\":\"rgb(17,17,17)\",\"landcolor\":\"rgb(17,17,17)\",\"subunitcolor\":\"#506784\",\"showland\":true,\"showlakes\":true,\"lakecolor\":\"rgb(17,17,17)\"},\"title\":{\"x\":0.05},\"updatemenudefaults\":{\"bgcolor\":\"#506784\",\"borderwidth\":0},\"sliderdefaults\":{\"bgcolor\":\"#C8D4E3\",\"borderwidth\":1,\"bordercolor\":\"rgb(17,17,17)\",\"tickwidth\":0},\"mapbox\":{\"style\":\"dark\"}}},\"xaxis\":{\"anchor\":\"y\",\"domain\":[0.0,1.0],\"title\":{\"text\":\"x\"}},\"yaxis\":{\"anchor\":\"x\",\"domain\":[0.0,1.0],\"title\":{\"text\":\"y\"}},\"coloraxis\":{\"colorbar\":{\"title\":{\"text\":\"anomaly\"}},\"colorscale\":[[0.0,\"#0d0887\"],[0.1111111111111111,\"#46039f\"],[0.2222222222222222,\"#7201a8\"],[0.3333333333333333,\"#9c179e\"],[0.4444444444444444,\"#bd3786\"],[0.5555555555555556,\"#d8576b\"],[0.6666666666666666,\"#ed7953\"],[0.7777777777777778,\"#fb9f3a\"],[0.8888888888888888,\"#fdca26\"],[1.0,\"#f0f921\"]]},\"legend\":{\"tracegroupgap\":0},\"margin\":{\"t\":60}},                        {\"responsive\": true}                    ).then(function(){\n                            \nvar gd = document.getElementById('55a11a36-38c3-4bb9-a5dd-b15150838564');\nvar x = new MutationObserver(function (mutations, observer) {{\n        var display = window.getComputedStyle(gd).display;\n        if (!display || display === 'none') {{\n            console.log([gd, 'removed!']);\n            Plotly.purge(gd);\n            observer.disconnect();\n        }}\n}});\n\n// Listen for the removal of the full notebook cells\nvar notebookContainer = gd.closest('#notebook-container');\nif (notebookContainer) {{\n    x.observe(notebookContainer, {childList: true});\n}}\n\n// Listen for the clearing of the current output cell\nvar outputEl = gd.closest('.output');\nif (outputEl) {{\n    x.observe(outputEl, {childList: true});\n}}\n\n                        })                };                });            </script>        </div>"
     },
     "metadata": {},
     "output_type": "display_data"
    }
   ],
   "source": [
    "# import plotly.io as pio\n",
    "# pio.renderers.default='notebook'\n",
    "#\n",
    "px.scatter(viz_df, x=\"x\", y=\"y\", color=\"anomaly\")"
   ]
  }
 ],
 "metadata": {
  "kernelspec": {
   "display_name": "Python 3 (ipykernel)",
   "language": "python",
   "name": "python3"
  },
  "language_info": {
   "codemirror_mode": {
    "name": "ipython",
    "version": 3
   },
   "file_extension": ".py",
   "mimetype": "text/x-python",
   "name": "python",
   "nbconvert_exporter": "python",
   "pygments_lexer": "ipython3",
   "version": "3.9.5"
  }
 },
 "nbformat": 4,
 "nbformat_minor": 1
}
