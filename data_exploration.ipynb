{
 "cells": [
  {
   "cell_type": "code",
   "execution_count": 1,
   "outputs": [],
   "source": [
    "%load_ext autoreload\n",
    "%autoreload 2"
   ],
   "metadata": {
    "collapsed": false,
    "ExecuteTime": {
     "end_time": "2023-05-30T19:57:15.374613836Z",
     "start_time": "2023-05-30T19:57:15.370478731Z"
    }
   }
  },
  {
   "cell_type": "code",
   "execution_count": 2,
   "outputs": [
    {
     "name": "stdout",
     "output_type": "stream",
     "text": [
      "\n"
     ]
    }
   ],
   "source": [
    "import warnings\n",
    "\n",
    "warnings.filterwarnings(action=\"ignore\")\n",
    "\n",
    "import os\n",
    "import tqdm\n",
    "import numpy as np\n",
    "import pandas as pd\n",
    "\n",
    "from typing import Tuple, List, Dict, Any\n",
    "from constants import *\n",
    "from features.user import User\n",
    "\n",
    "\n",
    "# 90 of the test segments are genuine (i.e., benign) and 10 segments are entered bya masquerader (randomly sorted)."
   ],
   "metadata": {
    "collapsed": false,
    "ExecuteTime": {
     "end_time": "2023-05-30T19:57:16.005935629Z",
     "start_time": "2023-05-30T19:57:15.373460236Z"
    }
   }
  },
  {
   "cell_type": "code",
   "execution_count": 3,
   "metadata": {
    "ExecuteTime": {
     "end_time": "2023-05-30T19:57:16.026468540Z",
     "start_time": "2023-05-30T19:57:16.003056839Z"
    }
   },
   "outputs": [],
   "source": [
    "#   load answer for classifcation\n",
    "gt_df = pd.read_csv(\"challengeToFill.csv\", index_col=0).T[TRAIN_SEGMENT_COUNT:].reset_index(drop=True)\n",
    "\n",
    "\n",
    "\n",
    "\n",
    "# dev_set_df = gt_df.T.iloc[TRAIN_SEGMENT_COUNT:, :DEV_USERS_COUNT]"
   ]
  },
  {
   "cell_type": "code",
   "execution_count": 4,
   "metadata": {
    "ExecuteTime": {
     "end_time": "2023-05-30T19:57:32.360590879Z",
     "start_time": "2023-05-30T19:57:16.027842477Z"
    }
   },
   "outputs": [
    {
     "name": "stderr",
     "output_type": "stream",
     "text": [
      "100%|██████████| 10/10 [00:16<00:00,  1.63s/it]\n"
     ]
    }
   ],
   "source": [
    "user_list = [f\"User{i}\" for i in range(10)]\n",
    "submission_user_list = [f\"User{i}\" for i in range(10, 40)]\n",
    "data_path = [f\"data/{uid}\" for uid in user_list]\n",
    "submission_data_path = [f\"data/{uid}\" for uid in submission_user_list]\n",
    "\n",
    "user_data = {}\n",
    "\n",
    "for user_id, user_data_path in tqdm.tqdm(zip(user_list, data_path), total=len(user_list)):\n",
    "    #   load user data\n",
    "    user_data[user_id] = User(user_id, user_data_path, gt_df[user_id])\n",
    "\n",
    "    # create segment features\n",
    "    user_data[user_id].build_segment_features()\n"
   ]
  },
  {
   "cell_type": "code",
   "execution_count": 5,
   "outputs": [],
   "source": [
    "import matplotlib.pyplot as plt\n",
    "\n",
    "all_test_segments = [user_data[user_id].segment_df_test.select_dtypes(\"number\") for user_id in user_list]\n",
    "all_test_segments_gt = [user_data[user_id].user_anomaly_gt for user_id in user_list]\n",
    "\n",
    "all_test_segments = pd.concat(all_test_segments).reset_index(drop=True)\n",
    "all_test_segments[\"anomaly\"] = pd.concat(all_test_segments_gt).reset_index(drop=True)\n",
    "\n",
    "all_test_segments[\"noise\"] = np.random.rand(len(all_test_segments))\n",
    "\n",
    "\n",
    "corr = all_test_segments.corr()"
   ],
   "metadata": {
    "collapsed": false,
    "ExecuteTime": {
     "end_time": "2023-05-30T19:57:32.601933029Z",
     "start_time": "2023-05-30T19:57:32.360985925Z"
    }
   }
  },
  {
   "cell_type": "code",
   "execution_count": 6,
   "outputs": [],
   "source": [
    "#   get feature correlations to anomaly\n",
    "\n",
    "TOP_K = 1000\n",
    "\n",
    "corr[\"anomaly\"].sort_values(ascending=False)\n",
    "\n",
    "top_k_features = corr[\"anomaly\"].sort_values(ascending=False)[1:TOP_K].index.tolist()\n",
    "\n",
    "if \"noise\" in top_k_features:\n",
    "    top_k_features.remove(\"noise\")"
   ],
   "metadata": {
    "collapsed": false,
    "ExecuteTime": {
     "end_time": "2023-05-30T19:57:32.614690938Z",
     "start_time": "2023-05-30T19:57:32.602670973Z"
    }
   }
  },
  {
   "cell_type": "code",
   "execution_count": 7,
   "outputs": [
    {
     "data": {
      "text/plain": "anomaly                                     1.000000\ncmds_not_in_train                           0.568771\nnot_in_train_has_all_lowercase_cmds         0.534410\nnot_in_train_has_mail_cmds                  0.455947\nnot_in_train_has_uppercase_cmds             0.424999\nnot_in_train_four_chars_cmds                0.399250\nnot_in_train_three_chars_cmds               0.399250\nnot_in_train_has_numerics_cmds              0.363472\nnot_in_train_has_dot_in_middle_cmds         0.298680\nnot_in_train_two_chars_cmds                 0.273712\nnot_in_train_has_coding_cmds                0.234834\nnot_in_train_single_chars_cmds              0.226589\nnot_in_train_starts_with_dotfile_cmds       0.190117\nhas_ssh_cmds                                0.190117\nnot_in_train_has_ssh_cmds                   0.190117\nhas_uppercase_cmds                          0.182880\nnot_in_train_has_navigation_cmds            0.158878\nhas_dot_in_middle_cmds                      0.144612\nhas_mail_cmds                               0.128266\nunique_cmds                                 0.119453\nmean_cmd_length                             0.109548\nmax_cmd_len                                 0.103388\nhas_all_lowercase_cmds                      0.101837\nnot_in_train_has_kill_cmds                  0.094916\nnot_in_train_has_download_cmds              0.082319\nhas_numerics_cmds                           0.080657\ntwo_chars_cmds                              0.080631\nhas_navigation_cmds                         0.076918\nnot_in_train_has_zip_cmds                   0.074121\nhas_search_cmds                             0.064362\nhas_download_cmds                           0.060783\nnot_in_train_has_help_cmds                  0.051975\nfour_chars_cmds                             0.049610\nthree_chars_cmds                            0.049610\nhas_permission_change_cmds                  0.045394\nhas_kill_cmds                               0.019540\nnoise                                       0.014695\nhas_coding_cmds                             0.006995\nnot_in_train_has_permission_change_cmds    -0.010546\nhas_fx_cmds                                -0.018285\nnot_in_train_has_fx_cmds                   -0.018285\nnot_in_train_has_text_documents            -0.018285\nhas_help_cmds                              -0.018882\nhas_text_documents                         -0.023629\nstarts_with_dotfile_cmds                   -0.045283\nsingle_chars_cmds                          -0.055210\nhas_zip_cmds                               -0.060689\nmin_cmd_len                                -0.060932\nhas_encryption_cmds                        -0.090038\nlongest_same_cmd_sequence                  -0.099179\nends_with_dot_cmds                               NaN\nhas_db_cmds                                      NaN\nhas_cmds_longer_then_8_cmds                      NaN\nnot_in_train_ends_with_dot_cmds                  NaN\nnot_in_train_has_db_cmds                         NaN\nnot_in_train_has_search_cmds                     NaN\nnot_in_train_has_encryption_cmds                 NaN\nnot_in_train_has_cmds_longer_then_8_cmds         NaN\nName: anomaly, dtype: float64"
     },
     "execution_count": 7,
     "metadata": {},
     "output_type": "execute_result"
    }
   ],
   "source": [
    "corr[\"anomaly\"].sort_values(ascending=False)"
   ],
   "metadata": {
    "collapsed": false,
    "ExecuteTime": {
     "end_time": "2023-05-30T19:57:32.638285275Z",
     "start_time": "2023-05-30T19:57:32.615810925Z"
    }
   }
  },
  {
   "cell_type": "code",
   "execution_count": 8,
   "outputs": [],
   "source": [
    "# import plotly.express as px\n",
    "# fig = px.imshow(corr)\n",
    "# fig.show()"
   ],
   "metadata": {
    "collapsed": false,
    "ExecuteTime": {
     "end_time": "2023-05-30T19:57:32.641421111Z",
     "start_time": "2023-05-30T19:57:32.630999687Z"
    }
   }
  },
  {
   "cell_type": "code",
   "execution_count": 9,
   "metadata": {
    "ExecuteTime": {
     "end_time": "2023-05-30T19:57:33.839018098Z",
     "start_time": "2023-05-30T19:57:32.645150829Z"
    }
   },
   "outputs": [
    {
     "name": "stderr",
     "output_type": "stream",
     "text": [
      "100%|██████████| 10/10 [00:01<00:00,  9.99it/s]\n"
     ]
    }
   ],
   "source": [
    "''' first outlier detection algo '''\n",
    "from sklearn.decomposition import PCA\n",
    "from eval.metrics import detection_metrics, ScoreCounter\n",
    "from detection.pipeline import DetectionPipeline\n",
    "from sklearn.preprocessing import MinMaxScaler\n",
    "\n",
    "\n",
    "user_scores_high_dim = {}\n",
    "user_scores_low_dim = {}\n",
    "session_classification = {}\n",
    "\n",
    "score_counter = ScoreCounter(len(user_list))\n",
    "\n",
    "for user_id in tqdm.tqdm(user_list):\n",
    "\n",
    "    anomaly_ground_truth = user_data[user_id].user_anomaly_gt.values.astype(int) # test set only\n",
    "    anomaly_ground_truth = np.array([1 if x == 0 else -1 for x in anomaly_ground_truth])\n",
    "\n",
    "    ''' high dim data '''\n",
    "\n",
    "    detector = DetectionPipeline()\n",
    "\n",
    "    # X_train = user_data[user_id].segment_df_train  # [top_k_features]\n",
    "    # X_test = user_data[user_id].segment_df_test    #[top_k_features]\n",
    "\n",
    "    X_train = user_data[user_id].normalized_features_train\n",
    "    X_test = user_data[user_id].normalized_features_test\n",
    "\n",
    "    # let's try dimension reduction\n",
    "    # reducer = PCA(n_components=50)\n",
    "    #\n",
    "    # X_train = reducer.fit_transform(X_train.iloc[:, 3:])\n",
    "    # X_test = reducer.transform(X_test.iloc[:, 3:])\n",
    "\n",
    "    ''' feature selection '''\n",
    "\n",
    "\n",
    "    detector.fit(X_train)\n",
    "    predicted_anomalies = detector.predict(X_test)\n",
    "\n",
    "\n",
    "    ''' update metrics '''\n",
    "    score_counter.update(predicted_anomalies, anomaly_ground_truth)\n",
    "    user_scores_high_dim[user_id] = detection_metrics(predicted_anomalies, anomaly_ground_truth)\n",
    "\n",
    "    session_classification[user_id] = [1 if x == -1 else 0 for x in predicted_anomalies]\n",
    "\n",
    "\n",
    "\n",
    "''' aggregate metrics '''\n",
    "\n",
    "\n",
    "overall_scores_high_dim = {}\n",
    "for score_type in [\"f1_score\", \"detection_score\" ,\"precision_score\", \"recall_score\"]:\n",
    "    overall_scores_high_dim[score_type] = np.mean([user_scores_high_dim[user_id][score_type] for user_id in user_list])\n"
   ]
  },
  {
   "cell_type": "code",
   "execution_count": 10,
   "outputs": [
    {
     "name": "stdout",
     "output_type": "stream",
     "text": [
      "1393 0.7738888888888888\n",
      "predicted score: 4179\n"
     ]
    },
    {
     "data": {
      "text/plain": "{'f1_score': 0.817,\n 'detection_score': 0.82,\n 'precision_score': 0.7276999999999999,\n 'recall_score': 0.975}"
     },
     "execution_count": 10,
     "metadata": {},
     "output_type": "execute_result"
    }
   ],
   "source": [
    "# {'f1_score': 0.8529,\n",
    "#  'detection_score': 0.66,\n",
    "#  'precision_score': 0.7899,\n",
    "#  'recall_score': 0.9563}\n",
    "\n",
    "overall_scores_high_dim\n",
    "\n",
    "raw_score, normalized = score_counter.calc()\n",
    "print(raw_score, normalized)\n",
    "\n",
    "print(f\"predicted score: {3 * raw_score}\")\n",
    "\n",
    "overall_scores_high_dim"
   ],
   "metadata": {
    "collapsed": false,
    "ExecuteTime": {
     "end_time": "2023-05-30T19:57:33.840057542Z",
     "start_time": "2023-05-30T19:57:33.838607302Z"
    }
   }
  },
  {
   "cell_type": "code",
   "execution_count": 11,
   "outputs": [
    {
     "name": "stderr",
     "output_type": "stream",
     "text": [
      "100%|██████████| 30/30 [00:52<00:00,  1.75s/it]\n"
     ]
    }
   ],
   "source": [
    "''' submission data '''\n",
    "\n",
    "submission_user_data = {}\n",
    "session_classification = {}\n",
    "\n",
    "for user_id, user_data_path in tqdm.tqdm(zip(submission_user_list, submission_data_path), total=len(submission_user_list)):\n",
    "    #   load user data\n",
    "    submission_user_data[user_id] = User(user_id, user_data_path, gt_df[user_id])\n",
    "\n",
    "    # create segment features\n",
    "    submission_user_data[user_id].build_segment_features()\n",
    "\n",
    "    anomaly_ground_truth = submission_user_data[user_id].user_anomaly_gt.values.astype(int) # test set only\n",
    "    anomaly_ground_truth = np.array([1 if x == 0 else -1 for x in anomaly_ground_truth])\n",
    "\n",
    "    ''' high dim data '''\n",
    "\n",
    "\n",
    "    X_train = submission_user_data[user_id].normalized_features_train# [top_k_features]\n",
    "    X_test = submission_user_data[user_id].normalized_features_test# [top_k_features]\n",
    "\n",
    "    detector = DetectionPipeline()\n",
    "\n",
    "    detector.fit(X_train)\n",
    "    predicted_anomalies = detector.predict(X_test)\n",
    "    user_scores_high_dim[user_id] = detection_metrics(predicted_anomalies, anomaly_ground_truth)\n",
    "\n",
    "    session_classification[user_id] = [1 if x == -1 else 0 for x in predicted_anomalies]"
   ],
   "metadata": {
    "collapsed": false,
    "ExecuteTime": {
     "end_time": "2023-05-30T19:58:26.257813652Z",
     "start_time": "2023-05-30T19:57:33.839399709Z"
    }
   }
  },
  {
   "cell_type": "code",
   "execution_count": 12,
   "outputs": [],
   "source": [
    "''' submission file '''\n",
    "submission_df = pd.read_csv(\"challengeToFill.csv\", index_col=0).T\n",
    "for user_id in submission_user_list:\n",
    "    submission_df[user_id].iloc[50:] = session_classification[user_id]\n",
    "\n",
    "submission_df = submission_df.T.astype(int)\n",
    "submission_df.to_csv(\"submissions/203763339_3.csv\")"
   ],
   "metadata": {
    "collapsed": false,
    "ExecuteTime": {
     "end_time": "2023-05-30T19:58:26.282933982Z",
     "start_time": "2023-05-30T19:58:26.258302626Z"
    }
   }
  },
  {
   "cell_type": "code",
   "execution_count": 12,
   "outputs": [],
   "source": [],
   "metadata": {
    "collapsed": false,
    "ExecuteTime": {
     "end_time": "2023-05-30T19:58:26.283414390Z",
     "start_time": "2023-05-30T19:58:26.280216026Z"
    }
   }
  }
 ],
 "metadata": {
  "kernelspec": {
   "display_name": "Python 3 (ipykernel)",
   "language": "python",
   "name": "python3"
  },
  "language_info": {
   "codemirror_mode": {
    "name": "ipython",
    "version": 3
   },
   "file_extension": ".py",
   "mimetype": "text/x-python",
   "name": "python",
   "nbconvert_exporter": "python",
   "pygments_lexer": "ipython3",
   "version": "3.9.5"
  }
 },
 "nbformat": 4,
 "nbformat_minor": 1
}
