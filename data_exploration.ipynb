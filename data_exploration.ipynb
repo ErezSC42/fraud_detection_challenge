{
 "cells": [
  {
   "cell_type": "code",
   "execution_count": 4,
   "metadata": {
    "collapsed": true,
    "ExecuteTime": {
     "end_time": "2023-04-29T14:19:03.676441943Z",
     "start_time": "2023-04-29T14:19:03.619599874Z"
    }
   },
   "outputs": [],
   "source": [
    "import warnings\n",
    "\n",
    "\n",
    "warnings.filterwarnings(action=\"ignore\")\n",
    "\n",
    "\n",
    "import os\n",
    "import numpy as np\n",
    "import pandas as pd\n",
    "from typing import Tuple, List, Dict, Any\n",
    "\n",
    "\n",
    "SEGMENT_LEN = 100\n",
    "TRAIN_HEADER_COUNT = 5000\n",
    "TEST_HEADER_COUNT = 10000\n",
    "\n",
    "TRAIN_SEGMENT_COUNT = TRAIN_HEADER_COUNT // SEGMENT_LEN\n",
    "TEST_SEGMENT_COUNT = TEST_HEADER_COUNT // SEGMENT_LEN\n",
    "\n",
    "\n",
    "# 90 of the test segments are genuine (i.e., benign) and 10 segments are entered bya masquerader (randomly sorted)."
   ]
  },
  {
   "cell_type": "code",
   "execution_count": 17,
   "outputs": [
    {
     "data": {
      "text/plain": "             User0  User1  User2  User3  User4  User5  User6  User7  User8   \n5000-5100      0.0    0.0    0.0    0.0    0.0    0.0    1.0    0.0    0.0  \\\n5100-5200      0.0    0.0    0.0    0.0    0.0    0.0    0.0    0.0    0.0   \n5200-5300      0.0    1.0    0.0    0.0    0.0    0.0    0.0    0.0    1.0   \n5300-5400      0.0    0.0    0.0    0.0    1.0    0.0    0.0    0.0    0.0   \n5400-5500      0.0    1.0    0.0    0.0    0.0    0.0    0.0    1.0    0.0   \n...            ...    ...    ...    ...    ...    ...    ...    ...    ...   \n14500-14600    0.0    0.0    0.0    1.0    0.0    0.0    0.0    0.0    0.0   \n14600-14700    0.0    0.0    1.0    0.0    0.0    1.0    0.0    0.0    0.0   \n14700-14800    0.0    0.0    0.0    1.0    0.0    0.0    0.0    0.0    0.0   \n14800-14900    0.0    0.0    1.0    0.0    0.0    0.0    0.0    0.0    0.0   \n14900-15000    0.0    0.0    0.0    0.0    0.0    0.0    0.0    0.0    0.0   \n\n             User9  ...  User30  User31  User32  User33  User34  User35   \n5000-5100      0.0  ...     NaN     NaN     NaN     NaN     NaN     NaN  \\\n5100-5200      0.0  ...     NaN     NaN     NaN     NaN     NaN     NaN   \n5200-5300      1.0  ...     NaN     NaN     NaN     NaN     NaN     NaN   \n5300-5400      0.0  ...     NaN     NaN     NaN     NaN     NaN     NaN   \n5400-5500      1.0  ...     NaN     NaN     NaN     NaN     NaN     NaN   \n...            ...  ...     ...     ...     ...     ...     ...     ...   \n14500-14600    0.0  ...     NaN     NaN     NaN     NaN     NaN     NaN   \n14600-14700    0.0  ...     NaN     NaN     NaN     NaN     NaN     NaN   \n14700-14800    0.0  ...     NaN     NaN     NaN     NaN     NaN     NaN   \n14800-14900    0.0  ...     NaN     NaN     NaN     NaN     NaN     NaN   \n14900-15000    0.0  ...     NaN     NaN     NaN     NaN     NaN     NaN   \n\n             User36  User37  User38  User39  \n5000-5100       NaN     NaN     NaN     NaN  \n5100-5200       NaN     NaN     NaN     NaN  \n5200-5300       NaN     NaN     NaN     NaN  \n5300-5400       NaN     NaN     NaN     NaN  \n5400-5500       NaN     NaN     NaN     NaN  \n...             ...     ...     ...     ...  \n14500-14600     NaN     NaN     NaN     NaN  \n14600-14700     NaN     NaN     NaN     NaN  \n14700-14800     NaN     NaN     NaN     NaN  \n14800-14900     NaN     NaN     NaN     NaN  \n14900-15000     NaN     NaN     NaN     NaN  \n\n[100 rows x 40 columns]",
      "text/html": "<div>\n<style scoped>\n    .dataframe tbody tr th:only-of-type {\n        vertical-align: middle;\n    }\n\n    .dataframe tbody tr th {\n        vertical-align: top;\n    }\n\n    .dataframe thead th {\n        text-align: right;\n    }\n</style>\n<table border=\"1\" class=\"dataframe\">\n  <thead>\n    <tr style=\"text-align: right;\">\n      <th></th>\n      <th>User0</th>\n      <th>User1</th>\n      <th>User2</th>\n      <th>User3</th>\n      <th>User4</th>\n      <th>User5</th>\n      <th>User6</th>\n      <th>User7</th>\n      <th>User8</th>\n      <th>User9</th>\n      <th>...</th>\n      <th>User30</th>\n      <th>User31</th>\n      <th>User32</th>\n      <th>User33</th>\n      <th>User34</th>\n      <th>User35</th>\n      <th>User36</th>\n      <th>User37</th>\n      <th>User38</th>\n      <th>User39</th>\n    </tr>\n  </thead>\n  <tbody>\n    <tr>\n      <th>5000-5100</th>\n      <td>0.0</td>\n      <td>0.0</td>\n      <td>0.0</td>\n      <td>0.0</td>\n      <td>0.0</td>\n      <td>0.0</td>\n      <td>1.0</td>\n      <td>0.0</td>\n      <td>0.0</td>\n      <td>0.0</td>\n      <td>...</td>\n      <td>NaN</td>\n      <td>NaN</td>\n      <td>NaN</td>\n      <td>NaN</td>\n      <td>NaN</td>\n      <td>NaN</td>\n      <td>NaN</td>\n      <td>NaN</td>\n      <td>NaN</td>\n      <td>NaN</td>\n    </tr>\n    <tr>\n      <th>5100-5200</th>\n      <td>0.0</td>\n      <td>0.0</td>\n      <td>0.0</td>\n      <td>0.0</td>\n      <td>0.0</td>\n      <td>0.0</td>\n      <td>0.0</td>\n      <td>0.0</td>\n      <td>0.0</td>\n      <td>0.0</td>\n      <td>...</td>\n      <td>NaN</td>\n      <td>NaN</td>\n      <td>NaN</td>\n      <td>NaN</td>\n      <td>NaN</td>\n      <td>NaN</td>\n      <td>NaN</td>\n      <td>NaN</td>\n      <td>NaN</td>\n      <td>NaN</td>\n    </tr>\n    <tr>\n      <th>5200-5300</th>\n      <td>0.0</td>\n      <td>1.0</td>\n      <td>0.0</td>\n      <td>0.0</td>\n      <td>0.0</td>\n      <td>0.0</td>\n      <td>0.0</td>\n      <td>0.0</td>\n      <td>1.0</td>\n      <td>1.0</td>\n      <td>...</td>\n      <td>NaN</td>\n      <td>NaN</td>\n      <td>NaN</td>\n      <td>NaN</td>\n      <td>NaN</td>\n      <td>NaN</td>\n      <td>NaN</td>\n      <td>NaN</td>\n      <td>NaN</td>\n      <td>NaN</td>\n    </tr>\n    <tr>\n      <th>5300-5400</th>\n      <td>0.0</td>\n      <td>0.0</td>\n      <td>0.0</td>\n      <td>0.0</td>\n      <td>1.0</td>\n      <td>0.0</td>\n      <td>0.0</td>\n      <td>0.0</td>\n      <td>0.0</td>\n      <td>0.0</td>\n      <td>...</td>\n      <td>NaN</td>\n      <td>NaN</td>\n      <td>NaN</td>\n      <td>NaN</td>\n      <td>NaN</td>\n      <td>NaN</td>\n      <td>NaN</td>\n      <td>NaN</td>\n      <td>NaN</td>\n      <td>NaN</td>\n    </tr>\n    <tr>\n      <th>5400-5500</th>\n      <td>0.0</td>\n      <td>1.0</td>\n      <td>0.0</td>\n      <td>0.0</td>\n      <td>0.0</td>\n      <td>0.0</td>\n      <td>0.0</td>\n      <td>1.0</td>\n      <td>0.0</td>\n      <td>1.0</td>\n      <td>...</td>\n      <td>NaN</td>\n      <td>NaN</td>\n      <td>NaN</td>\n      <td>NaN</td>\n      <td>NaN</td>\n      <td>NaN</td>\n      <td>NaN</td>\n      <td>NaN</td>\n      <td>NaN</td>\n      <td>NaN</td>\n    </tr>\n    <tr>\n      <th>...</th>\n      <td>...</td>\n      <td>...</td>\n      <td>...</td>\n      <td>...</td>\n      <td>...</td>\n      <td>...</td>\n      <td>...</td>\n      <td>...</td>\n      <td>...</td>\n      <td>...</td>\n      <td>...</td>\n      <td>...</td>\n      <td>...</td>\n      <td>...</td>\n      <td>...</td>\n      <td>...</td>\n      <td>...</td>\n      <td>...</td>\n      <td>...</td>\n      <td>...</td>\n      <td>...</td>\n    </tr>\n    <tr>\n      <th>14500-14600</th>\n      <td>0.0</td>\n      <td>0.0</td>\n      <td>0.0</td>\n      <td>1.0</td>\n      <td>0.0</td>\n      <td>0.0</td>\n      <td>0.0</td>\n      <td>0.0</td>\n      <td>0.0</td>\n      <td>0.0</td>\n      <td>...</td>\n      <td>NaN</td>\n      <td>NaN</td>\n      <td>NaN</td>\n      <td>NaN</td>\n      <td>NaN</td>\n      <td>NaN</td>\n      <td>NaN</td>\n      <td>NaN</td>\n      <td>NaN</td>\n      <td>NaN</td>\n    </tr>\n    <tr>\n      <th>14600-14700</th>\n      <td>0.0</td>\n      <td>0.0</td>\n      <td>1.0</td>\n      <td>0.0</td>\n      <td>0.0</td>\n      <td>1.0</td>\n      <td>0.0</td>\n      <td>0.0</td>\n      <td>0.0</td>\n      <td>0.0</td>\n      <td>...</td>\n      <td>NaN</td>\n      <td>NaN</td>\n      <td>NaN</td>\n      <td>NaN</td>\n      <td>NaN</td>\n      <td>NaN</td>\n      <td>NaN</td>\n      <td>NaN</td>\n      <td>NaN</td>\n      <td>NaN</td>\n    </tr>\n    <tr>\n      <th>14700-14800</th>\n      <td>0.0</td>\n      <td>0.0</td>\n      <td>0.0</td>\n      <td>1.0</td>\n      <td>0.0</td>\n      <td>0.0</td>\n      <td>0.0</td>\n      <td>0.0</td>\n      <td>0.0</td>\n      <td>0.0</td>\n      <td>...</td>\n      <td>NaN</td>\n      <td>NaN</td>\n      <td>NaN</td>\n      <td>NaN</td>\n      <td>NaN</td>\n      <td>NaN</td>\n      <td>NaN</td>\n      <td>NaN</td>\n      <td>NaN</td>\n      <td>NaN</td>\n    </tr>\n    <tr>\n      <th>14800-14900</th>\n      <td>0.0</td>\n      <td>0.0</td>\n      <td>1.0</td>\n      <td>0.0</td>\n      <td>0.0</td>\n      <td>0.0</td>\n      <td>0.0</td>\n      <td>0.0</td>\n      <td>0.0</td>\n      <td>0.0</td>\n      <td>...</td>\n      <td>NaN</td>\n      <td>NaN</td>\n      <td>NaN</td>\n      <td>NaN</td>\n      <td>NaN</td>\n      <td>NaN</td>\n      <td>NaN</td>\n      <td>NaN</td>\n      <td>NaN</td>\n      <td>NaN</td>\n    </tr>\n    <tr>\n      <th>14900-15000</th>\n      <td>0.0</td>\n      <td>0.0</td>\n      <td>0.0</td>\n      <td>0.0</td>\n      <td>0.0</td>\n      <td>0.0</td>\n      <td>0.0</td>\n      <td>0.0</td>\n      <td>0.0</td>\n      <td>0.0</td>\n      <td>...</td>\n      <td>NaN</td>\n      <td>NaN</td>\n      <td>NaN</td>\n      <td>NaN</td>\n      <td>NaN</td>\n      <td>NaN</td>\n      <td>NaN</td>\n      <td>NaN</td>\n      <td>NaN</td>\n      <td>NaN</td>\n    </tr>\n  </tbody>\n</table>\n<p>100 rows × 40 columns</p>\n</div>"
     },
     "execution_count": 17,
     "metadata": {},
     "output_type": "execute_result"
    }
   ],
   "source": [
    "#   load answer for classifcation\n",
    "gt_df = pd.read_csv(\"challengeToFill.csv\", index_col=0)\n",
    "gt_df.T[TRAIN_SEGMENT_COUNT:]"
   ],
   "metadata": {
    "collapsed": false,
    "ExecuteTime": {
     "end_time": "2023-04-29T15:26:27.593458622Z",
     "start_time": "2023-04-29T15:26:27.558957345Z"
    }
   }
  },
  {
   "cell_type": "code",
   "execution_count": 5,
   "outputs": [],
   "source": [
    "def user_list_to_df(user_id: str, user_data_list: List[str]):\n",
    "    df_user = pd.DataFrame({\n",
    "        \"cmd\": user_data_list\n",
    "    })\n",
    "    df_user[\"user\"] = user_id\n",
    "    df_user[\"split\"] = \"train\"\n",
    "    df_user[\"segment_id\"] = np.repeat(range(0, int(len(user_data_list) / SEGMENT_LEN)), SEGMENT_LEN)\n",
    "    df_user[\"cmd\"] = df_user[\"cmd\"].astype(\"category\")\n",
    "    return df_user\n",
    "\n",
    "\n",
    "def load_user_data(user_id: str, file_path: os.PathLike) -> Tuple[pd.DataFrame, pd.DataFrame]:\n",
    "    with open(file_path, \"r\") as fp:\n",
    "        user_data = fp.readlines()\n",
    "        user_data = [s.strip() for s in user_data]\n",
    "\n",
    "    # get training data:\n",
    "    train_user_data = user_data[:TRAIN_HEADER_COUNT]\n",
    "    test_user_data = user_data[TRAIN_HEADER_COUNT:]\n",
    "\n",
    "    # convert to dataframes\n",
    "    train_segments = user_list_to_df(user_id, train_user_data)\n",
    "    test_segments = user_list_to_df(user_id, test_user_data)\n",
    "\n",
    "    return train_segments, test_segments\n"
   ],
   "metadata": {
    "collapsed": false,
    "ExecuteTime": {
     "end_time": "2023-04-29T14:19:03.677122723Z",
     "start_time": "2023-04-29T14:19:03.668204554Z"
    }
   }
  },
  {
   "cell_type": "code",
   "execution_count": 6,
   "outputs": [],
   "source": [
    "''' load all user data '''\n",
    "\n",
    "user_id = \"User0\"\n",
    "user_file_path = os.path.join(\"data\", user_id)\n",
    "\n",
    "df_user0_train, df_user0_test = load_user_data(user_id, user_file_path)\n",
    "\n",
    "''' all commands '''\n",
    "\n",
    "user_cmd_set_train = set(df_user0_train[\"cmd\"].unique())\n",
    "user_cmd_set_test = set(df_user0_test[\"cmd\"].unique())\n",
    "\n",
    "user_cmd_set = user_cmd_set_test.union(user_cmd_set_train)"
   ],
   "metadata": {
    "collapsed": false,
    "ExecuteTime": {
     "end_time": "2023-04-29T14:19:03.677431798Z",
     "start_time": "2023-04-29T14:19:03.668482120Z"
    }
   }
  },
  {
   "cell_type": "code",
   "execution_count": 7,
   "outputs": [
    {
     "data": {
      "text/plain": "{'MediaMai',\n 'as1',\n 'bc',\n 'cfe',\n 'convert',\n 'deroff',\n 'df',\n 'driver',\n 'du',\n 'enscript',\n 'ex',\n 'finger',\n 'frm',\n 'hpost',\n 'imake',\n 'jot',\n 'ld_',\n 'mail',\n 'make',\n 'postprin',\n 'ppost',\n 'ps',\n 'ps2pdf',\n 'rcp',\n 'rsh',\n 'scheme',\n 'sgihelp',\n 'sleep',\n 'sort',\n 'spell',\n 'tcsh',\n 'tput',\n 'ugen',\n 'unzip',\n 'uudecode',\n 'uuencode',\n 'whereis',\n 'who',\n 'whois',\n 'xdvi',\n 'xdvi.rea',\n 'xemacs-1',\n 'xmkmf',\n 'xpaint'}"
     },
     "execution_count": 7,
     "metadata": {},
     "output_type": "execute_result"
    }
   ],
   "source": [
    "user_cmd_set_test.difference(user_cmd_set_train)"
   ],
   "metadata": {
    "collapsed": false,
    "ExecuteTime": {
     "end_time": "2023-04-29T14:19:03.678292689Z",
     "start_time": "2023-04-29T14:19:03.668758714Z"
    }
   }
  },
  {
   "cell_type": "code",
   "execution_count": 8,
   "outputs": [],
   "source": [
    "cmd_map_code = {c: i for i, c in enumerate(user_cmd_set)}\n",
    "\n",
    "df_user0_train[\"cmd_code\"] = df_user0_train[\"cmd\"].map(cmd_map_code).astype(int)\n",
    "df_user0_test[\"cmd_code\"] = df_user0_test[\"cmd\"].map(cmd_map_code).astype(int)"
   ],
   "metadata": {
    "collapsed": false,
    "ExecuteTime": {
     "end_time": "2023-04-29T14:19:03.678587368Z",
     "start_time": "2023-04-29T14:19:03.669071366Z"
    }
   }
  },
  {
   "cell_type": "code",
   "execution_count": 9,
   "outputs": [],
   "source": [
    "def build_segment_features(user_data_df: pd.DataFrame, segment_id: int) -> Dict[str, Any]:\n",
    "\n",
    "    '''\n",
    "    build features per segment:\n",
    "        1.  V - cmd that has been used the most\n",
    "        2.  X - cmd that has been used the least\n",
    "        3.  X - count of cmd that has been used the most\n",
    "        4.  V - len of longest sequence of same cmds\n",
    "        5.  X - has zip/compression cmds\n",
    "        6.  X - has encryption cmds\n",
    "        7.  X - has networking cmds\n",
    "        8.  V - count distinct of cmds\n",
    "        9.  V - first cmd\n",
    "        10. V - last cmd\n",
    "        11. X - has command that user never used in training\n",
    "    '''\n",
    "\n",
    "    segment_features = {}\n",
    "\n",
    "    segment_df = user_data_df[user_data_df[\"segment_id\"] == segment_id]\n",
    "    segment_cmd_value_counts = segment_df[\"cmd\"].value_counts().to_dict()\n",
    "    segment_df[\"cmd_count\"] = segment_df[\"cmd\"].map(segment_cmd_value_counts)\n",
    "\n",
    "    # features\n",
    "    segment_features[\"cmd_most_used\"] = next(iter(segment_cmd_value_counts))\n",
    "    segment_features[\"first_cmd\"] = segment_df[\"cmd\"].iloc[0]\n",
    "    segment_features[\"last_cmd\"] = segment_df[\"cmd\"].iloc[SEGMENT_LEN - 1]\n",
    "    segment_features[\"unique_cmds\"] = len(segment_df[\"cmd\"].unique())\n",
    "\n",
    "    # longest subsequence of same commands\n",
    "    s = segment_df[\"cmd_code\"].diff().astype(bool)\n",
    "    segment_features[\"longest_same_cmd_sequence\"] = (~s).cumsum()[s].value_counts().max()  # TODO - there is a bug here, getting 100s\n",
    "\n",
    "    return segment_features\n",
    "\n"
   ],
   "metadata": {
    "collapsed": false,
    "ExecuteTime": {
     "end_time": "2023-04-29T14:19:03.678842672Z",
     "start_time": "2023-04-29T14:19:03.669475733Z"
    }
   }
  },
  {
   "cell_type": "code",
   "execution_count": 10,
   "outputs": [],
   "source": [
    "train_segment_features_list = []\n",
    "test_segment_features_list = []\n",
    "\n",
    "for i in range(TRAIN_SEGMENT_COUNT):\n",
    "    train_segment_features_list.append(build_segment_features(df_user0_train, i))\n",
    "\n",
    "for i in range(TEST_SEGMENT_COUNT - 1):\n",
    "    test_segment_features_list.append(build_segment_features(df_user0_test, i))"
   ],
   "metadata": {
    "collapsed": false,
    "ExecuteTime": {
     "end_time": "2023-04-29T14:19:03.913351387Z",
     "start_time": "2023-04-29T14:19:03.676969262Z"
    }
   }
  },
  {
   "cell_type": "code",
   "execution_count": 11,
   "outputs": [],
   "source": [
    "segment_df_train = pd.DataFrame.from_records(train_segment_features_list)\n",
    "segment_df_test = pd.DataFrame.from_records(test_segment_features_list)"
   ],
   "metadata": {
    "collapsed": false,
    "ExecuteTime": {
     "end_time": "2023-04-29T14:19:03.958913502Z",
     "start_time": "2023-04-29T14:19:03.915076817Z"
    }
   }
  },
  {
   "cell_type": "code",
   "execution_count": 12,
   "outputs": [
    {
     "data": {
      "text/plain": "   cmd_most_used  unique_cmds  longest_same_cmd_sequence  is_.xsessio  is_awk   \n0             sh           18                          8          0.0     0.0  \\\n1          uname           18                         10          0.0     0.0   \n2            ksh           29                         28          0.0     0.0   \n3             sh           24                          7          0.0     0.0   \n4            sed           24                         11          0.0     0.0   \n5             ls           34                          9          0.0     0.0   \n6             sh           22                         13          0.0     0.0   \n7             sh           22                         17          0.0     0.0   \n8             sh           15                         17          0.0     0.0   \n9             sh           13                         12          0.0     0.0   \n10            sh           15                         11          0.0     0.0   \n11            sh           35                         16          0.0     0.0   \n12       generic           31                         27          0.0     0.0   \n13       generic           24                         15          0.0     1.0   \n14       generic           12                         18          0.0     0.0   \n15       generic           31                         19          0.0     0.0   \n16            sh           41                         15          0.0     0.0   \n17            sh           28                         23          0.0     0.0   \n18            sh           26                          8          0.0     0.0   \n19            sh           28                         18          1.0     0.0   \n20            sh           26                         13          0.0     0.0   \n21            sh           24                         15          0.0     0.0   \n22      movemail           29                         21          0.0     0.0   \n23           ksh            9                         46          0.0     0.0   \n24           ksh           14                         61          0.0     0.0   \n25      movemail           15                         12          0.0     0.0   \n26      movemail           18                          9          0.0     0.0   \n27         uname           26                         18          0.0     0.0   \n28            sh           21                         18          0.0     0.0   \n29            sh           15                         15          0.0     0.0   \n30            sh           29                          9          0.0     0.0   \n31           ksh           12                         54          0.0     0.0   \n32           ksh            9                         21          0.0     0.0   \n33            gs           15                          9          0.0     0.0   \n34           ksh           15                         15          0.0     0.0   \n35            sh           35                         17          0.0     0.0   \n36            sh            8                          8          0.0     0.0   \n37            sh            9                          6          0.0     0.0   \n38            sh           28                         18          0.0     0.0   \n39      movemail           19                          8          0.0     0.0   \n40          echo           33                         16          0.0     0.0   \n41           ksh           27                         10          0.0     0.0   \n42           ksh           22                         16          0.0     0.0   \n43           ksh           29                         20          0.0     0.0   \n44            sh           27                         18          0.0     0.0   \n45            ls           21                         14          0.0     0.0   \n46         dvips            5                        100          0.0     0.0   \n47      sendmail           29                         16          0.0     0.0   \n48         touch           11                        100          0.0     0.0   \n49          grep           16                         66          0.0     0.0   \n\n    is_cat  is_chmod  is_date  is_find  is_generic  ...  is_post  is_sed   \n0      1.0       0.0      0.0      0.0         0.0  ...      0.0     0.0  \\\n1      0.0       0.0      0.0      0.0         0.0  ...      0.0     0.0   \n2      0.0       0.0      0.0      0.0         0.0  ...      0.0     0.0   \n3      0.0       0.0      0.0      0.0         0.0  ...      0.0     0.0   \n4      0.0       0.0      0.0      0.0         0.0  ...      0.0     0.0   \n5      0.0       0.0      0.0      0.0         0.0  ...      0.0     0.0   \n6      0.0       0.0      0.0      0.0         0.0  ...      0.0     0.0   \n7      0.0       0.0      0.0      0.0         0.0  ...      0.0     1.0   \n8      0.0       0.0      0.0      0.0         0.0  ...      0.0     0.0   \n9      0.0       0.0      0.0      0.0         0.0  ...      0.0     1.0   \n10     0.0       0.0      0.0      0.0         0.0  ...      0.0     0.0   \n11     0.0       0.0      0.0      0.0         0.0  ...      0.0     0.0   \n12     0.0       0.0      0.0      0.0         0.0  ...      1.0     0.0   \n13     0.0       0.0      0.0      0.0         0.0  ...      0.0     0.0   \n14     0.0       0.0      0.0      0.0         0.0  ...      0.0     0.0   \n15     0.0       0.0      1.0      0.0         0.0  ...      0.0     0.0   \n16     0.0       0.0      0.0      0.0         0.0  ...      0.0     0.0   \n17     0.0       0.0      0.0      0.0         1.0  ...      0.0     0.0   \n18     0.0       0.0      0.0      0.0         0.0  ...      0.0     0.0   \n19     0.0       0.0      0.0      0.0         0.0  ...      0.0     0.0   \n20     0.0       0.0      0.0      0.0         0.0  ...      0.0     0.0   \n21     0.0       0.0      0.0      0.0         0.0  ...      0.0     0.0   \n22     0.0       0.0      0.0      0.0         0.0  ...      0.0     0.0   \n23     0.0       0.0      0.0      0.0         0.0  ...      0.0     0.0   \n24     0.0       0.0      0.0      0.0         0.0  ...      0.0     0.0   \n25     0.0       0.0      0.0      0.0         0.0  ...      0.0     0.0   \n26     0.0       0.0      0.0      0.0         0.0  ...      0.0     0.0   \n27     0.0       0.0      0.0      0.0         0.0  ...      0.0     0.0   \n28     0.0       0.0      0.0      0.0         0.0  ...      0.0     0.0   \n29     0.0       0.0      0.0      0.0         0.0  ...      0.0     1.0   \n30     0.0       0.0      0.0      0.0         0.0  ...      0.0     0.0   \n31     0.0       0.0      0.0      1.0         0.0  ...      0.0     0.0   \n32     0.0       0.0      0.0      0.0         0.0  ...      0.0     0.0   \n33     0.0       0.0      0.0      0.0         0.0  ...      0.0     0.0   \n34     0.0       0.0      0.0      0.0         0.0  ...      0.0     0.0   \n35     0.0       0.0      0.0      0.0         0.0  ...      0.0     1.0   \n36     0.0       0.0      0.0      0.0         0.0  ...      0.0     0.0   \n37     0.0       0.0      0.0      0.0         0.0  ...      0.0     0.0   \n38     0.0       0.0      0.0      0.0         0.0  ...      0.0     0.0   \n39     0.0       0.0      0.0      0.0         0.0  ...      0.0     0.0   \n40     0.0       0.0      0.0      0.0         0.0  ...      0.0     0.0   \n41     0.0       0.0      0.0      0.0         0.0  ...      0.0     0.0   \n42     0.0       0.0      0.0      0.0         0.0  ...      0.0     0.0   \n43     0.0       0.0      0.0      0.0         0.0  ...      0.0     0.0   \n44     0.0       0.0      0.0      0.0         0.0  ...      0.0     0.0   \n45     0.0       0.0      0.0      0.0         0.0  ...      0.0     0.0   \n46     0.0       0.0      0.0      0.0         0.0  ...      0.0     0.0   \n47     0.0       0.0      0.0      0.0         0.0  ...      0.0     0.0   \n48     0.0       0.0      0.0      0.0         0.0  ...      0.0     0.0   \n49     0.0       1.0      0.0      0.0         0.0  ...      0.0     1.0   \n\n    is_sendmail  is_sh  is_touch  is_troff  is_uname  is_which  is_whoami   \n0           0.0    1.0       0.0       0.0       0.0       0.0        0.0  \\\n1           0.0    0.0       0.0       0.0       1.0       0.0        0.0   \n2           0.0    0.0       0.0       0.0       1.0       0.0        0.0   \n3           0.0    0.0       0.0       0.0       0.0       0.0        0.0   \n4           0.0    0.0       0.0       0.0       0.0       0.0        0.0   \n5           0.0    0.0       0.0       0.0       0.0       0.0        0.0   \n6           0.0    1.0       0.0       0.0       0.0       0.0        0.0   \n7           0.0    0.0       0.0       0.0       0.0       0.0        0.0   \n8           0.0    0.0       0.0       0.0       0.0       0.0        0.0   \n9           0.0    0.0       0.0       0.0       0.0       0.0        0.0   \n10          0.0    1.0       0.0       0.0       0.0       0.0        0.0   \n11          0.0    0.0       0.0       0.0       0.0       0.0        0.0   \n12          0.0    0.0       0.0       0.0       0.0       0.0        0.0   \n13          0.0    0.0       0.0       0.0       0.0       0.0        0.0   \n14          0.0    0.0       0.0       0.0       0.0       0.0        0.0   \n15          0.0    0.0       0.0       0.0       0.0       0.0        0.0   \n16          0.0    0.0       0.0       0.0       0.0       0.0        0.0   \n17          0.0    1.0       0.0       0.0       0.0       0.0        0.0   \n18          0.0    0.0       0.0       0.0       0.0       0.0        0.0   \n19          0.0    0.0       0.0       0.0       0.0       1.0        0.0   \n20          1.0    0.0       0.0       0.0       0.0       0.0        0.0   \n21          0.0    0.0       0.0       0.0       0.0       0.0        1.0   \n22          1.0    0.0       0.0       0.0       0.0       0.0        0.0   \n23          0.0    0.0       0.0       0.0       0.0       0.0        0.0   \n24          1.0    0.0       0.0       0.0       0.0       0.0        0.0   \n25          0.0    0.0       0.0       0.0       0.0       0.0        0.0   \n26          0.0    0.0       0.0       0.0       1.0       0.0        0.0   \n27          0.0    0.0       0.0       0.0       0.0       0.0        0.0   \n28          0.0    0.0       0.0       0.0       0.0       0.0        0.0   \n29          0.0    0.0       0.0       0.0       0.0       0.0        0.0   \n30          0.0    0.0       0.0       0.0       0.0       0.0        0.0   \n31          0.0    0.0       0.0       0.0       1.0       0.0        0.0   \n32          0.0    0.0       0.0       0.0       0.0       0.0        0.0   \n33          0.0    0.0       0.0       1.0       0.0       0.0        0.0   \n34          0.0    0.0       0.0       0.0       0.0       0.0        0.0   \n35          0.0    0.0       0.0       0.0       0.0       0.0        0.0   \n36          0.0    1.0       0.0       0.0       0.0       0.0        0.0   \n37          0.0    0.0       0.0       0.0       0.0       0.0        0.0   \n38          0.0    0.0       0.0       0.0       0.0       0.0        0.0   \n39          0.0    0.0       0.0       0.0       0.0       0.0        0.0   \n40          0.0    0.0       0.0       0.0       0.0       0.0        0.0   \n41          0.0    0.0       0.0       0.0       0.0       0.0        0.0   \n42          0.0    0.0       0.0       0.0       0.0       0.0        0.0   \n43          0.0    0.0       0.0       0.0       0.0       0.0        0.0   \n44          0.0    0.0       0.0       0.0       0.0       0.0        0.0   \n45          0.0    0.0       0.0       0.0       0.0       0.0        0.0   \n46          0.0    0.0       0.0       0.0       0.0       0.0        0.0   \n47          0.0    0.0       0.0       0.0       0.0       0.0        0.0   \n48          0.0    0.0       1.0       0.0       0.0       0.0        0.0   \n49          0.0    0.0       0.0       0.0       0.0       0.0        0.0   \n\n    is_xgvis  \n0        0.0  \n1        0.0  \n2        0.0  \n3        0.0  \n4        0.0  \n5        1.0  \n6        0.0  \n7        0.0  \n8        0.0  \n9        0.0  \n10       0.0  \n11       0.0  \n12       0.0  \n13       0.0  \n14       0.0  \n15       0.0  \n16       0.0  \n17       0.0  \n18       0.0  \n19       0.0  \n20       0.0  \n21       0.0  \n22       0.0  \n23       0.0  \n24       0.0  \n25       0.0  \n26       0.0  \n27       0.0  \n28       0.0  \n29       0.0  \n30       0.0  \n31       0.0  \n32       0.0  \n33       0.0  \n34       0.0  \n35       0.0  \n36       0.0  \n37       0.0  \n38       0.0  \n39       0.0  \n40       0.0  \n41       0.0  \n42       0.0  \n43       0.0  \n44       0.0  \n45       0.0  \n46       0.0  \n47       0.0  \n48       0.0  \n49       0.0  \n\n[50 rows x 56 columns]",
      "text/html": "<div>\n<style scoped>\n    .dataframe tbody tr th:only-of-type {\n        vertical-align: middle;\n    }\n\n    .dataframe tbody tr th {\n        vertical-align: top;\n    }\n\n    .dataframe thead th {\n        text-align: right;\n    }\n</style>\n<table border=\"1\" class=\"dataframe\">\n  <thead>\n    <tr style=\"text-align: right;\">\n      <th></th>\n      <th>cmd_most_used</th>\n      <th>unique_cmds</th>\n      <th>longest_same_cmd_sequence</th>\n      <th>is_.xsessio</th>\n      <th>is_awk</th>\n      <th>is_cat</th>\n      <th>is_chmod</th>\n      <th>is_date</th>\n      <th>is_find</th>\n      <th>is_generic</th>\n      <th>...</th>\n      <th>is_post</th>\n      <th>is_sed</th>\n      <th>is_sendmail</th>\n      <th>is_sh</th>\n      <th>is_touch</th>\n      <th>is_troff</th>\n      <th>is_uname</th>\n      <th>is_which</th>\n      <th>is_whoami</th>\n      <th>is_xgvis</th>\n    </tr>\n  </thead>\n  <tbody>\n    <tr>\n      <th>0</th>\n      <td>sh</td>\n      <td>18</td>\n      <td>8</td>\n      <td>0.0</td>\n      <td>0.0</td>\n      <td>1.0</td>\n      <td>0.0</td>\n      <td>0.0</td>\n      <td>0.0</td>\n      <td>0.0</td>\n      <td>...</td>\n      <td>0.0</td>\n      <td>0.0</td>\n      <td>0.0</td>\n      <td>1.0</td>\n      <td>0.0</td>\n      <td>0.0</td>\n      <td>0.0</td>\n      <td>0.0</td>\n      <td>0.0</td>\n      <td>0.0</td>\n    </tr>\n    <tr>\n      <th>1</th>\n      <td>uname</td>\n      <td>18</td>\n      <td>10</td>\n      <td>0.0</td>\n      <td>0.0</td>\n      <td>0.0</td>\n      <td>0.0</td>\n      <td>0.0</td>\n      <td>0.0</td>\n      <td>0.0</td>\n      <td>...</td>\n      <td>0.0</td>\n      <td>0.0</td>\n      <td>0.0</td>\n      <td>0.0</td>\n      <td>0.0</td>\n      <td>0.0</td>\n      <td>1.0</td>\n      <td>0.0</td>\n      <td>0.0</td>\n      <td>0.0</td>\n    </tr>\n    <tr>\n      <th>2</th>\n      <td>ksh</td>\n      <td>29</td>\n      <td>28</td>\n      <td>0.0</td>\n      <td>0.0</td>\n      <td>0.0</td>\n      <td>0.0</td>\n      <td>0.0</td>\n      <td>0.0</td>\n      <td>0.0</td>\n      <td>...</td>\n      <td>0.0</td>\n      <td>0.0</td>\n      <td>0.0</td>\n      <td>0.0</td>\n      <td>0.0</td>\n      <td>0.0</td>\n      <td>1.0</td>\n      <td>0.0</td>\n      <td>0.0</td>\n      <td>0.0</td>\n    </tr>\n    <tr>\n      <th>3</th>\n      <td>sh</td>\n      <td>24</td>\n      <td>7</td>\n      <td>0.0</td>\n      <td>0.0</td>\n      <td>0.0</td>\n      <td>0.0</td>\n      <td>0.0</td>\n      <td>0.0</td>\n      <td>0.0</td>\n      <td>...</td>\n      <td>0.0</td>\n      <td>0.0</td>\n      <td>0.0</td>\n      <td>0.0</td>\n      <td>0.0</td>\n      <td>0.0</td>\n      <td>0.0</td>\n      <td>0.0</td>\n      <td>0.0</td>\n      <td>0.0</td>\n    </tr>\n    <tr>\n      <th>4</th>\n      <td>sed</td>\n      <td>24</td>\n      <td>11</td>\n      <td>0.0</td>\n      <td>0.0</td>\n      <td>0.0</td>\n      <td>0.0</td>\n      <td>0.0</td>\n      <td>0.0</td>\n      <td>0.0</td>\n      <td>...</td>\n      <td>0.0</td>\n      <td>0.0</td>\n      <td>0.0</td>\n      <td>0.0</td>\n      <td>0.0</td>\n      <td>0.0</td>\n      <td>0.0</td>\n      <td>0.0</td>\n      <td>0.0</td>\n      <td>0.0</td>\n    </tr>\n    <tr>\n      <th>5</th>\n      <td>ls</td>\n      <td>34</td>\n      <td>9</td>\n      <td>0.0</td>\n      <td>0.0</td>\n      <td>0.0</td>\n      <td>0.0</td>\n      <td>0.0</td>\n      <td>0.0</td>\n      <td>0.0</td>\n      <td>...</td>\n      <td>0.0</td>\n      <td>0.0</td>\n      <td>0.0</td>\n      <td>0.0</td>\n      <td>0.0</td>\n      <td>0.0</td>\n      <td>0.0</td>\n      <td>0.0</td>\n      <td>0.0</td>\n      <td>1.0</td>\n    </tr>\n    <tr>\n      <th>6</th>\n      <td>sh</td>\n      <td>22</td>\n      <td>13</td>\n      <td>0.0</td>\n      <td>0.0</td>\n      <td>0.0</td>\n      <td>0.0</td>\n      <td>0.0</td>\n      <td>0.0</td>\n      <td>0.0</td>\n      <td>...</td>\n      <td>0.0</td>\n      <td>0.0</td>\n      <td>0.0</td>\n      <td>1.0</td>\n      <td>0.0</td>\n      <td>0.0</td>\n      <td>0.0</td>\n      <td>0.0</td>\n      <td>0.0</td>\n      <td>0.0</td>\n    </tr>\n    <tr>\n      <th>7</th>\n      <td>sh</td>\n      <td>22</td>\n      <td>17</td>\n      <td>0.0</td>\n      <td>0.0</td>\n      <td>0.0</td>\n      <td>0.0</td>\n      <td>0.0</td>\n      <td>0.0</td>\n      <td>0.0</td>\n      <td>...</td>\n      <td>0.0</td>\n      <td>1.0</td>\n      <td>0.0</td>\n      <td>0.0</td>\n      <td>0.0</td>\n      <td>0.0</td>\n      <td>0.0</td>\n      <td>0.0</td>\n      <td>0.0</td>\n      <td>0.0</td>\n    </tr>\n    <tr>\n      <th>8</th>\n      <td>sh</td>\n      <td>15</td>\n      <td>17</td>\n      <td>0.0</td>\n      <td>0.0</td>\n      <td>0.0</td>\n      <td>0.0</td>\n      <td>0.0</td>\n      <td>0.0</td>\n      <td>0.0</td>\n      <td>...</td>\n      <td>0.0</td>\n      <td>0.0</td>\n      <td>0.0</td>\n      <td>0.0</td>\n      <td>0.0</td>\n      <td>0.0</td>\n      <td>0.0</td>\n      <td>0.0</td>\n      <td>0.0</td>\n      <td>0.0</td>\n    </tr>\n    <tr>\n      <th>9</th>\n      <td>sh</td>\n      <td>13</td>\n      <td>12</td>\n      <td>0.0</td>\n      <td>0.0</td>\n      <td>0.0</td>\n      <td>0.0</td>\n      <td>0.0</td>\n      <td>0.0</td>\n      <td>0.0</td>\n      <td>...</td>\n      <td>0.0</td>\n      <td>1.0</td>\n      <td>0.0</td>\n      <td>0.0</td>\n      <td>0.0</td>\n      <td>0.0</td>\n      <td>0.0</td>\n      <td>0.0</td>\n      <td>0.0</td>\n      <td>0.0</td>\n    </tr>\n    <tr>\n      <th>10</th>\n      <td>sh</td>\n      <td>15</td>\n      <td>11</td>\n      <td>0.0</td>\n      <td>0.0</td>\n      <td>0.0</td>\n      <td>0.0</td>\n      <td>0.0</td>\n      <td>0.0</td>\n      <td>0.0</td>\n      <td>...</td>\n      <td>0.0</td>\n      <td>0.0</td>\n      <td>0.0</td>\n      <td>1.0</td>\n      <td>0.0</td>\n      <td>0.0</td>\n      <td>0.0</td>\n      <td>0.0</td>\n      <td>0.0</td>\n      <td>0.0</td>\n    </tr>\n    <tr>\n      <th>11</th>\n      <td>sh</td>\n      <td>35</td>\n      <td>16</td>\n      <td>0.0</td>\n      <td>0.0</td>\n      <td>0.0</td>\n      <td>0.0</td>\n      <td>0.0</td>\n      <td>0.0</td>\n      <td>0.0</td>\n      <td>...</td>\n      <td>0.0</td>\n      <td>0.0</td>\n      <td>0.0</td>\n      <td>0.0</td>\n      <td>0.0</td>\n      <td>0.0</td>\n      <td>0.0</td>\n      <td>0.0</td>\n      <td>0.0</td>\n      <td>0.0</td>\n    </tr>\n    <tr>\n      <th>12</th>\n      <td>generic</td>\n      <td>31</td>\n      <td>27</td>\n      <td>0.0</td>\n      <td>0.0</td>\n      <td>0.0</td>\n      <td>0.0</td>\n      <td>0.0</td>\n      <td>0.0</td>\n      <td>0.0</td>\n      <td>...</td>\n      <td>1.0</td>\n      <td>0.0</td>\n      <td>0.0</td>\n      <td>0.0</td>\n      <td>0.0</td>\n      <td>0.0</td>\n      <td>0.0</td>\n      <td>0.0</td>\n      <td>0.0</td>\n      <td>0.0</td>\n    </tr>\n    <tr>\n      <th>13</th>\n      <td>generic</td>\n      <td>24</td>\n      <td>15</td>\n      <td>0.0</td>\n      <td>1.0</td>\n      <td>0.0</td>\n      <td>0.0</td>\n      <td>0.0</td>\n      <td>0.0</td>\n      <td>0.0</td>\n      <td>...</td>\n      <td>0.0</td>\n      <td>0.0</td>\n      <td>0.0</td>\n      <td>0.0</td>\n      <td>0.0</td>\n      <td>0.0</td>\n      <td>0.0</td>\n      <td>0.0</td>\n      <td>0.0</td>\n      <td>0.0</td>\n    </tr>\n    <tr>\n      <th>14</th>\n      <td>generic</td>\n      <td>12</td>\n      <td>18</td>\n      <td>0.0</td>\n      <td>0.0</td>\n      <td>0.0</td>\n      <td>0.0</td>\n      <td>0.0</td>\n      <td>0.0</td>\n      <td>0.0</td>\n      <td>...</td>\n      <td>0.0</td>\n      <td>0.0</td>\n      <td>0.0</td>\n      <td>0.0</td>\n      <td>0.0</td>\n      <td>0.0</td>\n      <td>0.0</td>\n      <td>0.0</td>\n      <td>0.0</td>\n      <td>0.0</td>\n    </tr>\n    <tr>\n      <th>15</th>\n      <td>generic</td>\n      <td>31</td>\n      <td>19</td>\n      <td>0.0</td>\n      <td>0.0</td>\n      <td>0.0</td>\n      <td>0.0</td>\n      <td>1.0</td>\n      <td>0.0</td>\n      <td>0.0</td>\n      <td>...</td>\n      <td>0.0</td>\n      <td>0.0</td>\n      <td>0.0</td>\n      <td>0.0</td>\n      <td>0.0</td>\n      <td>0.0</td>\n      <td>0.0</td>\n      <td>0.0</td>\n      <td>0.0</td>\n      <td>0.0</td>\n    </tr>\n    <tr>\n      <th>16</th>\n      <td>sh</td>\n      <td>41</td>\n      <td>15</td>\n      <td>0.0</td>\n      <td>0.0</td>\n      <td>0.0</td>\n      <td>0.0</td>\n      <td>0.0</td>\n      <td>0.0</td>\n      <td>0.0</td>\n      <td>...</td>\n      <td>0.0</td>\n      <td>0.0</td>\n      <td>0.0</td>\n      <td>0.0</td>\n      <td>0.0</td>\n      <td>0.0</td>\n      <td>0.0</td>\n      <td>0.0</td>\n      <td>0.0</td>\n      <td>0.0</td>\n    </tr>\n    <tr>\n      <th>17</th>\n      <td>sh</td>\n      <td>28</td>\n      <td>23</td>\n      <td>0.0</td>\n      <td>0.0</td>\n      <td>0.0</td>\n      <td>0.0</td>\n      <td>0.0</td>\n      <td>0.0</td>\n      <td>1.0</td>\n      <td>...</td>\n      <td>0.0</td>\n      <td>0.0</td>\n      <td>0.0</td>\n      <td>1.0</td>\n      <td>0.0</td>\n      <td>0.0</td>\n      <td>0.0</td>\n      <td>0.0</td>\n      <td>0.0</td>\n      <td>0.0</td>\n    </tr>\n    <tr>\n      <th>18</th>\n      <td>sh</td>\n      <td>26</td>\n      <td>8</td>\n      <td>0.0</td>\n      <td>0.0</td>\n      <td>0.0</td>\n      <td>0.0</td>\n      <td>0.0</td>\n      <td>0.0</td>\n      <td>0.0</td>\n      <td>...</td>\n      <td>0.0</td>\n      <td>0.0</td>\n      <td>0.0</td>\n      <td>0.0</td>\n      <td>0.0</td>\n      <td>0.0</td>\n      <td>0.0</td>\n      <td>0.0</td>\n      <td>0.0</td>\n      <td>0.0</td>\n    </tr>\n    <tr>\n      <th>19</th>\n      <td>sh</td>\n      <td>28</td>\n      <td>18</td>\n      <td>1.0</td>\n      <td>0.0</td>\n      <td>0.0</td>\n      <td>0.0</td>\n      <td>0.0</td>\n      <td>0.0</td>\n      <td>0.0</td>\n      <td>...</td>\n      <td>0.0</td>\n      <td>0.0</td>\n      <td>0.0</td>\n      <td>0.0</td>\n      <td>0.0</td>\n      <td>0.0</td>\n      <td>0.0</td>\n      <td>1.0</td>\n      <td>0.0</td>\n      <td>0.0</td>\n    </tr>\n    <tr>\n      <th>20</th>\n      <td>sh</td>\n      <td>26</td>\n      <td>13</td>\n      <td>0.0</td>\n      <td>0.0</td>\n      <td>0.0</td>\n      <td>0.0</td>\n      <td>0.0</td>\n      <td>0.0</td>\n      <td>0.0</td>\n      <td>...</td>\n      <td>0.0</td>\n      <td>0.0</td>\n      <td>1.0</td>\n      <td>0.0</td>\n      <td>0.0</td>\n      <td>0.0</td>\n      <td>0.0</td>\n      <td>0.0</td>\n      <td>0.0</td>\n      <td>0.0</td>\n    </tr>\n    <tr>\n      <th>21</th>\n      <td>sh</td>\n      <td>24</td>\n      <td>15</td>\n      <td>0.0</td>\n      <td>0.0</td>\n      <td>0.0</td>\n      <td>0.0</td>\n      <td>0.0</td>\n      <td>0.0</td>\n      <td>0.0</td>\n      <td>...</td>\n      <td>0.0</td>\n      <td>0.0</td>\n      <td>0.0</td>\n      <td>0.0</td>\n      <td>0.0</td>\n      <td>0.0</td>\n      <td>0.0</td>\n      <td>0.0</td>\n      <td>1.0</td>\n      <td>0.0</td>\n    </tr>\n    <tr>\n      <th>22</th>\n      <td>movemail</td>\n      <td>29</td>\n      <td>21</td>\n      <td>0.0</td>\n      <td>0.0</td>\n      <td>0.0</td>\n      <td>0.0</td>\n      <td>0.0</td>\n      <td>0.0</td>\n      <td>0.0</td>\n      <td>...</td>\n      <td>0.0</td>\n      <td>0.0</td>\n      <td>1.0</td>\n      <td>0.0</td>\n      <td>0.0</td>\n      <td>0.0</td>\n      <td>0.0</td>\n      <td>0.0</td>\n      <td>0.0</td>\n      <td>0.0</td>\n    </tr>\n    <tr>\n      <th>23</th>\n      <td>ksh</td>\n      <td>9</td>\n      <td>46</td>\n      <td>0.0</td>\n      <td>0.0</td>\n      <td>0.0</td>\n      <td>0.0</td>\n      <td>0.0</td>\n      <td>0.0</td>\n      <td>0.0</td>\n      <td>...</td>\n      <td>0.0</td>\n      <td>0.0</td>\n      <td>0.0</td>\n      <td>0.0</td>\n      <td>0.0</td>\n      <td>0.0</td>\n      <td>0.0</td>\n      <td>0.0</td>\n      <td>0.0</td>\n      <td>0.0</td>\n    </tr>\n    <tr>\n      <th>24</th>\n      <td>ksh</td>\n      <td>14</td>\n      <td>61</td>\n      <td>0.0</td>\n      <td>0.0</td>\n      <td>0.0</td>\n      <td>0.0</td>\n      <td>0.0</td>\n      <td>0.0</td>\n      <td>0.0</td>\n      <td>...</td>\n      <td>0.0</td>\n      <td>0.0</td>\n      <td>1.0</td>\n      <td>0.0</td>\n      <td>0.0</td>\n      <td>0.0</td>\n      <td>0.0</td>\n      <td>0.0</td>\n      <td>0.0</td>\n      <td>0.0</td>\n    </tr>\n    <tr>\n      <th>25</th>\n      <td>movemail</td>\n      <td>15</td>\n      <td>12</td>\n      <td>0.0</td>\n      <td>0.0</td>\n      <td>0.0</td>\n      <td>0.0</td>\n      <td>0.0</td>\n      <td>0.0</td>\n      <td>0.0</td>\n      <td>...</td>\n      <td>0.0</td>\n      <td>0.0</td>\n      <td>0.0</td>\n      <td>0.0</td>\n      <td>0.0</td>\n      <td>0.0</td>\n      <td>0.0</td>\n      <td>0.0</td>\n      <td>0.0</td>\n      <td>0.0</td>\n    </tr>\n    <tr>\n      <th>26</th>\n      <td>movemail</td>\n      <td>18</td>\n      <td>9</td>\n      <td>0.0</td>\n      <td>0.0</td>\n      <td>0.0</td>\n      <td>0.0</td>\n      <td>0.0</td>\n      <td>0.0</td>\n      <td>0.0</td>\n      <td>...</td>\n      <td>0.0</td>\n      <td>0.0</td>\n      <td>0.0</td>\n      <td>0.0</td>\n      <td>0.0</td>\n      <td>0.0</td>\n      <td>1.0</td>\n      <td>0.0</td>\n      <td>0.0</td>\n      <td>0.0</td>\n    </tr>\n    <tr>\n      <th>27</th>\n      <td>uname</td>\n      <td>26</td>\n      <td>18</td>\n      <td>0.0</td>\n      <td>0.0</td>\n      <td>0.0</td>\n      <td>0.0</td>\n      <td>0.0</td>\n      <td>0.0</td>\n      <td>0.0</td>\n      <td>...</td>\n      <td>0.0</td>\n      <td>0.0</td>\n      <td>0.0</td>\n      <td>0.0</td>\n      <td>0.0</td>\n      <td>0.0</td>\n      <td>0.0</td>\n      <td>0.0</td>\n      <td>0.0</td>\n      <td>0.0</td>\n    </tr>\n    <tr>\n      <th>28</th>\n      <td>sh</td>\n      <td>21</td>\n      <td>18</td>\n      <td>0.0</td>\n      <td>0.0</td>\n      <td>0.0</td>\n      <td>0.0</td>\n      <td>0.0</td>\n      <td>0.0</td>\n      <td>0.0</td>\n      <td>...</td>\n      <td>0.0</td>\n      <td>0.0</td>\n      <td>0.0</td>\n      <td>0.0</td>\n      <td>0.0</td>\n      <td>0.0</td>\n      <td>0.0</td>\n      <td>0.0</td>\n      <td>0.0</td>\n      <td>0.0</td>\n    </tr>\n    <tr>\n      <th>29</th>\n      <td>sh</td>\n      <td>15</td>\n      <td>15</td>\n      <td>0.0</td>\n      <td>0.0</td>\n      <td>0.0</td>\n      <td>0.0</td>\n      <td>0.0</td>\n      <td>0.0</td>\n      <td>0.0</td>\n      <td>...</td>\n      <td>0.0</td>\n      <td>1.0</td>\n      <td>0.0</td>\n      <td>0.0</td>\n      <td>0.0</td>\n      <td>0.0</td>\n      <td>0.0</td>\n      <td>0.0</td>\n      <td>0.0</td>\n      <td>0.0</td>\n    </tr>\n    <tr>\n      <th>30</th>\n      <td>sh</td>\n      <td>29</td>\n      <td>9</td>\n      <td>0.0</td>\n      <td>0.0</td>\n      <td>0.0</td>\n      <td>0.0</td>\n      <td>0.0</td>\n      <td>0.0</td>\n      <td>0.0</td>\n      <td>...</td>\n      <td>0.0</td>\n      <td>0.0</td>\n      <td>0.0</td>\n      <td>0.0</td>\n      <td>0.0</td>\n      <td>0.0</td>\n      <td>0.0</td>\n      <td>0.0</td>\n      <td>0.0</td>\n      <td>0.0</td>\n    </tr>\n    <tr>\n      <th>31</th>\n      <td>ksh</td>\n      <td>12</td>\n      <td>54</td>\n      <td>0.0</td>\n      <td>0.0</td>\n      <td>0.0</td>\n      <td>0.0</td>\n      <td>0.0</td>\n      <td>1.0</td>\n      <td>0.0</td>\n      <td>...</td>\n      <td>0.0</td>\n      <td>0.0</td>\n      <td>0.0</td>\n      <td>0.0</td>\n      <td>0.0</td>\n      <td>0.0</td>\n      <td>1.0</td>\n      <td>0.0</td>\n      <td>0.0</td>\n      <td>0.0</td>\n    </tr>\n    <tr>\n      <th>32</th>\n      <td>ksh</td>\n      <td>9</td>\n      <td>21</td>\n      <td>0.0</td>\n      <td>0.0</td>\n      <td>0.0</td>\n      <td>0.0</td>\n      <td>0.0</td>\n      <td>0.0</td>\n      <td>0.0</td>\n      <td>...</td>\n      <td>0.0</td>\n      <td>0.0</td>\n      <td>0.0</td>\n      <td>0.0</td>\n      <td>0.0</td>\n      <td>0.0</td>\n      <td>0.0</td>\n      <td>0.0</td>\n      <td>0.0</td>\n      <td>0.0</td>\n    </tr>\n    <tr>\n      <th>33</th>\n      <td>gs</td>\n      <td>15</td>\n      <td>9</td>\n      <td>0.0</td>\n      <td>0.0</td>\n      <td>0.0</td>\n      <td>0.0</td>\n      <td>0.0</td>\n      <td>0.0</td>\n      <td>0.0</td>\n      <td>...</td>\n      <td>0.0</td>\n      <td>0.0</td>\n      <td>0.0</td>\n      <td>0.0</td>\n      <td>0.0</td>\n      <td>1.0</td>\n      <td>0.0</td>\n      <td>0.0</td>\n      <td>0.0</td>\n      <td>0.0</td>\n    </tr>\n    <tr>\n      <th>34</th>\n      <td>ksh</td>\n      <td>15</td>\n      <td>15</td>\n      <td>0.0</td>\n      <td>0.0</td>\n      <td>0.0</td>\n      <td>0.0</td>\n      <td>0.0</td>\n      <td>0.0</td>\n      <td>0.0</td>\n      <td>...</td>\n      <td>0.0</td>\n      <td>0.0</td>\n      <td>0.0</td>\n      <td>0.0</td>\n      <td>0.0</td>\n      <td>0.0</td>\n      <td>0.0</td>\n      <td>0.0</td>\n      <td>0.0</td>\n      <td>0.0</td>\n    </tr>\n    <tr>\n      <th>35</th>\n      <td>sh</td>\n      <td>35</td>\n      <td>17</td>\n      <td>0.0</td>\n      <td>0.0</td>\n      <td>0.0</td>\n      <td>0.0</td>\n      <td>0.0</td>\n      <td>0.0</td>\n      <td>0.0</td>\n      <td>...</td>\n      <td>0.0</td>\n      <td>1.0</td>\n      <td>0.0</td>\n      <td>0.0</td>\n      <td>0.0</td>\n      <td>0.0</td>\n      <td>0.0</td>\n      <td>0.0</td>\n      <td>0.0</td>\n      <td>0.0</td>\n    </tr>\n    <tr>\n      <th>36</th>\n      <td>sh</td>\n      <td>8</td>\n      <td>8</td>\n      <td>0.0</td>\n      <td>0.0</td>\n      <td>0.0</td>\n      <td>0.0</td>\n      <td>0.0</td>\n      <td>0.0</td>\n      <td>0.0</td>\n      <td>...</td>\n      <td>0.0</td>\n      <td>0.0</td>\n      <td>0.0</td>\n      <td>1.0</td>\n      <td>0.0</td>\n      <td>0.0</td>\n      <td>0.0</td>\n      <td>0.0</td>\n      <td>0.0</td>\n      <td>0.0</td>\n    </tr>\n    <tr>\n      <th>37</th>\n      <td>sh</td>\n      <td>9</td>\n      <td>6</td>\n      <td>0.0</td>\n      <td>0.0</td>\n      <td>0.0</td>\n      <td>0.0</td>\n      <td>0.0</td>\n      <td>0.0</td>\n      <td>0.0</td>\n      <td>...</td>\n      <td>0.0</td>\n      <td>0.0</td>\n      <td>0.0</td>\n      <td>0.0</td>\n      <td>0.0</td>\n      <td>0.0</td>\n      <td>0.0</td>\n      <td>0.0</td>\n      <td>0.0</td>\n      <td>0.0</td>\n    </tr>\n    <tr>\n      <th>38</th>\n      <td>sh</td>\n      <td>28</td>\n      <td>18</td>\n      <td>0.0</td>\n      <td>0.0</td>\n      <td>0.0</td>\n      <td>0.0</td>\n      <td>0.0</td>\n      <td>0.0</td>\n      <td>0.0</td>\n      <td>...</td>\n      <td>0.0</td>\n      <td>0.0</td>\n      <td>0.0</td>\n      <td>0.0</td>\n      <td>0.0</td>\n      <td>0.0</td>\n      <td>0.0</td>\n      <td>0.0</td>\n      <td>0.0</td>\n      <td>0.0</td>\n    </tr>\n    <tr>\n      <th>39</th>\n      <td>movemail</td>\n      <td>19</td>\n      <td>8</td>\n      <td>0.0</td>\n      <td>0.0</td>\n      <td>0.0</td>\n      <td>0.0</td>\n      <td>0.0</td>\n      <td>0.0</td>\n      <td>0.0</td>\n      <td>...</td>\n      <td>0.0</td>\n      <td>0.0</td>\n      <td>0.0</td>\n      <td>0.0</td>\n      <td>0.0</td>\n      <td>0.0</td>\n      <td>0.0</td>\n      <td>0.0</td>\n      <td>0.0</td>\n      <td>0.0</td>\n    </tr>\n    <tr>\n      <th>40</th>\n      <td>echo</td>\n      <td>33</td>\n      <td>16</td>\n      <td>0.0</td>\n      <td>0.0</td>\n      <td>0.0</td>\n      <td>0.0</td>\n      <td>0.0</td>\n      <td>0.0</td>\n      <td>0.0</td>\n      <td>...</td>\n      <td>0.0</td>\n      <td>0.0</td>\n      <td>0.0</td>\n      <td>0.0</td>\n      <td>0.0</td>\n      <td>0.0</td>\n      <td>0.0</td>\n      <td>0.0</td>\n      <td>0.0</td>\n      <td>0.0</td>\n    </tr>\n    <tr>\n      <th>41</th>\n      <td>ksh</td>\n      <td>27</td>\n      <td>10</td>\n      <td>0.0</td>\n      <td>0.0</td>\n      <td>0.0</td>\n      <td>0.0</td>\n      <td>0.0</td>\n      <td>0.0</td>\n      <td>0.0</td>\n      <td>...</td>\n      <td>0.0</td>\n      <td>0.0</td>\n      <td>0.0</td>\n      <td>0.0</td>\n      <td>0.0</td>\n      <td>0.0</td>\n      <td>0.0</td>\n      <td>0.0</td>\n      <td>0.0</td>\n      <td>0.0</td>\n    </tr>\n    <tr>\n      <th>42</th>\n      <td>ksh</td>\n      <td>22</td>\n      <td>16</td>\n      <td>0.0</td>\n      <td>0.0</td>\n      <td>0.0</td>\n      <td>0.0</td>\n      <td>0.0</td>\n      <td>0.0</td>\n      <td>0.0</td>\n      <td>...</td>\n      <td>0.0</td>\n      <td>0.0</td>\n      <td>0.0</td>\n      <td>0.0</td>\n      <td>0.0</td>\n      <td>0.0</td>\n      <td>0.0</td>\n      <td>0.0</td>\n      <td>0.0</td>\n      <td>0.0</td>\n    </tr>\n    <tr>\n      <th>43</th>\n      <td>ksh</td>\n      <td>29</td>\n      <td>20</td>\n      <td>0.0</td>\n      <td>0.0</td>\n      <td>0.0</td>\n      <td>0.0</td>\n      <td>0.0</td>\n      <td>0.0</td>\n      <td>0.0</td>\n      <td>...</td>\n      <td>0.0</td>\n      <td>0.0</td>\n      <td>0.0</td>\n      <td>0.0</td>\n      <td>0.0</td>\n      <td>0.0</td>\n      <td>0.0</td>\n      <td>0.0</td>\n      <td>0.0</td>\n      <td>0.0</td>\n    </tr>\n    <tr>\n      <th>44</th>\n      <td>sh</td>\n      <td>27</td>\n      <td>18</td>\n      <td>0.0</td>\n      <td>0.0</td>\n      <td>0.0</td>\n      <td>0.0</td>\n      <td>0.0</td>\n      <td>0.0</td>\n      <td>0.0</td>\n      <td>...</td>\n      <td>0.0</td>\n      <td>0.0</td>\n      <td>0.0</td>\n      <td>0.0</td>\n      <td>0.0</td>\n      <td>0.0</td>\n      <td>0.0</td>\n      <td>0.0</td>\n      <td>0.0</td>\n      <td>0.0</td>\n    </tr>\n    <tr>\n      <th>45</th>\n      <td>ls</td>\n      <td>21</td>\n      <td>14</td>\n      <td>0.0</td>\n      <td>0.0</td>\n      <td>0.0</td>\n      <td>0.0</td>\n      <td>0.0</td>\n      <td>0.0</td>\n      <td>0.0</td>\n      <td>...</td>\n      <td>0.0</td>\n      <td>0.0</td>\n      <td>0.0</td>\n      <td>0.0</td>\n      <td>0.0</td>\n      <td>0.0</td>\n      <td>0.0</td>\n      <td>0.0</td>\n      <td>0.0</td>\n      <td>0.0</td>\n    </tr>\n    <tr>\n      <th>46</th>\n      <td>dvips</td>\n      <td>5</td>\n      <td>100</td>\n      <td>0.0</td>\n      <td>0.0</td>\n      <td>0.0</td>\n      <td>0.0</td>\n      <td>0.0</td>\n      <td>0.0</td>\n      <td>0.0</td>\n      <td>...</td>\n      <td>0.0</td>\n      <td>0.0</td>\n      <td>0.0</td>\n      <td>0.0</td>\n      <td>0.0</td>\n      <td>0.0</td>\n      <td>0.0</td>\n      <td>0.0</td>\n      <td>0.0</td>\n      <td>0.0</td>\n    </tr>\n    <tr>\n      <th>47</th>\n      <td>sendmail</td>\n      <td>29</td>\n      <td>16</td>\n      <td>0.0</td>\n      <td>0.0</td>\n      <td>0.0</td>\n      <td>0.0</td>\n      <td>0.0</td>\n      <td>0.0</td>\n      <td>0.0</td>\n      <td>...</td>\n      <td>0.0</td>\n      <td>0.0</td>\n      <td>0.0</td>\n      <td>0.0</td>\n      <td>0.0</td>\n      <td>0.0</td>\n      <td>0.0</td>\n      <td>0.0</td>\n      <td>0.0</td>\n      <td>0.0</td>\n    </tr>\n    <tr>\n      <th>48</th>\n      <td>touch</td>\n      <td>11</td>\n      <td>100</td>\n      <td>0.0</td>\n      <td>0.0</td>\n      <td>0.0</td>\n      <td>0.0</td>\n      <td>0.0</td>\n      <td>0.0</td>\n      <td>0.0</td>\n      <td>...</td>\n      <td>0.0</td>\n      <td>0.0</td>\n      <td>0.0</td>\n      <td>0.0</td>\n      <td>1.0</td>\n      <td>0.0</td>\n      <td>0.0</td>\n      <td>0.0</td>\n      <td>0.0</td>\n      <td>0.0</td>\n    </tr>\n    <tr>\n      <th>49</th>\n      <td>grep</td>\n      <td>16</td>\n      <td>66</td>\n      <td>0.0</td>\n      <td>0.0</td>\n      <td>0.0</td>\n      <td>1.0</td>\n      <td>0.0</td>\n      <td>0.0</td>\n      <td>0.0</td>\n      <td>...</td>\n      <td>0.0</td>\n      <td>1.0</td>\n      <td>0.0</td>\n      <td>0.0</td>\n      <td>0.0</td>\n      <td>0.0</td>\n      <td>0.0</td>\n      <td>0.0</td>\n      <td>0.0</td>\n      <td>0.0</td>\n    </tr>\n  </tbody>\n</table>\n<p>50 rows × 56 columns</p>\n</div>"
     },
     "execution_count": 12,
     "metadata": {},
     "output_type": "execute_result"
    }
   ],
   "source": [
    "pd.get_dummies(segment_df_train, columns=[\"first_cmd\", \"last_cmd\"], prefix=\"is\" ,dtype=float)"
   ],
   "metadata": {
    "collapsed": false,
    "ExecuteTime": {
     "end_time": "2023-04-29T14:19:03.966805256Z",
     "start_time": "2023-04-29T14:19:03.959297740Z"
    }
   }
  }
 ],
 "metadata": {
  "kernelspec": {
   "display_name": "Python 3",
   "language": "python",
   "name": "python3"
  },
  "language_info": {
   "codemirror_mode": {
    "name": "ipython",
    "version": 2
   },
   "file_extension": ".py",
   "mimetype": "text/x-python",
   "name": "python",
   "nbconvert_exporter": "python",
   "pygments_lexer": "ipython2",
   "version": "2.7.6"
  }
 },
 "nbformat": 4,
 "nbformat_minor": 0
}
