{
 "cells": [
  {
   "cell_type": "code",
   "execution_count": 3,
   "outputs": [
    {
     "name": "stdout",
     "output_type": "stream",
     "text": [
      "The autoreload extension is already loaded. To reload it, use:\n",
      "  %reload_ext autoreload\n"
     ]
    }
   ],
   "source": [
    "%load_ext autoreload\n",
    "%autoreload 2"
   ],
   "metadata": {
    "collapsed": false
   }
  },
  {
   "cell_type": "code",
   "execution_count": 4,
   "outputs": [],
   "source": [
    "import warnings\n",
    "\n",
    "warnings.filterwarnings(action=\"ignore\")\n",
    "\n",
    "import os\n",
    "import tqdm\n",
    "import numpy as np\n",
    "import pandas as pd\n",
    "\n",
    "from typing import Tuple, List, Dict, Any\n",
    "from constants import *\n",
    "from features.user import User\n",
    "\n",
    "\n",
    "# 90 of the test segments are genuine (i.e., benign) and 10 segments are entered bya masquerader (randomly sorted)."
   ],
   "metadata": {
    "collapsed": false
   }
  },
  {
   "cell_type": "code",
   "execution_count": 5,
   "metadata": {
    "ExecuteTime": {
     "end_time": "2023-04-29T15:26:27.593458622Z",
     "start_time": "2023-04-29T15:26:27.558957345Z"
    }
   },
   "outputs": [],
   "source": [
    "#   load answer for classifcation\n",
    "gt_df = pd.read_csv(\"challengeToFill.csv\", index_col=0).T[TRAIN_SEGMENT_COUNT:].reset_index(drop=True)\n",
    "\n",
    "\n",
    "\n",
    "\n",
    "# dev_set_df = gt_df.T.iloc[TRAIN_SEGMENT_COUNT:, :DEV_USERS_COUNT]"
   ]
  },
  {
   "cell_type": "code",
   "execution_count": 6,
   "metadata": {},
   "outputs": [],
   "source": [
    "def evaluate_user_results(pred_series: pd.Series, true_series: pd.Series):\n",
    "    ''' evaluate the classification result of a single user '''\n",
    "    assert len(pred_series) == len(true_series)\n",
    "    assert pred_series.name == true_series.name\n",
    "\n",
    "    equal_series = pred_series == true_series\n",
    "    return equal_series.mean()"
   ]
  },
  {
   "cell_type": "code",
   "execution_count": 7,
   "metadata": {
    "ExecuteTime": {
     "end_time": "2023-04-29T14:19:03.913351387Z",
     "start_time": "2023-04-29T14:19:03.676969262Z"
    }
   },
   "outputs": [
    {
     "name": "stderr",
     "output_type": "stream",
     "text": [
      "100%|██████████| 10/10 [00:05<00:00,  1.81it/s]\n"
     ]
    }
   ],
   "source": [
    "user_list = [f\"User{i}\" for i in range(10)]\n",
    "data_path = [f\"data/{uid}\" for uid in user_list]\n",
    "\n",
    "user_data = {}\n",
    "\n",
    "for user_id, user_data_path in tqdm.tqdm(zip(user_list, data_path), total=len(user_list)):\n",
    "    #   load user data\n",
    "    user_data[user_id] = User(user_id, user_data_path, gt_df[user_id])\n",
    "\n",
    "    # create segment features\n",
    "    user_data[user_id].build_segment_features()\n"
   ]
  },
  {
   "cell_type": "code",
   "execution_count": 8,
   "outputs": [],
   "source": [
    "import matplotlib.pyplot as plt\n",
    "\n",
    "all_test_segments = [user_data[user_id].segment_df_test.select_dtypes(\"number\") for user_id in user_list]\n",
    "all_test_segments_gt = [user_data[user_id].user_anomaly_gt for user_id in user_list]\n",
    "\n",
    "all_test_segments = pd.concat(all_test_segments).reset_index(drop=True)\n",
    "all_test_segments[\"anomaly\"] = pd.concat(all_test_segments_gt).reset_index(drop=True)\n",
    "\n",
    "\n",
    "corr = all_test_segments.corr()"
   ],
   "metadata": {
    "collapsed": false
   }
  },
  {
   "cell_type": "code",
   "execution_count": 9,
   "outputs": [
    {
     "data": {
      "text/plain": "                           unique_cmds  longest_same_cmd_sequence   \nunique_cmds                   1.000000                  -0.222672  \\\nlongest_same_cmd_sequence    -0.222672                   1.000000   \ncmds_not_in_train             0.189688                  -0.035606   \nstarts_with_dotfile_cmds      0.022948                  -0.166376   \nsingle_chars_cmds             0.413126                   0.007597   \ntwo_chars_cmds                0.803381                  -0.215548   \nthree_chars_cmds              0.605625                  -0.249137   \nfour_chars_cmds               0.605625                  -0.249137   \nends_with_dot_cmds                 NaN                        NaN   \nhas_dot_in_middle_cmds        0.017609                   0.031985   \nhas_zip_cmds                  0.063597                  -0.082661   \nhas_mail_cmds                 0.444255                  -0.164555   \nhas_coding_cmds              -0.044612                  -0.176382   \nhas_db_cmds                        NaN                        NaN   \nhas_ssh_cmds                  0.017942                  -0.016682   \nhas_numerics_cmds             0.351530                  -0.072231   \nanomaly                       0.119453                  -0.099179   \n\n                           cmds_not_in_train  starts_with_dotfile_cmds   \nunique_cmds                         0.189688                  0.022948  \\\nlongest_same_cmd_sequence          -0.035606                 -0.166376   \ncmds_not_in_train                   1.000000                  0.008807   \nstarts_with_dotfile_cmds            0.008807                  1.000000   \nsingle_chars_cmds                  -0.043439                 -0.078272   \ntwo_chars_cmds                      0.118965                 -0.141681   \nthree_chars_cmds                    0.265499                  0.019067   \nfour_chars_cmds                     0.265499                  0.019067   \nends_with_dot_cmds                       NaN                       NaN   \nhas_dot_in_middle_cmds              0.232811                  0.502096   \nhas_zip_cmds                       -0.046816                  0.053722   \nhas_mail_cmds                       0.153882                  0.066548   \nhas_coding_cmds                     0.064995                  0.077508   \nhas_db_cmds                              NaN                       NaN   \nhas_ssh_cmds                        0.143348                 -0.018175   \nhas_numerics_cmds                   0.230387                 -0.024063   \nanomaly                             0.568771                 -0.045283   \n\n                           single_chars_cmds  two_chars_cmds   \nunique_cmds                         0.413126        0.803381  \\\nlongest_same_cmd_sequence           0.007597       -0.215548   \ncmds_not_in_train                  -0.043439        0.118965   \nstarts_with_dotfile_cmds           -0.078272       -0.141681   \nsingle_chars_cmds                   1.000000        0.296298   \ntwo_chars_cmds                      0.296298        1.000000   \nthree_chars_cmds                    0.116747        0.559791   \nfour_chars_cmds                     0.116747        0.559791   \nends_with_dot_cmds                       NaN             NaN   \nhas_dot_in_middle_cmds             -0.087854       -0.149182   \nhas_zip_cmds                       -0.065240        0.061807   \nhas_mail_cmds                       0.259642        0.239647   \nhas_coding_cmds                    -0.098017        0.178583   \nhas_db_cmds                              NaN             NaN   \nhas_ssh_cmds                        0.011035       -0.009157   \nhas_numerics_cmds                   0.257994        0.189438   \nanomaly                            -0.055210        0.080631   \n\n                           three_chars_cmds  four_chars_cmds   \nunique_cmds                        0.605625         0.605625  \\\nlongest_same_cmd_sequence         -0.249137        -0.249137   \ncmds_not_in_train                  0.265499         0.265499   \nstarts_with_dotfile_cmds           0.019067         0.019067   \nsingle_chars_cmds                  0.116747         0.116747   \ntwo_chars_cmds                     0.559791         0.559791   \nthree_chars_cmds                   1.000000         1.000000   \nfour_chars_cmds                    1.000000         1.000000   \nends_with_dot_cmds                      NaN              NaN   \nhas_dot_in_middle_cmds             0.012823         0.012823   \nhas_zip_cmds                       0.138097         0.138097   \nhas_mail_cmds                      0.235099         0.235099   \nhas_coding_cmds                    0.501312         0.501312   \nhas_db_cmds                             NaN              NaN   \nhas_ssh_cmds                       0.005804         0.005804   \nhas_numerics_cmds                  0.471993         0.471993   \nanomaly                            0.049610         0.049610   \n\n                           ends_with_dot_cmds  has_dot_in_middle_cmds   \nunique_cmds                               NaN                0.017609  \\\nlongest_same_cmd_sequence                 NaN                0.031985   \ncmds_not_in_train                         NaN                0.232811   \nstarts_with_dotfile_cmds                  NaN                0.502096   \nsingle_chars_cmds                         NaN               -0.087854   \ntwo_chars_cmds                            NaN               -0.149182   \nthree_chars_cmds                          NaN                0.012823   \nfour_chars_cmds                           NaN                0.012823   \nends_with_dot_cmds                        NaN                     NaN   \nhas_dot_in_middle_cmds                    NaN                1.000000   \nhas_zip_cmds                              NaN               -0.017342   \nhas_mail_cmds                             NaN                0.041446   \nhas_coding_cmds                           NaN               -0.011945   \nhas_db_cmds                               NaN                     NaN   \nhas_ssh_cmds                              NaN               -0.026949   \nhas_numerics_cmds                         NaN                0.002935   \nanomaly                                   NaN                0.144612   \n\n                           has_zip_cmds  has_mail_cmds  has_coding_cmds   \nunique_cmds                    0.063597       0.444255        -0.044612  \\\nlongest_same_cmd_sequence     -0.082661      -0.164555        -0.176382   \ncmds_not_in_train             -0.046816       0.153882         0.064995   \nstarts_with_dotfile_cmds       0.053722       0.066548         0.077508   \nsingle_chars_cmds             -0.065240       0.259642        -0.098017   \ntwo_chars_cmds                 0.061807       0.239647         0.178583   \nthree_chars_cmds               0.138097       0.235099         0.501312   \nfour_chars_cmds                0.138097       0.235099         0.501312   \nends_with_dot_cmds                  NaN            NaN              NaN   \nhas_dot_in_middle_cmds        -0.017342       0.041446        -0.011945   \nhas_zip_cmds                   1.000000       0.164223         0.045961   \nhas_mail_cmds                  0.164223       1.000000        -0.084172   \nhas_coding_cmds                0.045961      -0.084172         1.000000   \nhas_db_cmds                         NaN            NaN              NaN   \nhas_ssh_cmds                  -0.011589       0.079315         0.017127   \nhas_numerics_cmds             -0.011480       0.230745         0.317069   \nanomaly                       -0.060959       0.128266        -0.003446   \n\n                           has_db_cmds  has_ssh_cmds  has_numerics_cmds   \nunique_cmds                        NaN      0.017942           0.351530  \\\nlongest_same_cmd_sequence          NaN     -0.016682          -0.072231   \ncmds_not_in_train                  NaN      0.143348           0.230387   \nstarts_with_dotfile_cmds           NaN     -0.018175          -0.024063   \nsingle_chars_cmds                  NaN      0.011035           0.257994   \ntwo_chars_cmds                     NaN     -0.009157           0.189438   \nthree_chars_cmds                   NaN      0.005804           0.471993   \nfour_chars_cmds                    NaN      0.005804           0.471993   \nends_with_dot_cmds                 NaN           NaN                NaN   \nhas_dot_in_middle_cmds             NaN     -0.026949           0.002935   \nhas_zip_cmds                       NaN     -0.011589          -0.011480   \nhas_mail_cmds                      NaN      0.079315           0.230745   \nhas_coding_cmds                    NaN      0.017127           0.317069   \nhas_db_cmds                        NaN           NaN                NaN   \nhas_ssh_cmds                       NaN      1.000000           0.001804   \nhas_numerics_cmds                  NaN      0.001804           1.000000   \nanomaly                            NaN      0.190117           0.080657   \n\n                            anomaly  \nunique_cmds                0.119453  \nlongest_same_cmd_sequence -0.099179  \ncmds_not_in_train          0.568771  \nstarts_with_dotfile_cmds  -0.045283  \nsingle_chars_cmds         -0.055210  \ntwo_chars_cmds             0.080631  \nthree_chars_cmds           0.049610  \nfour_chars_cmds            0.049610  \nends_with_dot_cmds              NaN  \nhas_dot_in_middle_cmds     0.144612  \nhas_zip_cmds              -0.060959  \nhas_mail_cmds              0.128266  \nhas_coding_cmds           -0.003446  \nhas_db_cmds                     NaN  \nhas_ssh_cmds               0.190117  \nhas_numerics_cmds          0.080657  \nanomaly                    1.000000  ",
      "text/html": "<div>\n<style scoped>\n    .dataframe tbody tr th:only-of-type {\n        vertical-align: middle;\n    }\n\n    .dataframe tbody tr th {\n        vertical-align: top;\n    }\n\n    .dataframe thead th {\n        text-align: right;\n    }\n</style>\n<table border=\"1\" class=\"dataframe\">\n  <thead>\n    <tr style=\"text-align: right;\">\n      <th></th>\n      <th>unique_cmds</th>\n      <th>longest_same_cmd_sequence</th>\n      <th>cmds_not_in_train</th>\n      <th>starts_with_dotfile_cmds</th>\n      <th>single_chars_cmds</th>\n      <th>two_chars_cmds</th>\n      <th>three_chars_cmds</th>\n      <th>four_chars_cmds</th>\n      <th>ends_with_dot_cmds</th>\n      <th>has_dot_in_middle_cmds</th>\n      <th>has_zip_cmds</th>\n      <th>has_mail_cmds</th>\n      <th>has_coding_cmds</th>\n      <th>has_db_cmds</th>\n      <th>has_ssh_cmds</th>\n      <th>has_numerics_cmds</th>\n      <th>anomaly</th>\n    </tr>\n  </thead>\n  <tbody>\n    <tr>\n      <th>unique_cmds</th>\n      <td>1.000000</td>\n      <td>-0.222672</td>\n      <td>0.189688</td>\n      <td>0.022948</td>\n      <td>0.413126</td>\n      <td>0.803381</td>\n      <td>0.605625</td>\n      <td>0.605625</td>\n      <td>NaN</td>\n      <td>0.017609</td>\n      <td>0.063597</td>\n      <td>0.444255</td>\n      <td>-0.044612</td>\n      <td>NaN</td>\n      <td>0.017942</td>\n      <td>0.351530</td>\n      <td>0.119453</td>\n    </tr>\n    <tr>\n      <th>longest_same_cmd_sequence</th>\n      <td>-0.222672</td>\n      <td>1.000000</td>\n      <td>-0.035606</td>\n      <td>-0.166376</td>\n      <td>0.007597</td>\n      <td>-0.215548</td>\n      <td>-0.249137</td>\n      <td>-0.249137</td>\n      <td>NaN</td>\n      <td>0.031985</td>\n      <td>-0.082661</td>\n      <td>-0.164555</td>\n      <td>-0.176382</td>\n      <td>NaN</td>\n      <td>-0.016682</td>\n      <td>-0.072231</td>\n      <td>-0.099179</td>\n    </tr>\n    <tr>\n      <th>cmds_not_in_train</th>\n      <td>0.189688</td>\n      <td>-0.035606</td>\n      <td>1.000000</td>\n      <td>0.008807</td>\n      <td>-0.043439</td>\n      <td>0.118965</td>\n      <td>0.265499</td>\n      <td>0.265499</td>\n      <td>NaN</td>\n      <td>0.232811</td>\n      <td>-0.046816</td>\n      <td>0.153882</td>\n      <td>0.064995</td>\n      <td>NaN</td>\n      <td>0.143348</td>\n      <td>0.230387</td>\n      <td>0.568771</td>\n    </tr>\n    <tr>\n      <th>starts_with_dotfile_cmds</th>\n      <td>0.022948</td>\n      <td>-0.166376</td>\n      <td>0.008807</td>\n      <td>1.000000</td>\n      <td>-0.078272</td>\n      <td>-0.141681</td>\n      <td>0.019067</td>\n      <td>0.019067</td>\n      <td>NaN</td>\n      <td>0.502096</td>\n      <td>0.053722</td>\n      <td>0.066548</td>\n      <td>0.077508</td>\n      <td>NaN</td>\n      <td>-0.018175</td>\n      <td>-0.024063</td>\n      <td>-0.045283</td>\n    </tr>\n    <tr>\n      <th>single_chars_cmds</th>\n      <td>0.413126</td>\n      <td>0.007597</td>\n      <td>-0.043439</td>\n      <td>-0.078272</td>\n      <td>1.000000</td>\n      <td>0.296298</td>\n      <td>0.116747</td>\n      <td>0.116747</td>\n      <td>NaN</td>\n      <td>-0.087854</td>\n      <td>-0.065240</td>\n      <td>0.259642</td>\n      <td>-0.098017</td>\n      <td>NaN</td>\n      <td>0.011035</td>\n      <td>0.257994</td>\n      <td>-0.055210</td>\n    </tr>\n    <tr>\n      <th>two_chars_cmds</th>\n      <td>0.803381</td>\n      <td>-0.215548</td>\n      <td>0.118965</td>\n      <td>-0.141681</td>\n      <td>0.296298</td>\n      <td>1.000000</td>\n      <td>0.559791</td>\n      <td>0.559791</td>\n      <td>NaN</td>\n      <td>-0.149182</td>\n      <td>0.061807</td>\n      <td>0.239647</td>\n      <td>0.178583</td>\n      <td>NaN</td>\n      <td>-0.009157</td>\n      <td>0.189438</td>\n      <td>0.080631</td>\n    </tr>\n    <tr>\n      <th>three_chars_cmds</th>\n      <td>0.605625</td>\n      <td>-0.249137</td>\n      <td>0.265499</td>\n      <td>0.019067</td>\n      <td>0.116747</td>\n      <td>0.559791</td>\n      <td>1.000000</td>\n      <td>1.000000</td>\n      <td>NaN</td>\n      <td>0.012823</td>\n      <td>0.138097</td>\n      <td>0.235099</td>\n      <td>0.501312</td>\n      <td>NaN</td>\n      <td>0.005804</td>\n      <td>0.471993</td>\n      <td>0.049610</td>\n    </tr>\n    <tr>\n      <th>four_chars_cmds</th>\n      <td>0.605625</td>\n      <td>-0.249137</td>\n      <td>0.265499</td>\n      <td>0.019067</td>\n      <td>0.116747</td>\n      <td>0.559791</td>\n      <td>1.000000</td>\n      <td>1.000000</td>\n      <td>NaN</td>\n      <td>0.012823</td>\n      <td>0.138097</td>\n      <td>0.235099</td>\n      <td>0.501312</td>\n      <td>NaN</td>\n      <td>0.005804</td>\n      <td>0.471993</td>\n      <td>0.049610</td>\n    </tr>\n    <tr>\n      <th>ends_with_dot_cmds</th>\n      <td>NaN</td>\n      <td>NaN</td>\n      <td>NaN</td>\n      <td>NaN</td>\n      <td>NaN</td>\n      <td>NaN</td>\n      <td>NaN</td>\n      <td>NaN</td>\n      <td>NaN</td>\n      <td>NaN</td>\n      <td>NaN</td>\n      <td>NaN</td>\n      <td>NaN</td>\n      <td>NaN</td>\n      <td>NaN</td>\n      <td>NaN</td>\n      <td>NaN</td>\n    </tr>\n    <tr>\n      <th>has_dot_in_middle_cmds</th>\n      <td>0.017609</td>\n      <td>0.031985</td>\n      <td>0.232811</td>\n      <td>0.502096</td>\n      <td>-0.087854</td>\n      <td>-0.149182</td>\n      <td>0.012823</td>\n      <td>0.012823</td>\n      <td>NaN</td>\n      <td>1.000000</td>\n      <td>-0.017342</td>\n      <td>0.041446</td>\n      <td>-0.011945</td>\n      <td>NaN</td>\n      <td>-0.026949</td>\n      <td>0.002935</td>\n      <td>0.144612</td>\n    </tr>\n    <tr>\n      <th>has_zip_cmds</th>\n      <td>0.063597</td>\n      <td>-0.082661</td>\n      <td>-0.046816</td>\n      <td>0.053722</td>\n      <td>-0.065240</td>\n      <td>0.061807</td>\n      <td>0.138097</td>\n      <td>0.138097</td>\n      <td>NaN</td>\n      <td>-0.017342</td>\n      <td>1.000000</td>\n      <td>0.164223</td>\n      <td>0.045961</td>\n      <td>NaN</td>\n      <td>-0.011589</td>\n      <td>-0.011480</td>\n      <td>-0.060959</td>\n    </tr>\n    <tr>\n      <th>has_mail_cmds</th>\n      <td>0.444255</td>\n      <td>-0.164555</td>\n      <td>0.153882</td>\n      <td>0.066548</td>\n      <td>0.259642</td>\n      <td>0.239647</td>\n      <td>0.235099</td>\n      <td>0.235099</td>\n      <td>NaN</td>\n      <td>0.041446</td>\n      <td>0.164223</td>\n      <td>1.000000</td>\n      <td>-0.084172</td>\n      <td>NaN</td>\n      <td>0.079315</td>\n      <td>0.230745</td>\n      <td>0.128266</td>\n    </tr>\n    <tr>\n      <th>has_coding_cmds</th>\n      <td>-0.044612</td>\n      <td>-0.176382</td>\n      <td>0.064995</td>\n      <td>0.077508</td>\n      <td>-0.098017</td>\n      <td>0.178583</td>\n      <td>0.501312</td>\n      <td>0.501312</td>\n      <td>NaN</td>\n      <td>-0.011945</td>\n      <td>0.045961</td>\n      <td>-0.084172</td>\n      <td>1.000000</td>\n      <td>NaN</td>\n      <td>0.017127</td>\n      <td>0.317069</td>\n      <td>-0.003446</td>\n    </tr>\n    <tr>\n      <th>has_db_cmds</th>\n      <td>NaN</td>\n      <td>NaN</td>\n      <td>NaN</td>\n      <td>NaN</td>\n      <td>NaN</td>\n      <td>NaN</td>\n      <td>NaN</td>\n      <td>NaN</td>\n      <td>NaN</td>\n      <td>NaN</td>\n      <td>NaN</td>\n      <td>NaN</td>\n      <td>NaN</td>\n      <td>NaN</td>\n      <td>NaN</td>\n      <td>NaN</td>\n      <td>NaN</td>\n    </tr>\n    <tr>\n      <th>has_ssh_cmds</th>\n      <td>0.017942</td>\n      <td>-0.016682</td>\n      <td>0.143348</td>\n      <td>-0.018175</td>\n      <td>0.011035</td>\n      <td>-0.009157</td>\n      <td>0.005804</td>\n      <td>0.005804</td>\n      <td>NaN</td>\n      <td>-0.026949</td>\n      <td>-0.011589</td>\n      <td>0.079315</td>\n      <td>0.017127</td>\n      <td>NaN</td>\n      <td>1.000000</td>\n      <td>0.001804</td>\n      <td>0.190117</td>\n    </tr>\n    <tr>\n      <th>has_numerics_cmds</th>\n      <td>0.351530</td>\n      <td>-0.072231</td>\n      <td>0.230387</td>\n      <td>-0.024063</td>\n      <td>0.257994</td>\n      <td>0.189438</td>\n      <td>0.471993</td>\n      <td>0.471993</td>\n      <td>NaN</td>\n      <td>0.002935</td>\n      <td>-0.011480</td>\n      <td>0.230745</td>\n      <td>0.317069</td>\n      <td>NaN</td>\n      <td>0.001804</td>\n      <td>1.000000</td>\n      <td>0.080657</td>\n    </tr>\n    <tr>\n      <th>anomaly</th>\n      <td>0.119453</td>\n      <td>-0.099179</td>\n      <td>0.568771</td>\n      <td>-0.045283</td>\n      <td>-0.055210</td>\n      <td>0.080631</td>\n      <td>0.049610</td>\n      <td>0.049610</td>\n      <td>NaN</td>\n      <td>0.144612</td>\n      <td>-0.060959</td>\n      <td>0.128266</td>\n      <td>-0.003446</td>\n      <td>NaN</td>\n      <td>0.190117</td>\n      <td>0.080657</td>\n      <td>1.000000</td>\n    </tr>\n  </tbody>\n</table>\n</div>"
     },
     "execution_count": 9,
     "metadata": {},
     "output_type": "execute_result"
    }
   ],
   "source": [
    "corr"
   ],
   "metadata": {
    "collapsed": false
   }
  },
  {
   "cell_type": "code",
   "execution_count": 18,
   "outputs": [
    {
     "data": {
      "text/plain": "     unique_cmds  longest_same_cmd_sequence  cmds_not_in_train   \n0             15                         87                  0  \\\n1             34                         16                  0   \n2             34                         24                  0   \n3             22                         10                  0   \n4             48                         19                  0   \n..           ...                        ...                ...   \n995           15                         21                  0   \n996           15                         20                  0   \n997           15                         16                  0   \n998           23                         16                  0   \n999           19                         12                  0   \n\n     starts_with_dotfile_cmds  single_chars_cmds  two_chars_cmds   \n0                           0                  0               6  \\\n1                           0                  0               6   \n2                           1                  0               3   \n3                           0                  0               3   \n4                           0                  0               6   \n..                        ...                ...             ...   \n995                         0                  0               3   \n996                         0                  0               3   \n997                         0                  0               3   \n998                         0                  0               5   \n999                         0                  0               5   \n\n     three_chars_cmds  four_chars_cmds  ends_with_dot_cmds   \n0                   2                2                   0  \\\n1                   5                5                   0   \n2                   5                5                   0   \n3                   2                2                   0   \n4                   6                6                   0   \n..                ...              ...                 ...   \n995                 2                2                   0   \n996                 2                2                   0   \n997                 2                2                   0   \n998                 3                3                   0   \n999                 1                1                   0   \n\n     has_dot_in_middle_cmds  has_zip_cmds  has_mail_cmds  has_coding_cmds   \n0                         0             0              0                0  \\\n1                         0             0              3                0   \n2                         1             0              1                0   \n3                         0             0              2                0   \n4                         0             0              2                0   \n..                      ...           ...            ...              ...   \n995                       0             0              0                0   \n996                       0             0              0                0   \n997                       0             0              0                0   \n998                       0             0              1                0   \n999                       0             0              1                0   \n\n     has_db_cmds  has_ssh_cmds  has_numerics_cmds  anomaly  \n0              0             0                  0      0.0  \n1              0             0                  0      0.0  \n2              0             0                  1      0.0  \n3              0             0                  0      0.0  \n4              0             0                  2      0.0  \n..           ...           ...                ...      ...  \n995            0             0                  0      0.0  \n996            0             0                  0      0.0  \n997            0             0                  0      0.0  \n998            0             0                  0      0.0  \n999            0             0                  0      0.0  \n\n[1000 rows x 17 columns]",
      "text/html": "<div>\n<style scoped>\n    .dataframe tbody tr th:only-of-type {\n        vertical-align: middle;\n    }\n\n    .dataframe tbody tr th {\n        vertical-align: top;\n    }\n\n    .dataframe thead th {\n        text-align: right;\n    }\n</style>\n<table border=\"1\" class=\"dataframe\">\n  <thead>\n    <tr style=\"text-align: right;\">\n      <th></th>\n      <th>unique_cmds</th>\n      <th>longest_same_cmd_sequence</th>\n      <th>cmds_not_in_train</th>\n      <th>starts_with_dotfile_cmds</th>\n      <th>single_chars_cmds</th>\n      <th>two_chars_cmds</th>\n      <th>three_chars_cmds</th>\n      <th>four_chars_cmds</th>\n      <th>ends_with_dot_cmds</th>\n      <th>has_dot_in_middle_cmds</th>\n      <th>has_zip_cmds</th>\n      <th>has_mail_cmds</th>\n      <th>has_coding_cmds</th>\n      <th>has_db_cmds</th>\n      <th>has_ssh_cmds</th>\n      <th>has_numerics_cmds</th>\n      <th>anomaly</th>\n    </tr>\n  </thead>\n  <tbody>\n    <tr>\n      <th>0</th>\n      <td>15</td>\n      <td>87</td>\n      <td>0</td>\n      <td>0</td>\n      <td>0</td>\n      <td>6</td>\n      <td>2</td>\n      <td>2</td>\n      <td>0</td>\n      <td>0</td>\n      <td>0</td>\n      <td>0</td>\n      <td>0</td>\n      <td>0</td>\n      <td>0</td>\n      <td>0</td>\n      <td>0.0</td>\n    </tr>\n    <tr>\n      <th>1</th>\n      <td>34</td>\n      <td>16</td>\n      <td>0</td>\n      <td>0</td>\n      <td>0</td>\n      <td>6</td>\n      <td>5</td>\n      <td>5</td>\n      <td>0</td>\n      <td>0</td>\n      <td>0</td>\n      <td>3</td>\n      <td>0</td>\n      <td>0</td>\n      <td>0</td>\n      <td>0</td>\n      <td>0.0</td>\n    </tr>\n    <tr>\n      <th>2</th>\n      <td>34</td>\n      <td>24</td>\n      <td>0</td>\n      <td>1</td>\n      <td>0</td>\n      <td>3</td>\n      <td>5</td>\n      <td>5</td>\n      <td>0</td>\n      <td>1</td>\n      <td>0</td>\n      <td>1</td>\n      <td>0</td>\n      <td>0</td>\n      <td>0</td>\n      <td>1</td>\n      <td>0.0</td>\n    </tr>\n    <tr>\n      <th>3</th>\n      <td>22</td>\n      <td>10</td>\n      <td>0</td>\n      <td>0</td>\n      <td>0</td>\n      <td>3</td>\n      <td>2</td>\n      <td>2</td>\n      <td>0</td>\n      <td>0</td>\n      <td>0</td>\n      <td>2</td>\n      <td>0</td>\n      <td>0</td>\n      <td>0</td>\n      <td>0</td>\n      <td>0.0</td>\n    </tr>\n    <tr>\n      <th>4</th>\n      <td>48</td>\n      <td>19</td>\n      <td>0</td>\n      <td>0</td>\n      <td>0</td>\n      <td>6</td>\n      <td>6</td>\n      <td>6</td>\n      <td>0</td>\n      <td>0</td>\n      <td>0</td>\n      <td>2</td>\n      <td>0</td>\n      <td>0</td>\n      <td>0</td>\n      <td>2</td>\n      <td>0.0</td>\n    </tr>\n    <tr>\n      <th>...</th>\n      <td>...</td>\n      <td>...</td>\n      <td>...</td>\n      <td>...</td>\n      <td>...</td>\n      <td>...</td>\n      <td>...</td>\n      <td>...</td>\n      <td>...</td>\n      <td>...</td>\n      <td>...</td>\n      <td>...</td>\n      <td>...</td>\n      <td>...</td>\n      <td>...</td>\n      <td>...</td>\n      <td>...</td>\n    </tr>\n    <tr>\n      <th>995</th>\n      <td>15</td>\n      <td>21</td>\n      <td>0</td>\n      <td>0</td>\n      <td>0</td>\n      <td>3</td>\n      <td>2</td>\n      <td>2</td>\n      <td>0</td>\n      <td>0</td>\n      <td>0</td>\n      <td>0</td>\n      <td>0</td>\n      <td>0</td>\n      <td>0</td>\n      <td>0</td>\n      <td>0.0</td>\n    </tr>\n    <tr>\n      <th>996</th>\n      <td>15</td>\n      <td>20</td>\n      <td>0</td>\n      <td>0</td>\n      <td>0</td>\n      <td>3</td>\n      <td>2</td>\n      <td>2</td>\n      <td>0</td>\n      <td>0</td>\n      <td>0</td>\n      <td>0</td>\n      <td>0</td>\n      <td>0</td>\n      <td>0</td>\n      <td>0</td>\n      <td>0.0</td>\n    </tr>\n    <tr>\n      <th>997</th>\n      <td>15</td>\n      <td>16</td>\n      <td>0</td>\n      <td>0</td>\n      <td>0</td>\n      <td>3</td>\n      <td>2</td>\n      <td>2</td>\n      <td>0</td>\n      <td>0</td>\n      <td>0</td>\n      <td>0</td>\n      <td>0</td>\n      <td>0</td>\n      <td>0</td>\n      <td>0</td>\n      <td>0.0</td>\n    </tr>\n    <tr>\n      <th>998</th>\n      <td>23</td>\n      <td>16</td>\n      <td>0</td>\n      <td>0</td>\n      <td>0</td>\n      <td>5</td>\n      <td>3</td>\n      <td>3</td>\n      <td>0</td>\n      <td>0</td>\n      <td>0</td>\n      <td>1</td>\n      <td>0</td>\n      <td>0</td>\n      <td>0</td>\n      <td>0</td>\n      <td>0.0</td>\n    </tr>\n    <tr>\n      <th>999</th>\n      <td>19</td>\n      <td>12</td>\n      <td>0</td>\n      <td>0</td>\n      <td>0</td>\n      <td>5</td>\n      <td>1</td>\n      <td>1</td>\n      <td>0</td>\n      <td>0</td>\n      <td>0</td>\n      <td>1</td>\n      <td>0</td>\n      <td>0</td>\n      <td>0</td>\n      <td>0</td>\n      <td>0.0</td>\n    </tr>\n  </tbody>\n</table>\n<p>1000 rows × 17 columns</p>\n</div>"
     },
     "execution_count": 18,
     "metadata": {},
     "output_type": "execute_result"
    }
   ],
   "source": [],
   "metadata": {
    "collapsed": false
   }
  },
  {
   "cell_type": "code",
   "execution_count": 10,
   "outputs": [],
   "source": [
    "# import plotly.express as px\n",
    "# fig = px.imshow(corr)\n",
    "# fig.show()"
   ],
   "metadata": {
    "collapsed": false
   }
  },
  {
   "cell_type": "code",
   "execution_count": 11,
   "metadata": {},
   "outputs": [
    {
     "name": "stderr",
     "output_type": "stream",
     "text": [
      "100%|██████████| 10/10 [00:00<00:00, 27.35it/s]\n"
     ]
    }
   ],
   "source": [
    "''' first outlier detection algo '''\n",
    "import itertools\n",
    "from sklearn.neighbors import LocalOutlierFactor\n",
    "from sklearn.metrics import precision_score, recall_score\n",
    "from eval.metrics import detection_metrics\n",
    "\n",
    "\n",
    "user_scores = {}\n",
    "\n",
    "for user_id in tqdm.tqdm(user_list):\n",
    "\n",
    "    anomaly_ground_truth = user_data[user_id].user_anomaly_gt.values.astype(int) # test set only\n",
    "    anomaly_ground_truth = np.array([1 if x == 0 else -1 for x in anomaly_ground_truth])\n",
    "\n",
    "    #   each detector is trained per user\n",
    "    detector = LocalOutlierFactor(novelty=True, leaf_size=5)\n",
    "\n",
    "    dummy_user_train_data = pd.get_dummies(user_data[user_id].segment_df_train)\n",
    "    dummy_user_test_data = pd.get_dummies(user_data[user_id].segment_df_test)\n",
    "\n",
    "    detector.fit(dummy_user_train_data)\n",
    "\n",
    "    predicted_anomalies = detector.predict(dummy_user_test_data)\n",
    "\n",
    "    user_scores[user_id] = detection_metrics(predicted_anomalies, anomaly_ground_truth)\n",
    "\n",
    "overall_scores = {}\n",
    "for score_type in [\"detection_score\" ,\"precision_score\", \"recall_score\"]:\n",
    "    overall_scores[score_type] = np.mean([user_scores[user_id][score_type] for user_id in user_list])"
   ]
  },
  {
   "cell_type": "code",
   "execution_count": 16,
   "outputs": [
    {
     "data": {
      "text/plain": "{'detection_score': 0.37,\n 'precision_score': 0.8321000000000002,\n 'recall_score': 0.9267}"
     },
     "execution_count": 16,
     "metadata": {},
     "output_type": "execute_result"
    }
   ],
   "source": [
    "overall_scores"
   ],
   "metadata": {
    "collapsed": false
   }
  },
  {
   "cell_type": "code",
   "execution_count": 12,
   "outputs": [],
   "source": [],
   "metadata": {
    "collapsed": false
   }
  },
  {
   "cell_type": "code",
   "execution_count": 13,
   "metadata": {},
   "outputs": [],
   "source": [
    "# from umap import UMAP\n",
    "#\n",
    "# reducer = UMAP()\n",
    "# S_train_low_dim = reducer.fit_transform(train_feature_df)\n",
    "# S_dev_low_dim = reducer.transform(dev_feature_df)"
   ]
  },
  {
   "cell_type": "code",
   "execution_count": 14,
   "outputs": [],
   "source": [
    "# detector = LocalOutlierFactor(novelty=True)\n",
    "#\n",
    "# detector.fit(S_train_low_dim)\n",
    "#\n",
    "# low_dim_predicted_anomalies = detector.predict(S_dev_low_dim)"
   ],
   "metadata": {
    "collapsed": false
   }
  },
  {
   "cell_type": "code",
   "execution_count": 15,
   "metadata": {},
   "outputs": [
    {
     "ename": "NameError",
     "evalue": "name 'S_train_low_dim' is not defined",
     "output_type": "error",
     "traceback": [
      "\u001B[0;31m---------------------------------------------------------------------------\u001B[0m",
      "\u001B[0;31mNameError\u001B[0m                                 Traceback (most recent call last)",
      "Cell \u001B[0;32mIn[15], line 4\u001B[0m\n\u001B[1;32m      1\u001B[0m \u001B[38;5;28;01mimport\u001B[39;00m \u001B[38;5;21;01mplotly\u001B[39;00m\u001B[38;5;21;01m.\u001B[39;00m\u001B[38;5;21;01mexpress\u001B[39;00m \u001B[38;5;28;01mas\u001B[39;00m \u001B[38;5;21;01mpx\u001B[39;00m\n\u001B[1;32m      3\u001B[0m viz_df_train \u001B[38;5;241m=\u001B[39m pd\u001B[38;5;241m.\u001B[39mDataFrame({\n\u001B[0;32m----> 4\u001B[0m     \u001B[38;5;124m\"\u001B[39m\u001B[38;5;124mx\u001B[39m\u001B[38;5;124m\"\u001B[39m: \u001B[43mS_train_low_dim\u001B[49m[:, \u001B[38;5;241m0\u001B[39m],\n\u001B[1;32m      5\u001B[0m     \u001B[38;5;124m\"\u001B[39m\u001B[38;5;124my\u001B[39m\u001B[38;5;124m\"\u001B[39m: S_train_low_dim[:, \u001B[38;5;241m1\u001B[39m],\n\u001B[1;32m      6\u001B[0m     \u001B[38;5;124m\"\u001B[39m\u001B[38;5;124muser\u001B[39m\u001B[38;5;124m\"\u001B[39m: TRAIN_SEGMENT_COUNT \u001B[38;5;241m*\u001B[39m [user_id],\n\u001B[1;32m      7\u001B[0m     \u001B[38;5;124m\"\u001B[39m\u001B[38;5;124mset\u001B[39m\u001B[38;5;124m\"\u001B[39m: TRAIN_SEGMENT_COUNT \u001B[38;5;241m*\u001B[39m [\u001B[38;5;124m\"\u001B[39m\u001B[38;5;124mtrain\u001B[39m\u001B[38;5;124m\"\u001B[39m]\n\u001B[1;32m      8\u001B[0m })\n\u001B[1;32m     10\u001B[0m viz_df_test \u001B[38;5;241m=\u001B[39m pd\u001B[38;5;241m.\u001B[39mDataFrame({\n\u001B[1;32m     11\u001B[0m     \u001B[38;5;124m\"\u001B[39m\u001B[38;5;124mx\u001B[39m\u001B[38;5;124m\"\u001B[39m: S_dev_low_dim[:, \u001B[38;5;241m0\u001B[39m],\n\u001B[1;32m     12\u001B[0m     \u001B[38;5;124m\"\u001B[39m\u001B[38;5;124my\u001B[39m\u001B[38;5;124m\"\u001B[39m: S_dev_low_dim[:, \u001B[38;5;241m1\u001B[39m],\n\u001B[1;32m     13\u001B[0m     \u001B[38;5;124m\"\u001B[39m\u001B[38;5;124muser\u001B[39m\u001B[38;5;124m\"\u001B[39m: TEST_SEGMENT_COUNT \u001B[38;5;241m*\u001B[39m [user_id],\n\u001B[1;32m     14\u001B[0m     \u001B[38;5;124m\"\u001B[39m\u001B[38;5;124mset\u001B[39m\u001B[38;5;124m\"\u001B[39m: TEST_SEGMENT_COUNT \u001B[38;5;241m*\u001B[39m [\u001B[38;5;124m\"\u001B[39m\u001B[38;5;124mtest\u001B[39m\u001B[38;5;124m\"\u001B[39m]\n\u001B[1;32m     15\u001B[0m })\n\u001B[1;32m     18\u001B[0m viz_df \u001B[38;5;241m=\u001B[39m pd\u001B[38;5;241m.\u001B[39mconcat([viz_df_train, viz_df_test], axis\u001B[38;5;241m=\u001B[39m\u001B[38;5;241m0\u001B[39m)\n",
      "\u001B[0;31mNameError\u001B[0m: name 'S_train_low_dim' is not defined"
     ]
    }
   ],
   "source": [
    "\n",
    "import plotly.express as px\n",
    "\n",
    "viz_df_train = pd.DataFrame({\n",
    "    \"x\": S_train_low_dim[:, 0],\n",
    "    \"y\": S_train_low_dim[:, 1],\n",
    "    \"user\": TRAIN_SEGMENT_COUNT * [user_id],\n",
    "    \"set\": TRAIN_SEGMENT_COUNT * [\"train\"]\n",
    "})\n",
    "\n",
    "viz_df_test = pd.DataFrame({\n",
    "    \"x\": S_dev_low_dim[:, 0],\n",
    "    \"y\": S_dev_low_dim[:, 1],\n",
    "    \"user\": TEST_SEGMENT_COUNT * [user_id],\n",
    "    \"set\": TEST_SEGMENT_COUNT * [\"test\"]\n",
    "})\n",
    "\n",
    "\n",
    "viz_df = pd.concat([viz_df_train, viz_df_test], axis=0)\n",
    "viz_df[\"anomaly\"] = gt_df.T[user_id].values\n",
    "viz_df[\"anomaly\"] = viz_df[\"anomaly\"].astype(int)\n"
   ]
  },
  {
   "cell_type": "code",
   "execution_count": null,
   "metadata": {},
   "outputs": [],
   "source": [
    "# import plotly.io as pio\n",
    "# pio.renderers.default='notebook'\n",
    "#\n",
    "px.scatter(viz_df, x=\"x\", y=\"y\", color=\"anomaly\")"
   ]
  }
 ],
 "metadata": {
  "kernelspec": {
   "display_name": "Python 3 (ipykernel)",
   "language": "python",
   "name": "python3"
  },
  "language_info": {
   "codemirror_mode": {
    "name": "ipython",
    "version": 3
   },
   "file_extension": ".py",
   "mimetype": "text/x-python",
   "name": "python",
   "nbconvert_exporter": "python",
   "pygments_lexer": "ipython3",
   "version": "3.9.5"
  }
 },
 "nbformat": 4,
 "nbformat_minor": 1
}
