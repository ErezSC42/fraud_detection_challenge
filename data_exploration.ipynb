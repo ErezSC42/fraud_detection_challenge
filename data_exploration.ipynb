{
 "cells": [
  {
   "cell_type": "code",
   "execution_count": 1,
   "metadata": {
    "collapsed": true,
    "ExecuteTime": {
     "end_time": "2023-04-29T14:19:03.676441943Z",
     "start_time": "2023-04-29T14:19:03.619599874Z"
    }
   },
   "outputs": [],
   "source": [
    "import warnings\n",
    "\n",
    "\n",
    "warnings.filterwarnings(action=\"ignore\")\n",
    "\n",
    "\n",
    "import os\n",
    "import numpy as np\n",
    "import pandas as pd\n",
    "from typing import Tuple, List, Dict, Any\n",
    "\n",
    "\n",
    "SEGMENT_LEN = 100\n",
    "TRAIN_HEADER_COUNT = 5000\n",
    "TEST_HEADER_COUNT = 10000\n",
    "\n",
    "TRAIN_SEGMENT_COUNT = TRAIN_HEADER_COUNT // SEGMENT_LEN\n",
    "TEST_SEGMENT_COUNT = TEST_HEADER_COUNT // SEGMENT_LEN\n",
    "\n",
    "\n",
    "# 90 of the test segments are genuine (i.e., benign) and 10 segments are entered bya masquerader (randomly sorted)."
   ]
  },
  {
   "cell_type": "code",
   "execution_count": 2,
   "outputs": [],
   "source": [
    "#   load answer for classifcation\n",
    "gt_df = pd.read_csv(\"challengeToFill.csv\", index_col=0)\n",
    "gt_df.T[TRAIN_SEGMENT_COUNT:]\n",
    "\n",
    "DEV_USERS_COUNT = 10\n",
    "\n",
    "dev_set_df = gt_df.T.iloc[TRAIN_SEGMENT_COUNT:, :DEV_USERS_COUNT]"
   ],
   "metadata": {
    "collapsed": false,
    "ExecuteTime": {
     "end_time": "2023-04-29T15:26:27.593458622Z",
     "start_time": "2023-04-29T15:26:27.558957345Z"
    }
   }
  },
  {
   "cell_type": "code",
   "execution_count": 3,
   "outputs": [],
   "source": [
    "def evaluate_user_results(pred_series: pd.Series, true_series: pd.Series):\n",
    "    ''' evaluate the classification result of a single user '''\n",
    "    assert len(pred_series) == len(true_series)\n",
    "    assert pred_series.name == true_series.name\n",
    "\n",
    "    equal_series = pred_series == true_series\n",
    "    return equal_series.mean()"
   ],
   "metadata": {
    "collapsed": false
   }
  },
  {
   "cell_type": "code",
   "execution_count": 3,
   "outputs": [],
   "source": [],
   "metadata": {
    "collapsed": false
   }
  },
  {
   "cell_type": "code",
   "execution_count": 4,
   "outputs": [],
   "source": [
    "def user_list_to_df(user_id: str, user_data_list: List[str]):\n",
    "    df_user = pd.DataFrame({\n",
    "        \"cmd\": user_data_list\n",
    "    })\n",
    "    df_user[\"user\"] = user_id\n",
    "    df_user[\"split\"] = \"train\"\n",
    "    df_user[\"segment_id\"] = np.repeat(range(0, int(len(user_data_list) / SEGMENT_LEN)), SEGMENT_LEN)\n",
    "    df_user[\"cmd\"] = df_user[\"cmd\"].astype(\"category\")\n",
    "    return df_user\n",
    "\n",
    "\n",
    "def load_user_data(user_id: str, file_path: os.PathLike) -> Tuple[pd.DataFrame, pd.DataFrame]:\n",
    "    with open(file_path, \"r\") as fp:\n",
    "        user_data = fp.readlines()\n",
    "        user_data = [s.strip() for s in user_data]\n",
    "\n",
    "    # get training data:\n",
    "    train_user_data = user_data[:TRAIN_HEADER_COUNT]\n",
    "    test_user_data = user_data[TRAIN_HEADER_COUNT:]\n",
    "\n",
    "    # convert to dataframes\n",
    "    train_segments = user_list_to_df(user_id, train_user_data)\n",
    "    test_segments = user_list_to_df(user_id, test_user_data)\n",
    "\n",
    "    return train_segments, test_segments\n"
   ],
   "metadata": {
    "collapsed": false,
    "ExecuteTime": {
     "end_time": "2023-04-29T14:19:03.677122723Z",
     "start_time": "2023-04-29T14:19:03.668204554Z"
    }
   }
  },
  {
   "cell_type": "code",
   "execution_count": 5,
   "outputs": [],
   "source": [
    "''' load all user data '''\n",
    "\n",
    "user_id = \"User0\"\n",
    "user_file_path = os.path.join(\"data\", user_id)\n",
    "\n",
    "df_user0_train, df_user0_test = load_user_data(user_id, user_file_path)\n",
    "\n",
    "''' all commands '''\n",
    "\n",
    "user_cmd_set_train = set(df_user0_train[\"cmd\"].unique())\n",
    "user_cmd_set_test = set(df_user0_test[\"cmd\"].unique())\n",
    "\n",
    "user_cmd_set = user_cmd_set_test.union(user_cmd_set_train)"
   ],
   "metadata": {
    "collapsed": false,
    "ExecuteTime": {
     "end_time": "2023-04-29T14:19:03.677431798Z",
     "start_time": "2023-04-29T14:19:03.668482120Z"
    }
   }
  },
  {
   "cell_type": "code",
   "execution_count": 6,
   "outputs": [
    {
     "data": {
      "text/plain": "{'MediaMai',\n 'as1',\n 'bc',\n 'cfe',\n 'convert',\n 'deroff',\n 'df',\n 'driver',\n 'du',\n 'enscript',\n 'ex',\n 'finger',\n 'frm',\n 'hpost',\n 'imake',\n 'jot',\n 'ld_',\n 'mail',\n 'make',\n 'postprin',\n 'ppost',\n 'ps',\n 'ps2pdf',\n 'rcp',\n 'rsh',\n 'scheme',\n 'sgihelp',\n 'sleep',\n 'sort',\n 'spell',\n 'tcsh',\n 'tput',\n 'ugen',\n 'unzip',\n 'uudecode',\n 'uuencode',\n 'whereis',\n 'who',\n 'whois',\n 'xdvi',\n 'xdvi.rea',\n 'xemacs-1',\n 'xmkmf',\n 'xpaint'}"
     },
     "execution_count": 6,
     "metadata": {},
     "output_type": "execute_result"
    }
   ],
   "source": [
    "user_cmd_set_test.difference(user_cmd_set_train)"
   ],
   "metadata": {
    "collapsed": false,
    "ExecuteTime": {
     "end_time": "2023-04-29T14:19:03.678292689Z",
     "start_time": "2023-04-29T14:19:03.668758714Z"
    }
   }
  },
  {
   "cell_type": "code",
   "execution_count": 7,
   "outputs": [],
   "source": [
    "cmd_map_code = {c: i for i, c in enumerate(user_cmd_set)}\n",
    "\n",
    "df_user0_train[\"cmd_code\"] = df_user0_train[\"cmd\"].map(cmd_map_code).astype(int)\n",
    "df_user0_test[\"cmd_code\"] = df_user0_test[\"cmd\"].map(cmd_map_code).astype(int)"
   ],
   "metadata": {
    "collapsed": false,
    "ExecuteTime": {
     "end_time": "2023-04-29T14:19:03.678587368Z",
     "start_time": "2023-04-29T14:19:03.669071366Z"
    }
   }
  },
  {
   "cell_type": "code",
   "execution_count": 8,
   "outputs": [],
   "source": [
    "def build_segment_features(user_data_df: pd.DataFrame, segment_id: int) -> Dict[str, Any]:\n",
    "\n",
    "    '''\n",
    "    build features per segment:\n",
    "        1.  V - cmd that has been used the most\n",
    "        2.  X - cmd that has been used the least\n",
    "        3.  X - count of cmd that has been used the most\n",
    "        4.  V - len of longest sequence of same cmds\n",
    "        5.  X - has zip/compression cmds\n",
    "        6.  X - has encryption cmds\n",
    "        7.  X - has networking cmds\n",
    "        8.  V - count distinct of cmds\n",
    "        9.  V - first cmd\n",
    "        10. V - last cmd\n",
    "        11. X - has command that user never used in training\n",
    "    '''\n",
    "\n",
    "    segment_features = {}\n",
    "\n",
    "    segment_df = user_data_df[user_data_df[\"segment_id\"] == segment_id]\n",
    "    segment_cmd_value_counts = segment_df[\"cmd\"].value_counts().to_dict()\n",
    "    segment_df[\"cmd_count\"] = segment_df[\"cmd\"].map(segment_cmd_value_counts)\n",
    "\n",
    "    # features\n",
    "    segment_features[\"cmd_most_used\"] = next(iter(segment_cmd_value_counts))\n",
    "    segment_features[\"first_cmd\"] = segment_df[\"cmd\"].iloc[0]\n",
    "    segment_features[\"last_cmd\"] = segment_df[\"cmd\"].iloc[SEGMENT_LEN - 1]\n",
    "    segment_features[\"unique_cmds\"] = len(segment_df[\"cmd\"].unique())\n",
    "\n",
    "    # longest subsequence of same commands\n",
    "    s = segment_df[\"cmd_code\"].diff().astype(bool)\n",
    "    segment_features[\"longest_same_cmd_sequence\"] = (~s).cumsum()[s].value_counts().max()  # TODO - there is a bug here, getting 100s\n",
    "\n",
    "    return segment_features\n",
    "\n"
   ],
   "metadata": {
    "collapsed": false,
    "ExecuteTime": {
     "end_time": "2023-04-29T14:19:03.678842672Z",
     "start_time": "2023-04-29T14:19:03.669475733Z"
    }
   }
  },
  {
   "cell_type": "code",
   "execution_count": 9,
   "outputs": [],
   "source": [
    "train_segment_features_list = []\n",
    "test_segment_features_list = []\n",
    "\n",
    "for i in range(TRAIN_SEGMENT_COUNT):\n",
    "    train_segment_features_list.append(build_segment_features(df_user0_train, i))\n",
    "\n",
    "for i in range(TEST_SEGMENT_COUNT - 1):\n",
    "    test_segment_features_list.append(build_segment_features(df_user0_test, i))"
   ],
   "metadata": {
    "collapsed": false,
    "ExecuteTime": {
     "end_time": "2023-04-29T14:19:03.913351387Z",
     "start_time": "2023-04-29T14:19:03.676969262Z"
    }
   }
  },
  {
   "cell_type": "code",
   "execution_count": 10,
   "outputs": [],
   "source": [
    "segment_df_train = pd.DataFrame.from_records(train_segment_features_list)\n",
    "segment_df_test = pd.DataFrame.from_records(test_segment_features_list)"
   ],
   "metadata": {
    "collapsed": false,
    "ExecuteTime": {
     "end_time": "2023-04-29T14:19:03.958913502Z",
     "start_time": "2023-04-29T14:19:03.915076817Z"
    }
   }
  },
  {
   "cell_type": "code",
   "execution_count": 11,
   "outputs": [
    {
     "data": {
      "text/plain": "   cmd_most_used first_cmd  last_cmd  unique_cmds  longest_same_cmd_sequence\n0             sh       cat        sh           18                          8\n1          uname     xgvis     uname           18                         10\n2            ksh     uname     uname           29                         28\n3             sh     mywsh  Slmclien           24                          7\n4            sed       led      more           24                         11\n5             ls        ul     xgvis           34                          9\n6             sh        sh        sh           22                         13\n7             sh        sh       sed           22                         17\n8             sh      help      less           15                         17\n9             sh        rm       sed           13                         12\n10            sh        sh        sh           15                         11\n11            sh  sendmail       ksh           35                         16\n12       generic        sh      post           31                         27\n13       generic       awk        ls           24                         15\n14       generic       sed   generic           12                         18\n15       generic      date      LOCK           31                         19\n16            sh  movemail      date           41                         15\n17            sh   generic        sh           28                         23\n18            sh        sh      echo           26                          8\n19            sh  .xsessio     which           28                         18\n20            sh       ksh  sendmail           26                         13\n21            sh     uname    whoami           24                         15\n22      movemail       ksh  sendmail           29                         21\n23           ksh  movemail       ksh            9                         46\n24           ksh        gs  sendmail           14                         61\n25      movemail  sendmail        gs           15                         12\n26      movemail        ln     uname           18                          9\n27         uname     uname        ls           26                         18\n28            sh  movemail     egrep           21                         18\n29            sh       sed       sed           15                         15\n30            sh        sh      grep           29                          9\n31           ksh      find     uname           12                         54\n32           ksh       pwd        ls            9                         21\n33            gs  netscape     troff           15                          9\n34           ksh       sed       ksh           15                         15\n35            sh        sh       sed           35                         17\n36            sh        sh        sh            8                          8\n37            sh        sh  movemail            9                          6\n38            sh  movemail  Slmhelpe           28                         18\n39      movemail        sh       ksh           19                          8\n40          echo       ksh      more           33                         16\n41           ksh        ls       ftp           27                         10\n42           ksh       ksh      gzip           22                         16\n43           ksh  movemail      echo           29                         20\n44            sh       ksh  movemail           27                         18\n45            ls    whoami        ln           21                         14\n46         dvips    virtex        gs            5                        100\n47      sendmail  movemail      echo           29                         16\n48         touch       ksh     touch           11                        100\n49          grep     chmod       sed           16                         66",
      "text/html": "<div>\n<style scoped>\n    .dataframe tbody tr th:only-of-type {\n        vertical-align: middle;\n    }\n\n    .dataframe tbody tr th {\n        vertical-align: top;\n    }\n\n    .dataframe thead th {\n        text-align: right;\n    }\n</style>\n<table border=\"1\" class=\"dataframe\">\n  <thead>\n    <tr style=\"text-align: right;\">\n      <th></th>\n      <th>cmd_most_used</th>\n      <th>first_cmd</th>\n      <th>last_cmd</th>\n      <th>unique_cmds</th>\n      <th>longest_same_cmd_sequence</th>\n    </tr>\n  </thead>\n  <tbody>\n    <tr>\n      <th>0</th>\n      <td>sh</td>\n      <td>cat</td>\n      <td>sh</td>\n      <td>18</td>\n      <td>8</td>\n    </tr>\n    <tr>\n      <th>1</th>\n      <td>uname</td>\n      <td>xgvis</td>\n      <td>uname</td>\n      <td>18</td>\n      <td>10</td>\n    </tr>\n    <tr>\n      <th>2</th>\n      <td>ksh</td>\n      <td>uname</td>\n      <td>uname</td>\n      <td>29</td>\n      <td>28</td>\n    </tr>\n    <tr>\n      <th>3</th>\n      <td>sh</td>\n      <td>mywsh</td>\n      <td>Slmclien</td>\n      <td>24</td>\n      <td>7</td>\n    </tr>\n    <tr>\n      <th>4</th>\n      <td>sed</td>\n      <td>led</td>\n      <td>more</td>\n      <td>24</td>\n      <td>11</td>\n    </tr>\n    <tr>\n      <th>5</th>\n      <td>ls</td>\n      <td>ul</td>\n      <td>xgvis</td>\n      <td>34</td>\n      <td>9</td>\n    </tr>\n    <tr>\n      <th>6</th>\n      <td>sh</td>\n      <td>sh</td>\n      <td>sh</td>\n      <td>22</td>\n      <td>13</td>\n    </tr>\n    <tr>\n      <th>7</th>\n      <td>sh</td>\n      <td>sh</td>\n      <td>sed</td>\n      <td>22</td>\n      <td>17</td>\n    </tr>\n    <tr>\n      <th>8</th>\n      <td>sh</td>\n      <td>help</td>\n      <td>less</td>\n      <td>15</td>\n      <td>17</td>\n    </tr>\n    <tr>\n      <th>9</th>\n      <td>sh</td>\n      <td>rm</td>\n      <td>sed</td>\n      <td>13</td>\n      <td>12</td>\n    </tr>\n    <tr>\n      <th>10</th>\n      <td>sh</td>\n      <td>sh</td>\n      <td>sh</td>\n      <td>15</td>\n      <td>11</td>\n    </tr>\n    <tr>\n      <th>11</th>\n      <td>sh</td>\n      <td>sendmail</td>\n      <td>ksh</td>\n      <td>35</td>\n      <td>16</td>\n    </tr>\n    <tr>\n      <th>12</th>\n      <td>generic</td>\n      <td>sh</td>\n      <td>post</td>\n      <td>31</td>\n      <td>27</td>\n    </tr>\n    <tr>\n      <th>13</th>\n      <td>generic</td>\n      <td>awk</td>\n      <td>ls</td>\n      <td>24</td>\n      <td>15</td>\n    </tr>\n    <tr>\n      <th>14</th>\n      <td>generic</td>\n      <td>sed</td>\n      <td>generic</td>\n      <td>12</td>\n      <td>18</td>\n    </tr>\n    <tr>\n      <th>15</th>\n      <td>generic</td>\n      <td>date</td>\n      <td>LOCK</td>\n      <td>31</td>\n      <td>19</td>\n    </tr>\n    <tr>\n      <th>16</th>\n      <td>sh</td>\n      <td>movemail</td>\n      <td>date</td>\n      <td>41</td>\n      <td>15</td>\n    </tr>\n    <tr>\n      <th>17</th>\n      <td>sh</td>\n      <td>generic</td>\n      <td>sh</td>\n      <td>28</td>\n      <td>23</td>\n    </tr>\n    <tr>\n      <th>18</th>\n      <td>sh</td>\n      <td>sh</td>\n      <td>echo</td>\n      <td>26</td>\n      <td>8</td>\n    </tr>\n    <tr>\n      <th>19</th>\n      <td>sh</td>\n      <td>.xsessio</td>\n      <td>which</td>\n      <td>28</td>\n      <td>18</td>\n    </tr>\n    <tr>\n      <th>20</th>\n      <td>sh</td>\n      <td>ksh</td>\n      <td>sendmail</td>\n      <td>26</td>\n      <td>13</td>\n    </tr>\n    <tr>\n      <th>21</th>\n      <td>sh</td>\n      <td>uname</td>\n      <td>whoami</td>\n      <td>24</td>\n      <td>15</td>\n    </tr>\n    <tr>\n      <th>22</th>\n      <td>movemail</td>\n      <td>ksh</td>\n      <td>sendmail</td>\n      <td>29</td>\n      <td>21</td>\n    </tr>\n    <tr>\n      <th>23</th>\n      <td>ksh</td>\n      <td>movemail</td>\n      <td>ksh</td>\n      <td>9</td>\n      <td>46</td>\n    </tr>\n    <tr>\n      <th>24</th>\n      <td>ksh</td>\n      <td>gs</td>\n      <td>sendmail</td>\n      <td>14</td>\n      <td>61</td>\n    </tr>\n    <tr>\n      <th>25</th>\n      <td>movemail</td>\n      <td>sendmail</td>\n      <td>gs</td>\n      <td>15</td>\n      <td>12</td>\n    </tr>\n    <tr>\n      <th>26</th>\n      <td>movemail</td>\n      <td>ln</td>\n      <td>uname</td>\n      <td>18</td>\n      <td>9</td>\n    </tr>\n    <tr>\n      <th>27</th>\n      <td>uname</td>\n      <td>uname</td>\n      <td>ls</td>\n      <td>26</td>\n      <td>18</td>\n    </tr>\n    <tr>\n      <th>28</th>\n      <td>sh</td>\n      <td>movemail</td>\n      <td>egrep</td>\n      <td>21</td>\n      <td>18</td>\n    </tr>\n    <tr>\n      <th>29</th>\n      <td>sh</td>\n      <td>sed</td>\n      <td>sed</td>\n      <td>15</td>\n      <td>15</td>\n    </tr>\n    <tr>\n      <th>30</th>\n      <td>sh</td>\n      <td>sh</td>\n      <td>grep</td>\n      <td>29</td>\n      <td>9</td>\n    </tr>\n    <tr>\n      <th>31</th>\n      <td>ksh</td>\n      <td>find</td>\n      <td>uname</td>\n      <td>12</td>\n      <td>54</td>\n    </tr>\n    <tr>\n      <th>32</th>\n      <td>ksh</td>\n      <td>pwd</td>\n      <td>ls</td>\n      <td>9</td>\n      <td>21</td>\n    </tr>\n    <tr>\n      <th>33</th>\n      <td>gs</td>\n      <td>netscape</td>\n      <td>troff</td>\n      <td>15</td>\n      <td>9</td>\n    </tr>\n    <tr>\n      <th>34</th>\n      <td>ksh</td>\n      <td>sed</td>\n      <td>ksh</td>\n      <td>15</td>\n      <td>15</td>\n    </tr>\n    <tr>\n      <th>35</th>\n      <td>sh</td>\n      <td>sh</td>\n      <td>sed</td>\n      <td>35</td>\n      <td>17</td>\n    </tr>\n    <tr>\n      <th>36</th>\n      <td>sh</td>\n      <td>sh</td>\n      <td>sh</td>\n      <td>8</td>\n      <td>8</td>\n    </tr>\n    <tr>\n      <th>37</th>\n      <td>sh</td>\n      <td>sh</td>\n      <td>movemail</td>\n      <td>9</td>\n      <td>6</td>\n    </tr>\n    <tr>\n      <th>38</th>\n      <td>sh</td>\n      <td>movemail</td>\n      <td>Slmhelpe</td>\n      <td>28</td>\n      <td>18</td>\n    </tr>\n    <tr>\n      <th>39</th>\n      <td>movemail</td>\n      <td>sh</td>\n      <td>ksh</td>\n      <td>19</td>\n      <td>8</td>\n    </tr>\n    <tr>\n      <th>40</th>\n      <td>echo</td>\n      <td>ksh</td>\n      <td>more</td>\n      <td>33</td>\n      <td>16</td>\n    </tr>\n    <tr>\n      <th>41</th>\n      <td>ksh</td>\n      <td>ls</td>\n      <td>ftp</td>\n      <td>27</td>\n      <td>10</td>\n    </tr>\n    <tr>\n      <th>42</th>\n      <td>ksh</td>\n      <td>ksh</td>\n      <td>gzip</td>\n      <td>22</td>\n      <td>16</td>\n    </tr>\n    <tr>\n      <th>43</th>\n      <td>ksh</td>\n      <td>movemail</td>\n      <td>echo</td>\n      <td>29</td>\n      <td>20</td>\n    </tr>\n    <tr>\n      <th>44</th>\n      <td>sh</td>\n      <td>ksh</td>\n      <td>movemail</td>\n      <td>27</td>\n      <td>18</td>\n    </tr>\n    <tr>\n      <th>45</th>\n      <td>ls</td>\n      <td>whoami</td>\n      <td>ln</td>\n      <td>21</td>\n      <td>14</td>\n    </tr>\n    <tr>\n      <th>46</th>\n      <td>dvips</td>\n      <td>virtex</td>\n      <td>gs</td>\n      <td>5</td>\n      <td>100</td>\n    </tr>\n    <tr>\n      <th>47</th>\n      <td>sendmail</td>\n      <td>movemail</td>\n      <td>echo</td>\n      <td>29</td>\n      <td>16</td>\n    </tr>\n    <tr>\n      <th>48</th>\n      <td>touch</td>\n      <td>ksh</td>\n      <td>touch</td>\n      <td>11</td>\n      <td>100</td>\n    </tr>\n    <tr>\n      <th>49</th>\n      <td>grep</td>\n      <td>chmod</td>\n      <td>sed</td>\n      <td>16</td>\n      <td>66</td>\n    </tr>\n  </tbody>\n</table>\n</div>"
     },
     "execution_count": 11,
     "metadata": {},
     "output_type": "execute_result"
    }
   ],
   "source": [
    "segment_df_train"
   ],
   "metadata": {
    "collapsed": false
   }
  },
  {
   "cell_type": "code",
   "execution_count": 12,
   "outputs": [],
   "source": [
    "train_feature_df = pd.get_dummies(segment_df_train, columns=[\"cmd_most_used\" ,\"first_cmd\", \"last_cmd\"], prefix=\"is\" ,dtype=float)\n",
    "dev_feature_df = pd.get_dummies(segment_df_test, columns=[\"cmd_most_used\" ,\"first_cmd\", \"last_cmd\"], prefix=\"is\" ,dtype=float)"
   ],
   "metadata": {
    "collapsed": false,
    "ExecuteTime": {
     "end_time": "2023-04-29T14:19:03.966805256Z",
     "start_time": "2023-04-29T14:19:03.959297740Z"
    }
   }
  },
  {
   "cell_type": "code",
   "execution_count": 13,
   "outputs": [
    {
     "ename": "InvalidIndexError",
     "evalue": "Reindexing only valid with uniquely valued Index objects",
     "output_type": "error",
     "traceback": [
      "\u001B[0;31m---------------------------------------------------------------------------\u001B[0m",
      "\u001B[0;31mInvalidIndexError\u001B[0m                         Traceback (most recent call last)",
      "Cell \u001B[0;32mIn[13], line 3\u001B[0m\n\u001B[1;32m      1\u001B[0m \u001B[38;5;28;01mimport\u001B[39;00m \u001B[38;5;21;01mnumpy\u001B[39;00m \u001B[38;5;28;01mas\u001B[39;00m \u001B[38;5;21;01mnp\u001B[39;00m\n\u001B[0;32m----> 3\u001B[0m S, V, F \u001B[38;5;241m=\u001B[39m np\u001B[38;5;241m.\u001B[39mlinalg\u001B[38;5;241m.\u001B[39msvd(\u001B[43mpd\u001B[49m\u001B[38;5;241;43m.\u001B[39;49m\u001B[43mconcat\u001B[49m\u001B[43m(\u001B[49m\u001B[43m[\u001B[49m\u001B[43mtrain_feature_df\u001B[49m\u001B[43m,\u001B[49m\u001B[43m \u001B[49m\u001B[43mdev_feature_df\u001B[49m\u001B[43m]\u001B[49m\u001B[43m,\u001B[49m\u001B[43m \u001B[49m\u001B[43maxis\u001B[49m\u001B[38;5;241;43m=\u001B[39;49m\u001B[38;5;241;43m0\u001B[39;49m\u001B[43m)\u001B[49m)\n",
      "File \u001B[0;32m~/.pyenv/versions/3.9.5/envs/fraud-detection/lib/python3.9/site-packages/pandas/core/reshape/concat.py:385\u001B[0m, in \u001B[0;36mconcat\u001B[0;34m(objs, axis, join, ignore_index, keys, levels, names, verify_integrity, sort, copy)\u001B[0m\n\u001B[1;32m    370\u001B[0m     copy \u001B[38;5;241m=\u001B[39m \u001B[38;5;28;01mFalse\u001B[39;00m\n\u001B[1;32m    372\u001B[0m op \u001B[38;5;241m=\u001B[39m _Concatenator(\n\u001B[1;32m    373\u001B[0m     objs,\n\u001B[1;32m    374\u001B[0m     axis\u001B[38;5;241m=\u001B[39maxis,\n\u001B[0;32m   (...)\u001B[0m\n\u001B[1;32m    382\u001B[0m     sort\u001B[38;5;241m=\u001B[39msort,\n\u001B[1;32m    383\u001B[0m )\n\u001B[0;32m--> 385\u001B[0m \u001B[38;5;28;01mreturn\u001B[39;00m \u001B[43mop\u001B[49m\u001B[38;5;241;43m.\u001B[39;49m\u001B[43mget_result\u001B[49m\u001B[43m(\u001B[49m\u001B[43m)\u001B[49m\n",
      "File \u001B[0;32m~/.pyenv/versions/3.9.5/envs/fraud-detection/lib/python3.9/site-packages/pandas/core/reshape/concat.py:612\u001B[0m, in \u001B[0;36m_Concatenator.get_result\u001B[0;34m(self)\u001B[0m\n\u001B[1;32m    610\u001B[0m         obj_labels \u001B[38;5;241m=\u001B[39m obj\u001B[38;5;241m.\u001B[39maxes[\u001B[38;5;241m1\u001B[39m \u001B[38;5;241m-\u001B[39m ax]\n\u001B[1;32m    611\u001B[0m         \u001B[38;5;28;01mif\u001B[39;00m \u001B[38;5;129;01mnot\u001B[39;00m new_labels\u001B[38;5;241m.\u001B[39mequals(obj_labels):\n\u001B[0;32m--> 612\u001B[0m             indexers[ax] \u001B[38;5;241m=\u001B[39m \u001B[43mobj_labels\u001B[49m\u001B[38;5;241;43m.\u001B[39;49m\u001B[43mget_indexer\u001B[49m\u001B[43m(\u001B[49m\u001B[43mnew_labels\u001B[49m\u001B[43m)\u001B[49m\n\u001B[1;32m    614\u001B[0m     mgrs_indexers\u001B[38;5;241m.\u001B[39mappend((obj\u001B[38;5;241m.\u001B[39m_mgr, indexers))\n\u001B[1;32m    616\u001B[0m new_data \u001B[38;5;241m=\u001B[39m concatenate_managers(\n\u001B[1;32m    617\u001B[0m     mgrs_indexers, \u001B[38;5;28mself\u001B[39m\u001B[38;5;241m.\u001B[39mnew_axes, concat_axis\u001B[38;5;241m=\u001B[39m\u001B[38;5;28mself\u001B[39m\u001B[38;5;241m.\u001B[39mbm_axis, copy\u001B[38;5;241m=\u001B[39m\u001B[38;5;28mself\u001B[39m\u001B[38;5;241m.\u001B[39mcopy\n\u001B[1;32m    618\u001B[0m )\n",
      "File \u001B[0;32m~/.pyenv/versions/3.9.5/envs/fraud-detection/lib/python3.9/site-packages/pandas/core/indexes/base.py:3731\u001B[0m, in \u001B[0;36mIndex.get_indexer\u001B[0;34m(self, target, method, limit, tolerance)\u001B[0m\n\u001B[1;32m   3728\u001B[0m \u001B[38;5;28mself\u001B[39m\u001B[38;5;241m.\u001B[39m_check_indexing_method(method, limit, tolerance)\n\u001B[1;32m   3730\u001B[0m \u001B[38;5;28;01mif\u001B[39;00m \u001B[38;5;129;01mnot\u001B[39;00m \u001B[38;5;28mself\u001B[39m\u001B[38;5;241m.\u001B[39m_index_as_unique:\n\u001B[0;32m-> 3731\u001B[0m     \u001B[38;5;28;01mraise\u001B[39;00m InvalidIndexError(\u001B[38;5;28mself\u001B[39m\u001B[38;5;241m.\u001B[39m_requires_unique_msg)\n\u001B[1;32m   3733\u001B[0m \u001B[38;5;28;01mif\u001B[39;00m \u001B[38;5;28mlen\u001B[39m(target) \u001B[38;5;241m==\u001B[39m \u001B[38;5;241m0\u001B[39m:\n\u001B[1;32m   3734\u001B[0m     \u001B[38;5;28;01mreturn\u001B[39;00m np\u001B[38;5;241m.\u001B[39marray([], dtype\u001B[38;5;241m=\u001B[39mnp\u001B[38;5;241m.\u001B[39mintp)\n",
      "\u001B[0;31mInvalidIndexError\u001B[0m: Reindexing only valid with uniquely valued Index objects"
     ]
    }
   ],
   "source": [
    "import numpy as np\n",
    "\n",
    "S, V, F = np.linalg.svd(pd.concat([train_feature_df, dev_feature_df], axis=0))"
   ],
   "metadata": {
    "collapsed": false
   }
  },
  {
   "cell_type": "code",
   "execution_count": null,
   "outputs": [],
   "source": [
    "from umap import UMAP\n",
    "\n",
    "reducer = UMAP()\n",
    "S_train_low_dim = reducer.fit_transform(S_train[0])\n",
    "S_dev_low_dim = reducer.transform(S_dev[0])"
   ],
   "metadata": {
    "collapsed": false
   }
  },
  {
   "cell_type": "code",
   "execution_count": null,
   "outputs": [],
   "source": [
    "import plotly.express as px\n",
    "\n",
    "viz_df_train = pd.DataFrame({\n",
    "    \"x\": S_train_low_dim[:, 0],\n",
    "    \"y\": S_train_low_dim[: ,1],\n",
    "    \"user\": TRAIN_SEGMENT_COUNT * [user_id],\n",
    "    \"set\": TRAIN_SEGMENT_COUNT * [\"train\"]\n",
    "})\n",
    "\n",
    "px.scatter(pd.concat(viz_df_train, ), x=\"x\", y=\"y\", color=\"set\")"
   ],
   "metadata": {
    "collapsed": false
   }
  }
 ],
 "metadata": {
  "kernelspec": {
   "display_name": "Python 3",
   "language": "python",
   "name": "python3"
  },
  "language_info": {
   "codemirror_mode": {
    "name": "ipython",
    "version": 2
   },
   "file_extension": ".py",
   "mimetype": "text/x-python",
   "name": "python",
   "nbconvert_exporter": "python",
   "pygments_lexer": "ipython2",
   "version": "2.7.6"
  }
 },
 "nbformat": 4,
 "nbformat_minor": 0
}
