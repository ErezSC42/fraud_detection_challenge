{
 "cells": [
  {
   "cell_type": "code",
   "execution_count": 28,
   "outputs": [],
   "source": [
    "import os\n",
    "import numpy as np\n",
    "import pandas as pd\n",
    "from typing import Tuple, List, Dict\n",
    "from constants import *\n"
   ],
   "metadata": {
    "collapsed": false,
    "ExecuteTime": {
     "end_time": "2023-05-21T19:05:10.998876885Z",
     "start_time": "2023-05-21T19:05:10.958172784Z"
    }
   }
  },
  {
   "cell_type": "code",
   "execution_count": 2,
   "outputs": [],
   "source": [
    "def user_list_to_df(user_id: str, user_data_list: List[str]):\n",
    "    df_user = pd.DataFrame({\n",
    "        \"cmd\": user_data_list\n",
    "    })\n",
    "    df_user[\"user\"] = user_id\n",
    "    df_user[\"split\"] = \"train\"\n",
    "    df_user[\"segment_id\"] = np.repeat(range(0, int(len(user_data_list) / SEGMENT_LEN)), SEGMENT_LEN)\n",
    "    df_user[\"cmd\"] = df_user[\"cmd\"].astype(\"category\")\n",
    "    return df_user\n",
    "\n",
    "\n",
    "def load_user_data(user_id: str, file_path: os.PathLike) -> Tuple[pd.DataFrame, pd.DataFrame]:\n",
    "    with open(file_path, \"r\") as fp:\n",
    "        user_data = fp.readlines()\n",
    "        user_data = [s.strip() for s in user_data]\n",
    "\n",
    "    # get training data:\n",
    "    train_user_data = user_data[:TRAIN_HEADER_COUNT]\n",
    "    test_user_data = user_data[TRAIN_HEADER_COUNT:]\n",
    "\n",
    "    # convert to dataframes\n",
    "    train_segments = user_list_to_df(user_id, train_user_data)\n",
    "    test_segments = user_list_to_df(user_id, test_user_data)\n",
    "\n",
    "    return train_segments, test_segments"
   ],
   "metadata": {
    "collapsed": false,
    "ExecuteTime": {
     "end_time": "2023-05-21T18:26:28.395682958Z",
     "start_time": "2023-05-21T18:26:28.394207062Z"
    }
   }
  },
  {
   "cell_type": "code",
   "execution_count": 8,
   "outputs": [],
   "source": [
    "''' load all user data '''\n",
    "\n",
    "global_cmds = set()\n",
    "\n",
    "\n",
    "data_list = []\n",
    "\n",
    "for user_count in range(40):\n",
    "    user_id = f\"User{user_count}\"\n",
    "    user_file_path = os.path.join(\"data\", user_id)\n",
    "\n",
    "    df_user0_train, df_user0_test = load_user_data(user_id, user_file_path)\n",
    "\n",
    "    data_list.append(df_user0_train)\n",
    "    data_list.append(df_user0_test)\n",
    "    ''' all commands '''\n",
    "\n",
    "    user_cmd_set_train = set(df_user0_train[\"cmd\"].unique())\n",
    "    user_cmd_set_test = set(df_user0_test[\"cmd\"].unique())\n",
    "\n",
    "    user_cmd_set = user_cmd_set_test.union(user_cmd_set_train)\n",
    "\n",
    "    global_cmds = global_cmds.union(user_cmd_set)"
   ],
   "metadata": {
    "collapsed": false,
    "ExecuteTime": {
     "end_time": "2023-05-21T18:34:58.656266139Z",
     "start_time": "2023-05-21T18:34:58.450785082Z"
    }
   }
  },
  {
   "cell_type": "code",
   "execution_count": 4,
   "outputs": [],
   "source": [
    "with open(\"global_cmds.txt\", \"w\") as fp:\n",
    "    global_cmds = list(global_cmds)\n",
    "    global_cmds.sort()\n",
    "    fp.writelines(\"\\n\".join(global_cmds))"
   ],
   "metadata": {
    "collapsed": false,
    "ExecuteTime": {
     "end_time": "2023-05-21T18:26:28.567465957Z",
     "start_time": "2023-05-21T18:26:28.561368269Z"
    }
   }
  },
  {
   "cell_type": "code",
   "execution_count": 15,
   "outputs": [],
   "source": [
    "# TODO - calculate command TFIDF scores\n",
    "\n",
    "all_df = pd.concat(data_list, axis=0)\n",
    "all_segments_df = all_df.groupby([\"user\",\"segment_id\"]).transform(lambda x: ' '.join(x)).drop_duplicates()\n",
    "from sklearn.feature_extraction.text import TfidfVectorizer\n",
    "\n",
    "corpus = all_segments_df[\"cmd\"].tolist()\n",
    "\n",
    "\n",
    "vectorizer = TfidfVectorizer()\n",
    "\n"
   ],
   "metadata": {
    "collapsed": false,
    "ExecuteTime": {
     "end_time": "2023-05-21T18:40:56.248729806Z",
     "start_time": "2023-05-21T18:40:54.153109051Z"
    }
   }
  },
  {
   "cell_type": "code",
   "execution_count": 16,
   "outputs": [],
   "source": [
    "X = vectorizer.fit_transform(corpus)"
   ],
   "metadata": {
    "collapsed": false,
    "ExecuteTime": {
     "end_time": "2023-05-21T18:41:25.043498269Z",
     "start_time": "2023-05-21T18:41:24.809962825Z"
    }
   }
  },
  {
   "cell_type": "code",
   "execution_count": 17,
   "outputs": [
    {
     "data": {
      "text/plain": "<3836x747 sparse matrix of type '<class 'numpy.float64'>'\n\twith 117287 stored elements in Compressed Sparse Row format>"
     },
     "execution_count": 17,
     "metadata": {},
     "output_type": "execute_result"
    }
   ],
   "source": [
    "X"
   ],
   "metadata": {
    "collapsed": false,
    "ExecuteTime": {
     "end_time": "2023-05-21T18:41:27.048635239Z",
     "start_time": "2023-05-21T18:41:27.014543665Z"
    }
   }
  },
  {
   "cell_type": "code",
   "execution_count": 18,
   "outputs": [],
   "source": [
    "tfidf_tokens = vectorizer.get_feature_names_out()"
   ],
   "metadata": {
    "collapsed": false,
    "ExecuteTime": {
     "end_time": "2023-05-21T18:41:34.322736245Z",
     "start_time": "2023-05-21T18:41:34.286475316Z"
    }
   }
  },
  {
   "cell_type": "code",
   "execution_count": 27,
   "outputs": [
    {
     "data": {
      "text/plain": "['20',\n '4dwm',\n '5650',\n '5836',\n '7105',\n '7956',\n '8117',\n '8708',\n '9term',\n 'aa',\n 'aacdec',\n 'acc',\n 'acroread',\n 'add',\n 'addrinfo',\n 'agen',\n 'agrep',\n 'aiffplay',\n 'ama',\n 'ama_volu',\n 'apanel',\n 'appdefpa',\n 'ar',\n 'arch',\n 'archie',\n 'arp',\n 'as',\n 'as1',\n 'ascii',\n 'augment_',\n 'aupanel',\n 'auplay',\n 'aus',\n 'autoconf',\n 'awk',\n 'backtalk',\n 'backup',\n 'basename',\n 'bash',\n 'bb_rep',\n 'bb_rep_f',\n 'bb_rep_n',\n 'bb_rep_t',\n 'bc',\n 'bdftopcf',\n 'be',\n 'bibtex',\n 'bindkey',\n 'binhex',\n 'bison',\n 'blossom4',\n 'bo_rep',\n 'bo_rep_c',\n 'bo_rep_f',\n 'bo_rep_t',\n 'bo_table',\n 'bo_top',\n 'bo_type',\n 'btbuild',\n 'btcreat',\n 'byte_rev',\n 'cal',\n 'calendar',\n 'call_fil',\n 'calldd',\n 'calprog',\n 'cancel',\n 'capture',\n 'cat',\n 'catalog',\n 'catdoc',\n 'cc',\n 'cc1',\n 'cdc',\n 'cdec',\n 'cfe',\n 'cgiparse',\n 'chat',\n 'chec',\n 'chkconfi',\n 'chmod',\n 'chown',\n 'ci',\n 'cled',\n 'cled_jct',\n 'clock',\n 'cmex',\n 'cmp',\n 'co',\n 'col',\n 'comm',\n 'comma',\n 'compress',\n 'concorde',\n 'config',\n 'configur',\n 'conftest',\n 'convert',\n 'cpeek',\n 'cpio',\n 'cplex',\n 'cpp',\n 'crnl',\n 'crontab',\n 'crypt',\n 'csh',\n 'ctags',\n 'cut',\n 'cxwsh',\n 'data_cl',\n 'date',\n 'dbx',\n 'dbxpcs',\n 'dc',\n 'dd',\n 'ddd',\n 'ddtest',\n 'dec',\n 'define',\n 'delta',\n 'demo',\n 'deroff',\n 'desktopm',\n 'detail_o',\n 'detex',\n 'dev',\n 'df',\n 'dialog',\n 'dict',\n 'dif',\n 'diff',\n 'dig',\n 'dirname',\n 'do',\n 'doc2ps',\n 'doctype',\n 'domainna',\n 'dot',\n 'download',\n 'dpost',\n 'drag',\n 'drag2',\n 'drawgrap',\n 'drf',\n 'drill_do',\n 'driver',\n 'driverwr',\n 'ds_ar',\n 'du',\n 'dvipost',\n 'dvips',\n 'dviselec',\n 'echo',\n 'ed',\n 'edg_prel',\n 'edgcpfe',\n 'edgegen',\n 'efm',\n 'egrep',\n 'elm',\n 'emacs',\n 'emrvol',\n 'enc',\n 'endsessi',\n 'engine',\n 'enscript',\n 'env',\n 'eptofax',\n 'eqn',\n 'etags',\n 'euphony',\n 'euphony3',\n 'ex',\n 'exe',\n 'expr',\n 'expreser',\n 'exrecove',\n 'extract_',\n 'f2ps',\n 'faces',\n 'false',\n 'fastmail',\n 'fec',\n 'fecc',\n 'fgrep',\n 'field',\n 'fifo',\n 'fig2dev',\n 'file',\n 'filt',\n 'fin',\n 'find',\n 'find_rt',\n 'findobj',\n 'finger',\n 'fish2',\n 'fish4',\n 'flex',\n 'flock',\n 'flog',\n 'flow',\n 'fm',\n 'fmarch',\n 'fmt',\n 'fold',\n 'foo',\n 'force_up',\n 'format',\n 'frm',\n 'ftp',\n 'fx',\n 'fxfilter',\n 'fxprint',\n 'fxsend',\n 'fxshut',\n 'fxstat',\n 'fxstatus',\n 'fxvision',\n 'gawk',\n 'gcc',\n 'gdb',\n 'gdiff',\n 'generic',\n 'gengraph',\n 'get',\n 'get_acc',\n 'get_acc_',\n 'get_line',\n 'getans',\n 'getconf',\n 'gethost',\n 'getopt',\n 'getpgrp',\n 'getsampl',\n 'gettxt',\n 'gftopk',\n 'ghostvie',\n 'gimp',\n 'gmake',\n 'gnuplot',\n 'gnuplot_',\n 'gordon',\n 'gp',\n 'gr_top',\n 'graph_te',\n 'gre',\n 'grep',\n 'gs',\n 'gsftopk',\n 'gv',\n 'gzip',\n 'head',\n 'heartche',\n 'help',\n 'help2',\n 'hexbin',\n 'hightoll',\n 'hilow',\n 'hinv',\n 'hippo',\n 'hoc',\n 'hostname',\n 'hourl',\n 'hpost',\n 'ht',\n 'html',\n 'htn_date',\n 'htn_edit',\n 'htn_repo',\n 'hype',\n 'ico',\n 'id',\n 'identify',\n 'imake',\n 'imgview',\n 'in',\n 'inc',\n 'init_src',\n 'inline',\n 'insta',\n 'install',\n 'interest',\n 'ipeek',\n 'ispell',\n 'j11',\n 'jar',\n 'java',\n 'java_wr',\n 'javac',\n 'join',\n 'jot',\n 'jre',\n 'justlex',\n 'justspec',\n 'keep_up',\n 'key',\n 'keyg',\n 'kill',\n 'killall',\n 'kludgepl',\n 'kmist',\n 'ksh',\n 'last',\n 'launchef',\n 'lc',\n 'lcc',\n 'ld',\n 'ld64_',\n 'ld_',\n 'lec',\n 'lec2',\n 'led',\n 'less',\n 'lex',\n 'line',\n 'lint',\n 'lint1',\n 'lint2',\n 'list',\n 'list2',\n 'lks',\n 'lmstat',\n 'ln',\n 'lo',\n 'local',\n 'lock',\n 'long',\n 'lp',\n 'lp2col',\n 'lpdsend',\n 'lpe3',\n 'lpq',\n 'lpr',\n 'lps',\n 'ls',\n 'm4',\n 'macunpac',\n 'magma',\n 'mail',\n 'mailbox',\n 'mailp',\n 'mailx',\n 'main',\n 'make',\n 'make_del',\n 'make_hig',\n 'make_tod',\n 'maker5x',\n 'maker_w',\n 'maketexp',\n 'makexgvi',\n 'man',\n 'maple',\n 'mapletty',\n 'matlab',\n 'matlab_l',\n 'mbackup',\n 'mc',\n 'mediamai',\n 'mesg',\n 'metamail',\n 'mhl',\n 'mhn',\n 'mi',\n 'mimencod',\n 'mkdir',\n 'mkfontdi',\n 'mkpts',\n 'more',\n 'mosaic',\n 'moti',\n 'movemail',\n 'moviepla',\n 'mp',\n 'mpeg_pla',\n 'mplotcha',\n 'mplotps',\n 'mplottek',\n 'mplotx11',\n 'msort',\n 'munpack',\n 'my',\n 'mycut',\n 'mycut2',\n 'mysql',\n 'mysql_in',\n 'mysqladm',\n 'mywsh',\n 'named',\n 'nawk',\n 'ncdquery',\n 'neato',\n 'nedit',\n 'neqn',\n 'netscape',\n 'netstat',\n 'new',\n 'newalias',\n 'news',\n 'nfsstat',\n 'nlcrack',\n 'nlcrack2',\n 'nlgen',\n 'nlx',\n 'nly',\n 'nlz',\n 'nlz2',\n 'nm',\n 'nm_elf',\n 'nohup',\n 'npasplit',\n 'nr',\n 'nroff',\n 'ns',\n 'nscal',\n 'nslookup',\n 'ntrim',\n 'od',\n 'oli',\n 'opnet',\n 'orig',\n 'orig_sca',\n 'out',\n 'overlap',\n 'overlap2',\n 'pacdec',\n 'pagemail',\n 'panel_te',\n 'passwd',\n 'paste',\n 'patch',\n 'payphone',\n 'pcst',\n 'pcst1',\n 'pdf2ps',\n 'perl',\n 'pftp',\n 'pg',\n 'pine',\n 'ping',\n 'pl',\n 'plaid',\n 'platform',\n 'polar',\n 'popper',\n 'post',\n 'postprin',\n 'postreve',\n 'pow',\n 'ppost',\n 'ppq',\n 'ppqcomma',\n 'pq',\n 'pr',\n 'prefix',\n 'print_ca',\n 'print_de',\n 'print_do',\n 'print_sc',\n 'print_us',\n 'printf',\n 'priso',\n 'prison_f',\n 'prison_p',\n 'prison_r',\n 'prisoncs',\n 'prn',\n 'pro',\n 'prof',\n 'profile',\n 'ps',\n 'ps2pdf',\n 'psnr',\n 'psu',\n 'ptelnet',\n 'pur',\n 'purify',\n 'pwd',\n 'q_eg',\n 'q_egtest',\n 'q_test',\n 'qk',\n 'qpage',\n 'quota',\n 'randseq',\n 'rbnull',\n 'rcc',\n 'rcp',\n 'rcsdiff',\n 'rdistd',\n 're',\n 'rea',\n 'readmsg',\n 'reaper',\n 'red',\n 'reducyr',\n 'register',\n 'resize',\n 'rexecd',\n 'rftp',\n 'richtext',\n 'rlogin',\n 'rm',\n 'rmail',\n 'rmdir',\n 'rmm',\n 'rootless',\n 'rpcinfo',\n 'rsh',\n 'rshd',\n 'rtslave',\n 'run_swin',\n 'runnit',\n 'rup',\n 'ruptime',\n 'rusers',\n 'rvplayer',\n 'rwho',\n 'sam',\n 'sample',\n 'samterm',\n 'scamp_fi',\n 'scamp_pr',\n 'scamp_to',\n 'scampdet',\n 'scan',\n 'scatter_',\n 'scheme',\n 'scp',\n 'scroll_t',\n 'sdec',\n 'sed',\n 'see_scam',\n 'seecalls',\n 'sendmail',\n 'seq',\n 'setup',\n 'sfplay',\n 'sfstdgen',\n 'sgihelp',\n 'sgo',\n 'sh',\n 'shar',\n 'shelpmot',\n 'show',\n 'show_fil',\n 'showcal',\n 'showdoc',\n 'showfile',\n 'shownona',\n 'showprod',\n 'showps',\n 'sizup',\n 'sl',\n 'sleep',\n 'slide',\n 'slmclien',\n 'slmhelpe',\n 'slogin',\n 'sor',\n 'sort',\n 'soundpla',\n 'spec',\n 'spell',\n 'split',\n 'splitmai',\n 'sprog',\n 'sq',\n 'sqp_fill',\n 'sqpe',\n 'squirrel',\n 'ssh',\n 'ssplay',\n 'stat_ind',\n 'states',\n 'std_date',\n 'stream_b',\n 'stream_t',\n 'strings',\n 'stripper',\n 'stty',\n 'su',\n 'suepope4',\n 'sum',\n 'summary',\n 'swap',\n 'sy',\n 'sysinfo',\n 'tail',\n 'talk',\n 'tar',\n 'tbl',\n 'tcm',\n 'tcm5na',\n 'tcm8',\n 'tcm8a',\n 'tcm8na',\n 'tcpostio',\n 'tcppost',\n 'tcsh',\n 'te',\n 'tee',\n 'tektroni',\n 'tel',\n 'tellwm',\n 'telnet',\n 'telno',\n 'tes',\n 'test',\n 'test2',\n 'tester',\n 'testfont',\n 'testhist',\n 'text_are',\n 'tftp',\n 'tifftofa',\n 'time',\n 'toolches',\n 'top',\n 'touch',\n 'tput',\n 'tr',\n 'tracerou',\n 'tracy',\n 'trit',\n 'trn',\n 'troff',\n 'true',\n 'tset',\n 'ttcm',\n 'ttcm8',\n 'tty',\n 'twm',\n 'twoprint',\n 'ugen',\n 'ul',\n 'uname',\n 'uniq',\n 'unlock',\n 'unpack',\n 'unzip',\n 'uopt',\n 'update',\n 'use_abus',\n 'userenv',\n 'uudecode',\n 'uuencode',\n 'uuname',\n 'v10sort',\n 'vacation',\n 'vc',\n 'vim',\n 'vinay',\n 'vipw',\n 'virmf',\n 'virtex',\n 'vis',\n 'volumes',\n 'vreg',\n 'vsimsg',\n 'vsiupdst',\n 'vt100',\n 'vtwm',\n 'w3c',\n 'wait4wm',\n 'wc',\n 'wdefine',\n 'webify',\n 'webmagic',\n 'what',\n 'where',\n 'whereis',\n 'which',\n 'who',\n 'whoami',\n 'whodo',\n 'whois',\n 'window_t',\n 'windows',\n 'worklist',\n 'wrapper',\n 'x11',\n 'x11perf',\n 'x3270',\n 'xargs',\n 'xauth',\n 'xbiff',\n 'xcal',\n 'xcalc',\n 'xcalenda',\n 'xclock',\n 'xconfirm',\n 'xdemineu',\n 'xdiff',\n 'xdm',\n 'xdpyinfo',\n 'xdvi',\n 'xemacs',\n 'xev',\n 'xfig',\n 'xfontsel',\n 'xfs',\n 'xgobi',\n 'xgvis',\n 'xhost',\n 'xinitrc',\n 'xinitrem',\n 'xlbiff',\n 'xload',\n 'xloadima',\n 'xlsclien',\n 'xlsfonts',\n 'xmag',\n 'xman',\n 'xmaplev4',\n 'xmaplev5',\n 'xmessage',\n 'xmh',\n 'xmineswe',\n 'xmkmf',\n 'xmodmap',\n 'xpaint',\n 'xpr',\n 'xprop',\n 'xrdb',\n 'xremote',\n 'xrn',\n 'xrt_auth',\n 'xrtld',\n 'xsessio',\n 'xsession',\n 'xset',\n 'xsetroot',\n 'xt',\n 'xterm',\n 'xupdate',\n 'xv',\n 'xwd',\n 'xwininfo',\n 'xwsh',\n 'xxx',\n 'yacc',\n 'ypcat',\n 'yppasswd',\n 'zip',\n 'zubs',\n 'zz2']"
     },
     "execution_count": 27,
     "metadata": {},
     "output_type": "execute_result"
    }
   ],
   "source": [
    "tfidf_tokens.tolist()"
   ],
   "metadata": {
    "collapsed": false,
    "ExecuteTime": {
     "end_time": "2023-05-21T19:04:29.698945113Z",
     "start_time": "2023-05-21T19:04:29.691010966Z"
    }
   }
  },
  {
   "cell_type": "code",
   "execution_count": 21,
   "outputs": [
    {
     "data": {
      "text/plain": "<1x747 sparse matrix of type '<class 'numpy.float64'>'\n\twith 28 stored elements in Compressed Sparse Row format>"
     },
     "execution_count": 21,
     "metadata": {},
     "output_type": "execute_result"
    }
   ],
   "source": [
    "vectorizer.transform([corpus[0]])"
   ],
   "metadata": {
    "collapsed": false,
    "ExecuteTime": {
     "end_time": "2023-05-21T18:43:13.090909740Z",
     "start_time": "2023-05-21T18:43:13.049025482Z"
    }
   }
  },
  {
   "cell_type": "code",
   "execution_count": 22,
   "outputs": [],
   "source": [
    "import pickle"
   ],
   "metadata": {
    "collapsed": false,
    "ExecuteTime": {
     "end_time": "2023-05-21T18:43:38.571767401Z",
     "start_time": "2023-05-21T18:43:38.566700335Z"
    }
   }
  },
  {
   "cell_type": "code",
   "execution_count": 24,
   "outputs": [],
   "source": [
    "with open(\"tfidf_vectorizer.pkl\", \"wb\") as fp:\n",
    "    pickle.dump(vectorizer, fp)"
   ],
   "metadata": {
    "collapsed": false,
    "ExecuteTime": {
     "end_time": "2023-05-21T18:44:20.173521037Z",
     "start_time": "2023-05-21T18:44:20.170023463Z"
    }
   }
  },
  {
   "cell_type": "code",
   "execution_count": 25,
   "outputs": [
    {
     "data": {
      "text/plain": "array([[0.        , 0.        , 0.        , ..., 0.        , 0.        ,\n        0.        ],\n       [0.        , 0.        , 0.        , ..., 0.        , 0.        ,\n        0.        ],\n       [0.07485462, 0.        , 0.        , ..., 0.        , 0.        ,\n        0.        ],\n       ...,\n       [0.        , 0.        , 0.        , ..., 0.        , 0.        ,\n        0.        ],\n       [0.        , 0.        , 0.        , ..., 0.        , 0.        ,\n        0.        ],\n       [0.        , 0.        , 0.        , ..., 0.        , 0.        ,\n        0.        ]])"
     },
     "execution_count": 25,
     "metadata": {},
     "output_type": "execute_result"
    }
   ],
   "source": [
    "X.toarray()"
   ],
   "metadata": {
    "collapsed": false,
    "ExecuteTime": {
     "end_time": "2023-05-21T18:45:02.925828965Z",
     "start_time": "2023-05-21T18:45:02.913740552Z"
    }
   }
  },
  {
   "cell_type": "code",
   "execution_count": null,
   "outputs": [],
   "source": [],
   "metadata": {
    "collapsed": false
   }
  }
 ],
 "metadata": {
  "kernelspec": {
   "display_name": "Python 3",
   "language": "python",
   "name": "python3"
  },
  "language_info": {
   "codemirror_mode": {
    "name": "ipython",
    "version": 2
   },
   "file_extension": ".py",
   "mimetype": "text/x-python",
   "name": "python",
   "nbconvert_exporter": "python",
   "pygments_lexer": "ipython2",
   "version": "2.7.6"
  }
 },
 "nbformat": 4,
 "nbformat_minor": 0
}
